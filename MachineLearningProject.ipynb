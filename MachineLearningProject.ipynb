{
 "cells": [
  {
   "cell_type": "markdown",
   "id": "6e094041",
   "metadata": {},
   "source": [
    "<center><h2>Projeto final de Machine Learning</h2></center>\n",
    "<center><h3>Previsão de receita de filmes</h3></center>\n",
    "<br />\n",
    "<center>Alunos: Gabriela Caruso, Guilherme Roccato e Pedro Paulo Telho</center>\n",
    "\n"
   ]
  },
  {
   "cell_type": "markdown",
   "id": "85366442",
   "metadata": {},
   "source": [
    "# Introdução"
   ]
  },
  {
   "cell_type": "markdown",
   "id": "c631203f",
   "metadata": {},
   "source": [
    "<p style=\"text-align: justify\" align=\"justify\">A indústria cinematográfica é reconhecida por suas diversas obras primas. Prêmios como Oscar, Globo de Ouro e Emmy são apenas alguns dos que recompensam os seus atores, diretores, produtores etc. Além disso, muito dinheiro é movimentado tanto em forma de investimento para a produção dos filmes como em forma de receita após o lançamento.</p>\n",
    "\n",
    "<p style=\"text-align: justify\" align=\"justify\">Nesse contexto, o objetivo do projeto é prever quanto de receita um filme pode gerar para que não se tenha prejuízo durante suas produções.</p>\n",
    "<p style=\"text-align: justify\" align=\"justify\">Para isso, será criado um modelo de regressão através da base de dados: <a href=\"https://www.kaggle.com/tmdb/tmdb-movie-metadata/version/2?select=tmdb_5000_movies.csv\" >TMDb 5000 movies dataset</a></p>"
   ]
  },
  {
   "cell_type": "markdown",
   "id": "4c998915",
   "metadata": {},
   "source": [
    "# Metodologia"
   ]
  },
  {
   "cell_type": "markdown",
   "id": "9c4d560b",
   "metadata": {},
   "source": [
    "<p style=\"text-align: justify\" align=\"justify\">Nessa seção será apresentada a forma em que o modelo foi construído: bibliotecas necessárias, exploração dos dados e técnicas de inferência para definição do melhor modelo de machine learning para o problema.</p>"
   ]
  },
  {
   "cell_type": "markdown",
   "id": "3b5a1580",
   "metadata": {},
   "source": [
    "### Importando bibliotecas necessárias:"
   ]
  },
  {
   "cell_type": "code",
   "execution_count": 1,
   "id": "a22e3ec0",
   "metadata": {},
   "outputs": [],
   "source": [
    "%matplotlib inline\n",
    "import matplotlib.pyplot as plt\n",
    "import numpy as np\n",
    "import pandas as pd\n",
    "\n",
    "import sys\n",
    "\n",
    "import numpy as np\n",
    "import scipy.sparse\n",
    "\n",
    "import sklearn.linear_model\n",
    "import sklearn.datasets\n",
    "import sklearn.svm\n",
    "import sklearn.metrics\n",
    "import sklearn.decomposition\n",
    "import sklearn.feature_extraction.text\n",
    "import sklearn.utils.sparsefuncs\n",
    "\n",
    "import logging\n",
    "\n",
    "import json"
   ]
  },
  {
   "cell_type": "code",
   "execution_count": 2,
   "id": "f65e8210",
   "metadata": {},
   "outputs": [],
   "source": [
    "RANDOM_SEED = 42\n",
    "np.random.seed(RANDOM_SEED)"
   ]
  },
  {
   "cell_type": "markdown",
   "id": "ec5d95e8",
   "metadata": {},
   "source": [
    "### Carregando os dados:"
   ]
  },
  {
   "cell_type": "code",
   "execution_count": 3,
   "id": "ed948aad",
   "metadata": {},
   "outputs": [],
   "source": [
    "movies = pd.read_csv(\"tmdb_5000_movies.csv\")\n",
    "credits = pd.read_csv(\"tmdb_5000_credits.csv\")"
   ]
  },
  {
   "cell_type": "markdown",
   "id": "58544844",
   "metadata": {},
   "source": [
    "Mesclando créditos e filmes:"
   ]
  },
  {
   "cell_type": "code",
   "execution_count": 4,
   "id": "d5a27890",
   "metadata": {},
   "outputs": [],
   "source": [
    "credits = credits[['movie_id', 'cast', 'crew']]\n",
    "credits = credits.rename(columns = {'movie_id': 'id'})\n",
    "movies = pd.merge(movies,credits,on='id',how='left')"
   ]
  },
  {
   "cell_type": "code",
   "execution_count": 5,
   "id": "d8b1df0b",
   "metadata": {},
   "outputs": [],
   "source": [
    "movies_copy = movies.copy()"
   ]
  },
  {
   "cell_type": "code",
   "execution_count": 6,
   "id": "79a4e845",
   "metadata": {
    "scrolled": true
   },
   "outputs": [
    {
     "data": {
      "text/html": [
       "<div>\n",
       "<style scoped>\n",
       "    .dataframe tbody tr th:only-of-type {\n",
       "        vertical-align: middle;\n",
       "    }\n",
       "\n",
       "    .dataframe tbody tr th {\n",
       "        vertical-align: top;\n",
       "    }\n",
       "\n",
       "    .dataframe thead th {\n",
       "        text-align: right;\n",
       "    }\n",
       "</style>\n",
       "<table border=\"1\" class=\"dataframe\">\n",
       "  <thead>\n",
       "    <tr style=\"text-align: right;\">\n",
       "      <th></th>\n",
       "      <th>budget</th>\n",
       "      <th>genres</th>\n",
       "      <th>homepage</th>\n",
       "      <th>id</th>\n",
       "      <th>keywords</th>\n",
       "      <th>original_language</th>\n",
       "      <th>original_title</th>\n",
       "      <th>overview</th>\n",
       "      <th>popularity</th>\n",
       "      <th>production_companies</th>\n",
       "      <th>...</th>\n",
       "      <th>revenue</th>\n",
       "      <th>runtime</th>\n",
       "      <th>spoken_languages</th>\n",
       "      <th>status</th>\n",
       "      <th>tagline</th>\n",
       "      <th>title</th>\n",
       "      <th>vote_average</th>\n",
       "      <th>vote_count</th>\n",
       "      <th>cast</th>\n",
       "      <th>crew</th>\n",
       "    </tr>\n",
       "  </thead>\n",
       "  <tbody>\n",
       "    <tr>\n",
       "      <th>0</th>\n",
       "      <td>237000000</td>\n",
       "      <td>[{\"id\": 28, \"name\": \"Action\"}, {\"id\": 12, \"nam...</td>\n",
       "      <td>http://www.avatarmovie.com/</td>\n",
       "      <td>19995</td>\n",
       "      <td>[{\"id\": 1463, \"name\": \"culture clash\"}, {\"id\":...</td>\n",
       "      <td>en</td>\n",
       "      <td>Avatar</td>\n",
       "      <td>In the 22nd century, a paraplegic Marine is di...</td>\n",
       "      <td>150.437577</td>\n",
       "      <td>[{\"name\": \"Ingenious Film Partners\", \"id\": 289...</td>\n",
       "      <td>...</td>\n",
       "      <td>2787965087</td>\n",
       "      <td>162.0</td>\n",
       "      <td>[{\"iso_639_1\": \"en\", \"name\": \"English\"}, {\"iso...</td>\n",
       "      <td>Released</td>\n",
       "      <td>Enter the World of Pandora.</td>\n",
       "      <td>Avatar</td>\n",
       "      <td>7.2</td>\n",
       "      <td>11800</td>\n",
       "      <td>[{\"cast_id\": 242, \"character\": \"Jake Sully\", \"...</td>\n",
       "      <td>[{\"credit_id\": \"52fe48009251416c750aca23\", \"de...</td>\n",
       "    </tr>\n",
       "    <tr>\n",
       "      <th>1</th>\n",
       "      <td>300000000</td>\n",
       "      <td>[{\"id\": 12, \"name\": \"Adventure\"}, {\"id\": 14, \"...</td>\n",
       "      <td>http://disney.go.com/disneypictures/pirates/</td>\n",
       "      <td>285</td>\n",
       "      <td>[{\"id\": 270, \"name\": \"ocean\"}, {\"id\": 726, \"na...</td>\n",
       "      <td>en</td>\n",
       "      <td>Pirates of the Caribbean: At World's End</td>\n",
       "      <td>Captain Barbossa, long believed to be dead, ha...</td>\n",
       "      <td>139.082615</td>\n",
       "      <td>[{\"name\": \"Walt Disney Pictures\", \"id\": 2}, {\"...</td>\n",
       "      <td>...</td>\n",
       "      <td>961000000</td>\n",
       "      <td>169.0</td>\n",
       "      <td>[{\"iso_639_1\": \"en\", \"name\": \"English\"}]</td>\n",
       "      <td>Released</td>\n",
       "      <td>At the end of the world, the adventure begins.</td>\n",
       "      <td>Pirates of the Caribbean: At World's End</td>\n",
       "      <td>6.9</td>\n",
       "      <td>4500</td>\n",
       "      <td>[{\"cast_id\": 4, \"character\": \"Captain Jack Spa...</td>\n",
       "      <td>[{\"credit_id\": \"52fe4232c3a36847f800b579\", \"de...</td>\n",
       "    </tr>\n",
       "    <tr>\n",
       "      <th>2</th>\n",
       "      <td>245000000</td>\n",
       "      <td>[{\"id\": 28, \"name\": \"Action\"}, {\"id\": 12, \"nam...</td>\n",
       "      <td>http://www.sonypictures.com/movies/spectre/</td>\n",
       "      <td>206647</td>\n",
       "      <td>[{\"id\": 470, \"name\": \"spy\"}, {\"id\": 818, \"name...</td>\n",
       "      <td>en</td>\n",
       "      <td>Spectre</td>\n",
       "      <td>A cryptic message from Bond’s past sends him o...</td>\n",
       "      <td>107.376788</td>\n",
       "      <td>[{\"name\": \"Columbia Pictures\", \"id\": 5}, {\"nam...</td>\n",
       "      <td>...</td>\n",
       "      <td>880674609</td>\n",
       "      <td>148.0</td>\n",
       "      <td>[{\"iso_639_1\": \"fr\", \"name\": \"Fran\\u00e7ais\"},...</td>\n",
       "      <td>Released</td>\n",
       "      <td>A Plan No One Escapes</td>\n",
       "      <td>Spectre</td>\n",
       "      <td>6.3</td>\n",
       "      <td>4466</td>\n",
       "      <td>[{\"cast_id\": 1, \"character\": \"James Bond\", \"cr...</td>\n",
       "      <td>[{\"credit_id\": \"54805967c3a36829b5002c41\", \"de...</td>\n",
       "    </tr>\n",
       "    <tr>\n",
       "      <th>3</th>\n",
       "      <td>250000000</td>\n",
       "      <td>[{\"id\": 28, \"name\": \"Action\"}, {\"id\": 80, \"nam...</td>\n",
       "      <td>http://www.thedarkknightrises.com/</td>\n",
       "      <td>49026</td>\n",
       "      <td>[{\"id\": 849, \"name\": \"dc comics\"}, {\"id\": 853,...</td>\n",
       "      <td>en</td>\n",
       "      <td>The Dark Knight Rises</td>\n",
       "      <td>Following the death of District Attorney Harve...</td>\n",
       "      <td>112.312950</td>\n",
       "      <td>[{\"name\": \"Legendary Pictures\", \"id\": 923}, {\"...</td>\n",
       "      <td>...</td>\n",
       "      <td>1084939099</td>\n",
       "      <td>165.0</td>\n",
       "      <td>[{\"iso_639_1\": \"en\", \"name\": \"English\"}]</td>\n",
       "      <td>Released</td>\n",
       "      <td>The Legend Ends</td>\n",
       "      <td>The Dark Knight Rises</td>\n",
       "      <td>7.6</td>\n",
       "      <td>9106</td>\n",
       "      <td>[{\"cast_id\": 2, \"character\": \"Bruce Wayne / Ba...</td>\n",
       "      <td>[{\"credit_id\": \"52fe4781c3a36847f81398c3\", \"de...</td>\n",
       "    </tr>\n",
       "    <tr>\n",
       "      <th>4</th>\n",
       "      <td>260000000</td>\n",
       "      <td>[{\"id\": 28, \"name\": \"Action\"}, {\"id\": 12, \"nam...</td>\n",
       "      <td>http://movies.disney.com/john-carter</td>\n",
       "      <td>49529</td>\n",
       "      <td>[{\"id\": 818, \"name\": \"based on novel\"}, {\"id\":...</td>\n",
       "      <td>en</td>\n",
       "      <td>John Carter</td>\n",
       "      <td>John Carter is a war-weary, former military ca...</td>\n",
       "      <td>43.926995</td>\n",
       "      <td>[{\"name\": \"Walt Disney Pictures\", \"id\": 2}]</td>\n",
       "      <td>...</td>\n",
       "      <td>284139100</td>\n",
       "      <td>132.0</td>\n",
       "      <td>[{\"iso_639_1\": \"en\", \"name\": \"English\"}]</td>\n",
       "      <td>Released</td>\n",
       "      <td>Lost in our world, found in another.</td>\n",
       "      <td>John Carter</td>\n",
       "      <td>6.1</td>\n",
       "      <td>2124</td>\n",
       "      <td>[{\"cast_id\": 5, \"character\": \"John Carter\", \"c...</td>\n",
       "      <td>[{\"credit_id\": \"52fe479ac3a36847f813eaa3\", \"de...</td>\n",
       "    </tr>\n",
       "  </tbody>\n",
       "</table>\n",
       "<p>5 rows × 22 columns</p>\n",
       "</div>"
      ],
      "text/plain": [
       "      budget                                             genres  \\\n",
       "0  237000000  [{\"id\": 28, \"name\": \"Action\"}, {\"id\": 12, \"nam...   \n",
       "1  300000000  [{\"id\": 12, \"name\": \"Adventure\"}, {\"id\": 14, \"...   \n",
       "2  245000000  [{\"id\": 28, \"name\": \"Action\"}, {\"id\": 12, \"nam...   \n",
       "3  250000000  [{\"id\": 28, \"name\": \"Action\"}, {\"id\": 80, \"nam...   \n",
       "4  260000000  [{\"id\": 28, \"name\": \"Action\"}, {\"id\": 12, \"nam...   \n",
       "\n",
       "                                       homepage      id  \\\n",
       "0                   http://www.avatarmovie.com/   19995   \n",
       "1  http://disney.go.com/disneypictures/pirates/     285   \n",
       "2   http://www.sonypictures.com/movies/spectre/  206647   \n",
       "3            http://www.thedarkknightrises.com/   49026   \n",
       "4          http://movies.disney.com/john-carter   49529   \n",
       "\n",
       "                                            keywords original_language  \\\n",
       "0  [{\"id\": 1463, \"name\": \"culture clash\"}, {\"id\":...                en   \n",
       "1  [{\"id\": 270, \"name\": \"ocean\"}, {\"id\": 726, \"na...                en   \n",
       "2  [{\"id\": 470, \"name\": \"spy\"}, {\"id\": 818, \"name...                en   \n",
       "3  [{\"id\": 849, \"name\": \"dc comics\"}, {\"id\": 853,...                en   \n",
       "4  [{\"id\": 818, \"name\": \"based on novel\"}, {\"id\":...                en   \n",
       "\n",
       "                             original_title  \\\n",
       "0                                    Avatar   \n",
       "1  Pirates of the Caribbean: At World's End   \n",
       "2                                   Spectre   \n",
       "3                     The Dark Knight Rises   \n",
       "4                               John Carter   \n",
       "\n",
       "                                            overview  popularity  \\\n",
       "0  In the 22nd century, a paraplegic Marine is di...  150.437577   \n",
       "1  Captain Barbossa, long believed to be dead, ha...  139.082615   \n",
       "2  A cryptic message from Bond’s past sends him o...  107.376788   \n",
       "3  Following the death of District Attorney Harve...  112.312950   \n",
       "4  John Carter is a war-weary, former military ca...   43.926995   \n",
       "\n",
       "                                production_companies  ...     revenue runtime  \\\n",
       "0  [{\"name\": \"Ingenious Film Partners\", \"id\": 289...  ...  2787965087   162.0   \n",
       "1  [{\"name\": \"Walt Disney Pictures\", \"id\": 2}, {\"...  ...   961000000   169.0   \n",
       "2  [{\"name\": \"Columbia Pictures\", \"id\": 5}, {\"nam...  ...   880674609   148.0   \n",
       "3  [{\"name\": \"Legendary Pictures\", \"id\": 923}, {\"...  ...  1084939099   165.0   \n",
       "4        [{\"name\": \"Walt Disney Pictures\", \"id\": 2}]  ...   284139100   132.0   \n",
       "\n",
       "                                    spoken_languages    status  \\\n",
       "0  [{\"iso_639_1\": \"en\", \"name\": \"English\"}, {\"iso...  Released   \n",
       "1           [{\"iso_639_1\": \"en\", \"name\": \"English\"}]  Released   \n",
       "2  [{\"iso_639_1\": \"fr\", \"name\": \"Fran\\u00e7ais\"},...  Released   \n",
       "3           [{\"iso_639_1\": \"en\", \"name\": \"English\"}]  Released   \n",
       "4           [{\"iso_639_1\": \"en\", \"name\": \"English\"}]  Released   \n",
       "\n",
       "                                          tagline  \\\n",
       "0                     Enter the World of Pandora.   \n",
       "1  At the end of the world, the adventure begins.   \n",
       "2                           A Plan No One Escapes   \n",
       "3                                 The Legend Ends   \n",
       "4            Lost in our world, found in another.   \n",
       "\n",
       "                                      title vote_average vote_count  \\\n",
       "0                                    Avatar          7.2      11800   \n",
       "1  Pirates of the Caribbean: At World's End          6.9       4500   \n",
       "2                                   Spectre          6.3       4466   \n",
       "3                     The Dark Knight Rises          7.6       9106   \n",
       "4                               John Carter          6.1       2124   \n",
       "\n",
       "                                                cast  \\\n",
       "0  [{\"cast_id\": 242, \"character\": \"Jake Sully\", \"...   \n",
       "1  [{\"cast_id\": 4, \"character\": \"Captain Jack Spa...   \n",
       "2  [{\"cast_id\": 1, \"character\": \"James Bond\", \"cr...   \n",
       "3  [{\"cast_id\": 2, \"character\": \"Bruce Wayne / Ba...   \n",
       "4  [{\"cast_id\": 5, \"character\": \"John Carter\", \"c...   \n",
       "\n",
       "                                                crew  \n",
       "0  [{\"credit_id\": \"52fe48009251416c750aca23\", \"de...  \n",
       "1  [{\"credit_id\": \"52fe4232c3a36847f800b579\", \"de...  \n",
       "2  [{\"credit_id\": \"54805967c3a36829b5002c41\", \"de...  \n",
       "3  [{\"credit_id\": \"52fe4781c3a36847f81398c3\", \"de...  \n",
       "4  [{\"credit_id\": \"52fe479ac3a36847f813eaa3\", \"de...  \n",
       "\n",
       "[5 rows x 22 columns]"
      ]
     },
     "execution_count": 6,
     "metadata": {},
     "output_type": "execute_result"
    }
   ],
   "source": [
    "movies_copy.head()"
   ]
  },
  {
   "cell_type": "markdown",
   "id": "ad9273e8",
   "metadata": {},
   "source": [
    "Selecionando apenas filmes lançados:"
   ]
  },
  {
   "cell_type": "code",
   "execution_count": 7,
   "id": "9e51a140-cdd4-49c3-a119-81125e1a5420",
   "metadata": {},
   "outputs": [],
   "source": [
    "movies_copy = movies_copy.drop(movies_copy[movies_copy.status != 'Released'].index)"
   ]
  },
  {
   "cell_type": "markdown",
   "id": "51e295c4",
   "metadata": {},
   "source": [
    "Deletando features que não são interessantes para a análise:"
   ]
  },
  {
   "cell_type": "code",
   "execution_count": 8,
   "id": "02d9242e-87e2-490b-ae0b-ccba2258ac4b",
   "metadata": {},
   "outputs": [],
   "source": [
    "movies_copy = movies_copy.drop(columns={'homepage', 'id', 'original_title', 'tagline', 'status', 'crew'})"
   ]
  },
  {
   "cell_type": "markdown",
   "id": "fe850d21",
   "metadata": {},
   "source": [
    "## Exploração de dados"
   ]
  },
  {
   "cell_type": "code",
   "execution_count": 9,
   "id": "a10da6a5",
   "metadata": {},
   "outputs": [
    {
     "name": "stdout",
     "output_type": "stream",
     "text": [
      "<class 'pandas.core.frame.DataFrame'>\n",
      "Int64Index: 4795 entries, 0 to 4802\n",
      "Data columns (total 16 columns):\n",
      " #   Column                Non-Null Count  Dtype  \n",
      "---  ------                --------------  -----  \n",
      " 0   budget                4795 non-null   int64  \n",
      " 1   genres                4795 non-null   object \n",
      " 2   keywords              4795 non-null   object \n",
      " 3   original_language     4795 non-null   object \n",
      " 4   overview              4792 non-null   object \n",
      " 5   popularity            4795 non-null   float64\n",
      " 6   production_companies  4795 non-null   object \n",
      " 7   production_countries  4795 non-null   object \n",
      " 8   release_date          4794 non-null   object \n",
      " 9   revenue               4795 non-null   int64  \n",
      " 10  runtime               4793 non-null   float64\n",
      " 11  spoken_languages      4795 non-null   object \n",
      " 12  title                 4795 non-null   object \n",
      " 13  vote_average          4795 non-null   float64\n",
      " 14  vote_count            4795 non-null   int64  \n",
      " 15  cast                  4795 non-null   object \n",
      "dtypes: float64(3), int64(3), object(10)\n",
      "memory usage: 636.8+ KB\n"
     ]
    }
   ],
   "source": [
    "movies_copy.info()"
   ]
  },
  {
   "cell_type": "markdown",
   "id": "ac4fe784-0395-4168-af12-bc264a795a89",
   "metadata": {},
   "source": [
    "Deletando linhas com valores nulos ou zerados:"
   ]
  },
  {
   "cell_type": "code",
   "execution_count": 10,
   "id": "862637f7",
   "metadata": {},
   "outputs": [],
   "source": [
    "movies_copy = movies_copy.dropna()"
   ]
  },
  {
   "cell_type": "code",
   "execution_count": 11,
   "id": "b56390c6-c416-43c0-999b-e1eec48bbfd3",
   "metadata": {},
   "outputs": [],
   "source": [
    "movies_copy = movies_copy[(movies_copy[['budget', 'revenue', 'runtime', 'vote_count']] != 0).all(axis=1)]"
   ]
  },
  {
   "cell_type": "markdown",
   "id": "0e2812d5-5c49-4363-88b5-0d1fb5fda7d5",
   "metadata": {
    "tags": []
   },
   "source": [
    "### Dataset limpo:"
   ]
  },
  {
   "cell_type": "code",
   "execution_count": 12,
   "id": "bc2df5ce",
   "metadata": {},
   "outputs": [
    {
     "name": "stdout",
     "output_type": "stream",
     "text": [
      "<class 'pandas.core.frame.DataFrame'>\n",
      "Int64Index: 3226 entries, 0 to 4798\n",
      "Data columns (total 16 columns):\n",
      " #   Column                Non-Null Count  Dtype  \n",
      "---  ------                --------------  -----  \n",
      " 0   budget                3226 non-null   int64  \n",
      " 1   genres                3226 non-null   object \n",
      " 2   keywords              3226 non-null   object \n",
      " 3   original_language     3226 non-null   object \n",
      " 4   overview              3226 non-null   object \n",
      " 5   popularity            3226 non-null   float64\n",
      " 6   production_companies  3226 non-null   object \n",
      " 7   production_countries  3226 non-null   object \n",
      " 8   release_date          3226 non-null   object \n",
      " 9   revenue               3226 non-null   int64  \n",
      " 10  runtime               3226 non-null   float64\n",
      " 11  spoken_languages      3226 non-null   object \n",
      " 12  title                 3226 non-null   object \n",
      " 13  vote_average          3226 non-null   float64\n",
      " 14  vote_count            3226 non-null   int64  \n",
      " 15  cast                  3226 non-null   object \n",
      "dtypes: float64(3), int64(3), object(10)\n",
      "memory usage: 428.5+ KB\n"
     ]
    }
   ],
   "source": [
    "movies_copy.info()"
   ]
  },
  {
   "cell_type": "code",
   "execution_count": 13,
   "id": "0991f623",
   "metadata": {},
   "outputs": [
    {
     "data": {
      "image/png": "[encoded data removed]",
      "text/plain": [
       "<Figure size 1440x1080 with 6 Axes>"
      ]
     },
     "metadata": {
      "needs_background": "light"
     },
     "output_type": "display_data"
    }
   ],
   "source": [
    "movies_copy.hist(bins=50, figsize=(20, 15))\n",
    "plt.show()"
   ]
  },
  {
   "cell_type": "markdown",
   "id": "0b1a02c9",
   "metadata": {},
   "source": [
    "<p style=\"text-align: justify\" align=\"justify\">Visualizando os histogramas acima é possível perceber que não há nenhuma anomalia com a base de dados e, portanto, é posssível continuar com a análise sem nenhuma necessidade de manipulação.</p>"
   ]
  },
  {
   "cell_type": "code",
   "execution_count": 14,
   "id": "a69b85f4",
   "metadata": {},
   "outputs": [],
   "source": [
    "correlation_matrix = movies_copy.corr()"
   ]
  },
  {
   "cell_type": "markdown",
   "id": "644ae5bc",
   "metadata": {},
   "source": [
    "<p style=\"text-align: justify\" align=\"justify\">Com a matriz de correlação abaixo pode-se inferir também que a receita de cada filme tem maior correlação com a quantidade de votos.</p>"
   ]
  },
  {
   "cell_type": "code",
   "execution_count": 15,
   "id": "973b30da",
   "metadata": {},
   "outputs": [
    {
     "data": {
      "text/html": [
       "<div>\n",
       "<style scoped>\n",
       "    .dataframe tbody tr th:only-of-type {\n",
       "        vertical-align: middle;\n",
       "    }\n",
       "\n",
       "    .dataframe tbody tr th {\n",
       "        vertical-align: top;\n",
       "    }\n",
       "\n",
       "    .dataframe thead th {\n",
       "        text-align: right;\n",
       "    }\n",
       "</style>\n",
       "<table border=\"1\" class=\"dataframe\">\n",
       "  <thead>\n",
       "    <tr style=\"text-align: right;\">\n",
       "      <th></th>\n",
       "      <th>budget</th>\n",
       "      <th>popularity</th>\n",
       "      <th>revenue</th>\n",
       "      <th>runtime</th>\n",
       "      <th>vote_average</th>\n",
       "      <th>vote_count</th>\n",
       "    </tr>\n",
       "  </thead>\n",
       "  <tbody>\n",
       "    <tr>\n",
       "      <th>budget</th>\n",
       "      <td>1.000000</td>\n",
       "      <td>0.431629</td>\n",
       "      <td>0.705260</td>\n",
       "      <td>0.229717</td>\n",
       "      <td>-0.036087</td>\n",
       "      <td>0.539916</td>\n",
       "    </tr>\n",
       "    <tr>\n",
       "      <th>popularity</th>\n",
       "      <td>0.431629</td>\n",
       "      <td>1.000000</td>\n",
       "      <td>0.602063</td>\n",
       "      <td>0.182385</td>\n",
       "      <td>0.288001</td>\n",
       "      <td>0.748965</td>\n",
       "    </tr>\n",
       "    <tr>\n",
       "      <th>revenue</th>\n",
       "      <td>0.705260</td>\n",
       "      <td>0.602063</td>\n",
       "      <td>1.000000</td>\n",
       "      <td>0.233235</td>\n",
       "      <td>0.187830</td>\n",
       "      <td>0.756110</td>\n",
       "    </tr>\n",
       "    <tr>\n",
       "      <th>runtime</th>\n",
       "      <td>0.229717</td>\n",
       "      <td>0.182385</td>\n",
       "      <td>0.233235</td>\n",
       "      <td>1.000000</td>\n",
       "      <td>0.386253</td>\n",
       "      <td>0.258103</td>\n",
       "    </tr>\n",
       "    <tr>\n",
       "      <th>vote_average</th>\n",
       "      <td>-0.036087</td>\n",
       "      <td>0.288001</td>\n",
       "      <td>0.187830</td>\n",
       "      <td>0.386253</td>\n",
       "      <td>1.000000</td>\n",
       "      <td>0.380685</td>\n",
       "    </tr>\n",
       "    <tr>\n",
       "      <th>vote_count</th>\n",
       "      <td>0.539916</td>\n",
       "      <td>0.748965</td>\n",
       "      <td>0.756110</td>\n",
       "      <td>0.258103</td>\n",
       "      <td>0.380685</td>\n",
       "      <td>1.000000</td>\n",
       "    </tr>\n",
       "  </tbody>\n",
       "</table>\n",
       "</div>"
      ],
      "text/plain": [
       "                budget  popularity   revenue   runtime  vote_average  \\\n",
       "budget        1.000000    0.431629  0.705260  0.229717     -0.036087   \n",
       "popularity    0.431629    1.000000  0.602063  0.182385      0.288001   \n",
       "revenue       0.705260    0.602063  1.000000  0.233235      0.187830   \n",
       "runtime       0.229717    0.182385  0.233235  1.000000      0.386253   \n",
       "vote_average -0.036087    0.288001  0.187830  0.386253      1.000000   \n",
       "vote_count    0.539916    0.748965  0.756110  0.258103      0.380685   \n",
       "\n",
       "              vote_count  \n",
       "budget          0.539916  \n",
       "popularity      0.748965  \n",
       "revenue         0.756110  \n",
       "runtime         0.258103  \n",
       "vote_average    0.380685  \n",
       "vote_count      1.000000  "
      ]
     },
     "execution_count": 15,
     "metadata": {},
     "output_type": "execute_result"
    }
   ],
   "source": [
    "correlation_matrix"
   ]
  },
  {
   "cell_type": "markdown",
   "id": "6a7c8837-e383-44f6-8117-b67544b9d8fd",
   "metadata": {},
   "source": [
    "<p style=\"text-align: justify\" align=\"justify\">Uma possível razão para tal é que quanto maior a receita gerada por um filme maior alcance esse tem. Assim, uma maior quantidade de pessoas pode fazer parte da votação. Por isso, essa correlação é forte. A mesma lógica pode ser aplicada quando a quantidade de votos é analisada em relação à popularidade.</p>"
   ]
  },
  {
   "cell_type": "markdown",
   "id": "fd3f7c58",
   "metadata": {},
   "source": [
    "### Análise de texto:"
   ]
  },
  {
   "cell_type": "markdown",
   "id": "d3e4354f",
   "metadata": {},
   "source": [
    "<p style=\"text-align: justify\" align=\"justify\">As features que não são quantitativas são representadas por objetos texto. Nesse sentido, é necessário adaptar o modelo para continuar a análise de modelos de regressão.</p>"
   ]
  },
  {
   "cell_type": "markdown",
   "id": "4fbcc89b",
   "metadata": {},
   "source": [
    "<p style=\"text-align: justify\" align=\"justify\">Para analisar textos foi utilizada a função do scikit-learn <b>CountVectorizer</b> com o intuito de transformar textos em vetores númericos e a função <b>TruncatedSVD</b> para melhorar a eficiência de trabalho com matrizes esparsas.</p>"
   ]
  },
  {
   "cell_type": "code",
   "execution_count": 16,
   "id": "202eac4d-7acb-4a76-9990-0bed4618be20",
   "metadata": {},
   "outputs": [],
   "source": [
    "movies_ = movies_copy"
   ]
  },
  {
   "cell_type": "code",
   "execution_count": 17,
   "id": "ed803e0b",
   "metadata": {},
   "outputs": [],
   "source": [
    "movies_copy = movies_copy.drop(columns = {'title','release_date','production_countries','spoken_languages'})"
   ]
  },
  {
   "cell_type": "code",
   "execution_count": 18,
   "id": "3074a112",
   "metadata": {},
   "outputs": [],
   "source": [
    "text_key = ['genres', 'keywords', 'production_companies', 'cast']\n",
    "\n",
    "for j in text_key:\n",
    "    movies_copy[j] = movies_copy[j].apply(lambda x:[i['name'] for i in json.loads(str(x))])"
   ]
  },
  {
   "cell_type": "code",
   "execution_count": 19,
   "id": "6721c15c",
   "metadata": {},
   "outputs": [
    {
     "data": {
      "text/plain": [
       "0       [culture clash, future, space war, space colon...\n",
       "1       [ocean, drug abuse, exotic island, east india ...\n",
       "2       [spy, based on novel, secret agent, sequel, mi...\n",
       "3       [dc comics, crime fighter, terrorist, secret i...\n",
       "4       [based on novel, mars, medallion, space travel...\n",
       "                              ...                        \n",
       "4773             [salesclerk, loser, aftercreditsstinger]\n",
       "4788    [gay, trailer park, pop culture, drug dealer, ...\n",
       "4792    [japan, prostitute, hotel, based on novel, hal...\n",
       "4796    [distrust, garage, identity crisis, time trave...\n",
       "4798    [united states–mexico barrier, legs, arms, pap...\n",
       "Name: keywords, Length: 3226, dtype: object"
      ]
     },
     "execution_count": 19,
     "metadata": {},
     "output_type": "execute_result"
    }
   ],
   "source": [
    "movies_copy.keywords"
   ]
  },
  {
   "cell_type": "markdown",
   "id": "a2a655a6",
   "metadata": {},
   "source": [
    "<p style=\"text-align: justify\" align=\"justify\">Separando o tamanho de componentes de cada feature. A estratégia é captar 50% do valor da variância de cada coluna. Somente para as colunas \"keywords\", \"genres\", \"original_language\", \"production_companies\" e \"cast\" a estratégia irá funcionar. Para os valores de \"overview\" obter-se-a através de tentativa e erro.</p>"
   ]
  },
  {
   "cell_type": "code",
   "execution_count": 20,
   "id": "40f01ab2",
   "metadata": {},
   "outputs": [
    {
     "name": "stdout",
     "output_type": "stream",
     "text": [
      "[20, 1, 0, 2, 231]\n"
     ]
    }
   ],
   "source": [
    "text_to_num = ['keywords', 'genres', 'original_language', 'production_companies', 'cast', 'overview']\n",
    "    \n",
    "list_n = []\n",
    "for i in text_to_num:\n",
    "    if i != 'overview':\n",
    "        n_elem = []\n",
    "        movies_copy[i].apply(lambda x: n_elem.append(len(x)))\n",
    "        list_n.append(int(np.round(np.var(n_elem)*0.5)))\n",
    "print(list_n)"
   ]
  },
  {
   "cell_type": "code",
   "execution_count": 21,
   "id": "e715aeb1",
   "metadata": {},
   "outputs": [],
   "source": [
    "list_n.append(50)"
   ]
  },
  {
   "cell_type": "code",
   "execution_count": 22,
   "id": "e5d51784",
   "metadata": {},
   "outputs": [],
   "source": [
    "list_of_dfs = []\n",
    "\n",
    "for i, n in zip(text_to_num, list_n):\n",
    "    corpus = movies_copy[i]\n",
    "\n",
    "\n",
    "    vectorizer = sklearn.feature_extraction.text.CountVectorizer(\n",
    "        ngram_range=(1, 1),  #ngram_range=(1, 1) is the default\n",
    "        dtype='double',\n",
    "        analyzer=lambda x: x\n",
    "    )\n",
    "    data = vectorizer.fit_transform(corpus)\n",
    "    \n",
    "\n",
    "    pca = sklearn.decomposition.TruncatedSVD(n_components=n)\n",
    "    data = pca.fit_transform(data)\n",
    "    \n",
    "    \n",
    "    column_names = []\n",
    "    for j in range(len(data.tolist()[0])):\n",
    "        col_name = i + \"_\" + str(j)\n",
    "        column_names.append(col_name)\n",
    "    new_data = pd.DataFrame(data.tolist(), columns=column_names)\n",
    "\n",
    "    list_of_dfs.append(new_data)"
   ]
  },
  {
   "cell_type": "code",
   "execution_count": 23,
   "id": "b97ec77c",
   "metadata": {},
   "outputs": [
    {
     "data": {
      "text/html": [
       "<div>\n",
       "<style scoped>\n",
       "    .dataframe tbody tr th:only-of-type {\n",
       "        vertical-align: middle;\n",
       "    }\n",
       "\n",
       "    .dataframe tbody tr th {\n",
       "        vertical-align: top;\n",
       "    }\n",
       "\n",
       "    .dataframe thead th {\n",
       "        text-align: right;\n",
       "    }\n",
       "</style>\n",
       "<table border=\"1\" class=\"dataframe\">\n",
       "  <thead>\n",
       "    <tr style=\"text-align: right;\">\n",
       "      <th></th>\n",
       "      <th>budget</th>\n",
       "      <th>genres</th>\n",
       "      <th>keywords</th>\n",
       "      <th>original_language</th>\n",
       "      <th>overview</th>\n",
       "      <th>popularity</th>\n",
       "      <th>production_companies</th>\n",
       "      <th>revenue</th>\n",
       "      <th>runtime</th>\n",
       "      <th>vote_average</th>\n",
       "      <th>...</th>\n",
       "      <th>overview_40</th>\n",
       "      <th>overview_41</th>\n",
       "      <th>overview_42</th>\n",
       "      <th>overview_43</th>\n",
       "      <th>overview_44</th>\n",
       "      <th>overview_45</th>\n",
       "      <th>overview_46</th>\n",
       "      <th>overview_47</th>\n",
       "      <th>overview_48</th>\n",
       "      <th>overview_49</th>\n",
       "    </tr>\n",
       "  </thead>\n",
       "  <tbody>\n",
       "    <tr>\n",
       "      <th>0</th>\n",
       "      <td>237000000.0</td>\n",
       "      <td>[Action, Adventure, Fantasy, Science Fiction]</td>\n",
       "      <td>[culture clash, future, space war, space colon...</td>\n",
       "      <td>en</td>\n",
       "      <td>In the 22nd century, a paraplegic Marine is di...</td>\n",
       "      <td>150.437577</td>\n",
       "      <td>[Ingenious Film Partners, Twentieth Century Fo...</td>\n",
       "      <td>2.787965e+09</td>\n",
       "      <td>162.0</td>\n",
       "      <td>7.2</td>\n",
       "      <td>...</td>\n",
       "      <td>0.258890</td>\n",
       "      <td>0.096981</td>\n",
       "      <td>0.464476</td>\n",
       "      <td>-0.215704</td>\n",
       "      <td>0.207388</td>\n",
       "      <td>0.872247</td>\n",
       "      <td>-0.514370</td>\n",
       "      <td>0.183621</td>\n",
       "      <td>0.468568</td>\n",
       "      <td>-0.410101</td>\n",
       "    </tr>\n",
       "    <tr>\n",
       "      <th>1</th>\n",
       "      <td>300000000.0</td>\n",
       "      <td>[Adventure, Fantasy, Action]</td>\n",
       "      <td>[ocean, drug abuse, exotic island, east india ...</td>\n",
       "      <td>en</td>\n",
       "      <td>Captain Barbossa, long believed to be dead, ha...</td>\n",
       "      <td>139.082615</td>\n",
       "      <td>[Walt Disney Pictures, Jerry Bruckheimer Films...</td>\n",
       "      <td>9.610000e+08</td>\n",
       "      <td>169.0</td>\n",
       "      <td>6.9</td>\n",
       "      <td>...</td>\n",
       "      <td>-0.520852</td>\n",
       "      <td>0.762257</td>\n",
       "      <td>-0.153967</td>\n",
       "      <td>-0.001073</td>\n",
       "      <td>-0.058105</td>\n",
       "      <td>-0.003231</td>\n",
       "      <td>0.587864</td>\n",
       "      <td>1.782360</td>\n",
       "      <td>-0.312205</td>\n",
       "      <td>-0.303033</td>\n",
       "    </tr>\n",
       "    <tr>\n",
       "      <th>2</th>\n",
       "      <td>245000000.0</td>\n",
       "      <td>[Action, Adventure, Crime]</td>\n",
       "      <td>[spy, based on novel, secret agent, sequel, mi...</td>\n",
       "      <td>en</td>\n",
       "      <td>A cryptic message from Bond’s past sends him o...</td>\n",
       "      <td>107.376788</td>\n",
       "      <td>[Columbia Pictures, Danjaq, B24]</td>\n",
       "      <td>8.806746e+08</td>\n",
       "      <td>148.0</td>\n",
       "      <td>6.3</td>\n",
       "      <td>...</td>\n",
       "      <td>-0.837180</td>\n",
       "      <td>-0.441125</td>\n",
       "      <td>-0.120898</td>\n",
       "      <td>0.058558</td>\n",
       "      <td>-0.086526</td>\n",
       "      <td>0.520807</td>\n",
       "      <td>0.531804</td>\n",
       "      <td>1.652870</td>\n",
       "      <td>-0.274782</td>\n",
       "      <td>-0.416308</td>\n",
       "    </tr>\n",
       "    <tr>\n",
       "      <th>3</th>\n",
       "      <td>250000000.0</td>\n",
       "      <td>[Action, Crime, Drama, Thriller]</td>\n",
       "      <td>[dc comics, crime fighter, terrorist, secret i...</td>\n",
       "      <td>en</td>\n",
       "      <td>Following the death of District Attorney Harve...</td>\n",
       "      <td>112.312950</td>\n",
       "      <td>[Legendary Pictures, Warner Bros., DC Entertai...</td>\n",
       "      <td>1.084939e+09</td>\n",
       "      <td>165.0</td>\n",
       "      <td>7.6</td>\n",
       "      <td>...</td>\n",
       "      <td>1.060470</td>\n",
       "      <td>-0.670058</td>\n",
       "      <td>-0.185990</td>\n",
       "      <td>0.076466</td>\n",
       "      <td>-1.374916</td>\n",
       "      <td>0.719039</td>\n",
       "      <td>-0.367754</td>\n",
       "      <td>0.229216</td>\n",
       "      <td>-0.202741</td>\n",
       "      <td>1.492058</td>\n",
       "    </tr>\n",
       "    <tr>\n",
       "      <th>4</th>\n",
       "      <td>260000000.0</td>\n",
       "      <td>[Action, Adventure, Science Fiction]</td>\n",
       "      <td>[based on novel, mars, medallion, space travel...</td>\n",
       "      <td>en</td>\n",
       "      <td>John Carter is a war-weary, former military ca...</td>\n",
       "      <td>43.926995</td>\n",
       "      <td>[Walt Disney Pictures]</td>\n",
       "      <td>2.841391e+08</td>\n",
       "      <td>132.0</td>\n",
       "      <td>6.1</td>\n",
       "      <td>...</td>\n",
       "      <td>0.469387</td>\n",
       "      <td>0.642984</td>\n",
       "      <td>0.120206</td>\n",
       "      <td>-0.127650</td>\n",
       "      <td>1.007448</td>\n",
       "      <td>0.381553</td>\n",
       "      <td>-0.500316</td>\n",
       "      <td>-0.255977</td>\n",
       "      <td>0.547891</td>\n",
       "      <td>-0.314431</td>\n",
       "    </tr>\n",
       "  </tbody>\n",
       "</table>\n",
       "<p>5 rows × 316 columns</p>\n",
       "</div>"
      ],
      "text/plain": [
       "        budget                                         genres  \\\n",
       "0  237000000.0  [Action, Adventure, Fantasy, Science Fiction]   \n",
       "1  300000000.0                   [Adventure, Fantasy, Action]   \n",
       "2  245000000.0                     [Action, Adventure, Crime]   \n",
       "3  250000000.0               [Action, Crime, Drama, Thriller]   \n",
       "4  260000000.0           [Action, Adventure, Science Fiction]   \n",
       "\n",
       "                                            keywords original_language  \\\n",
       "0  [culture clash, future, space war, space colon...                en   \n",
       "1  [ocean, drug abuse, exotic island, east india ...                en   \n",
       "2  [spy, based on novel, secret agent, sequel, mi...                en   \n",
       "3  [dc comics, crime fighter, terrorist, secret i...                en   \n",
       "4  [based on novel, mars, medallion, space travel...                en   \n",
       "\n",
       "                                            overview  popularity  \\\n",
       "0  In the 22nd century, a paraplegic Marine is di...  150.437577   \n",
       "1  Captain Barbossa, long believed to be dead, ha...  139.082615   \n",
       "2  A cryptic message from Bond’s past sends him o...  107.376788   \n",
       "3  Following the death of District Attorney Harve...  112.312950   \n",
       "4  John Carter is a war-weary, former military ca...   43.926995   \n",
       "\n",
       "                                production_companies       revenue  runtime  \\\n",
       "0  [Ingenious Film Partners, Twentieth Century Fo...  2.787965e+09    162.0   \n",
       "1  [Walt Disney Pictures, Jerry Bruckheimer Films...  9.610000e+08    169.0   \n",
       "2                   [Columbia Pictures, Danjaq, B24]  8.806746e+08    148.0   \n",
       "3  [Legendary Pictures, Warner Bros., DC Entertai...  1.084939e+09    165.0   \n",
       "4                             [Walt Disney Pictures]  2.841391e+08    132.0   \n",
       "\n",
       "   vote_average  ...  overview_40 overview_41  overview_42  overview_43  \\\n",
       "0           7.2  ...     0.258890    0.096981     0.464476    -0.215704   \n",
       "1           6.9  ...    -0.520852    0.762257    -0.153967    -0.001073   \n",
       "2           6.3  ...    -0.837180   -0.441125    -0.120898     0.058558   \n",
       "3           7.6  ...     1.060470   -0.670058    -0.185990     0.076466   \n",
       "4           6.1  ...     0.469387    0.642984     0.120206    -0.127650   \n",
       "\n",
       "   overview_44  overview_45  overview_46  overview_47  overview_48  \\\n",
       "0     0.207388     0.872247    -0.514370     0.183621     0.468568   \n",
       "1    -0.058105    -0.003231     0.587864     1.782360    -0.312205   \n",
       "2    -0.086526     0.520807     0.531804     1.652870    -0.274782   \n",
       "3    -1.374916     0.719039    -0.367754     0.229216    -0.202741   \n",
       "4     1.007448     0.381553    -0.500316    -0.255977     0.547891   \n",
       "\n",
       "   overview_49  \n",
       "0    -0.410101  \n",
       "1    -0.303033  \n",
       "2    -0.416308  \n",
       "3     1.492058  \n",
       "4    -0.314431  \n",
       "\n",
       "[5 rows x 316 columns]"
      ]
     },
     "execution_count": 23,
     "metadata": {},
     "output_type": "execute_result"
    }
   ],
   "source": [
    "list_of_dfs.insert(0, movies_copy)\n",
    "movies_copy = pd.concat(list_of_dfs, axis=1)\n",
    "movies_copy.head()"
   ]
  },
  {
   "cell_type": "code",
   "execution_count": 24,
   "id": "00897c06",
   "metadata": {},
   "outputs": [],
   "source": [
    "movies_copy = movies_copy.drop(columns={'genres', 'keywords', 'original_language', 'production_companies', 'cast', 'overview'})"
   ]
  },
  {
   "cell_type": "code",
   "execution_count": 25,
   "id": "0a0de2b6",
   "metadata": {},
   "outputs": [
    {
     "data": {
      "text/html": [
       "<div>\n",
       "<style scoped>\n",
       "    .dataframe tbody tr th:only-of-type {\n",
       "        vertical-align: middle;\n",
       "    }\n",
       "\n",
       "    .dataframe tbody tr th {\n",
       "        vertical-align: top;\n",
       "    }\n",
       "\n",
       "    .dataframe thead th {\n",
       "        text-align: right;\n",
       "    }\n",
       "</style>\n",
       "<table border=\"1\" class=\"dataframe\">\n",
       "  <thead>\n",
       "    <tr style=\"text-align: right;\">\n",
       "      <th></th>\n",
       "      <th>budget</th>\n",
       "      <th>popularity</th>\n",
       "      <th>revenue</th>\n",
       "      <th>runtime</th>\n",
       "      <th>vote_average</th>\n",
       "      <th>vote_count</th>\n",
       "      <th>keywords_0</th>\n",
       "      <th>keywords_1</th>\n",
       "      <th>keywords_2</th>\n",
       "      <th>keywords_3</th>\n",
       "      <th>...</th>\n",
       "      <th>overview_40</th>\n",
       "      <th>overview_41</th>\n",
       "      <th>overview_42</th>\n",
       "      <th>overview_43</th>\n",
       "      <th>overview_44</th>\n",
       "      <th>overview_45</th>\n",
       "      <th>overview_46</th>\n",
       "      <th>overview_47</th>\n",
       "      <th>overview_48</th>\n",
       "      <th>overview_49</th>\n",
       "    </tr>\n",
       "  </thead>\n",
       "  <tbody>\n",
       "    <tr>\n",
       "      <th>0</th>\n",
       "      <td>237000000.0</td>\n",
       "      <td>150.437577</td>\n",
       "      <td>2.787965e+09</td>\n",
       "      <td>162.0</td>\n",
       "      <td>7.2</td>\n",
       "      <td>11800.0</td>\n",
       "      <td>0.371568</td>\n",
       "      <td>0.006018</td>\n",
       "      <td>-0.197439</td>\n",
       "      <td>-0.504144</td>\n",
       "      <td>...</td>\n",
       "      <td>0.258890</td>\n",
       "      <td>0.096981</td>\n",
       "      <td>0.464476</td>\n",
       "      <td>-0.215704</td>\n",
       "      <td>0.207388</td>\n",
       "      <td>0.872247</td>\n",
       "      <td>-0.514370</td>\n",
       "      <td>0.183621</td>\n",
       "      <td>0.468568</td>\n",
       "      <td>-0.410101</td>\n",
       "    </tr>\n",
       "    <tr>\n",
       "      <th>1</th>\n",
       "      <td>300000000.0</td>\n",
       "      <td>139.082615</td>\n",
       "      <td>9.610000e+08</td>\n",
       "      <td>169.0</td>\n",
       "      <td>6.9</td>\n",
       "      <td>4500.0</td>\n",
       "      <td>0.394198</td>\n",
       "      <td>-0.254569</td>\n",
       "      <td>0.097741</td>\n",
       "      <td>-0.004706</td>\n",
       "      <td>...</td>\n",
       "      <td>-0.520852</td>\n",
       "      <td>0.762257</td>\n",
       "      <td>-0.153967</td>\n",
       "      <td>-0.001073</td>\n",
       "      <td>-0.058105</td>\n",
       "      <td>-0.003231</td>\n",
       "      <td>0.587864</td>\n",
       "      <td>1.782360</td>\n",
       "      <td>-0.312205</td>\n",
       "      <td>-0.303033</td>\n",
       "    </tr>\n",
       "    <tr>\n",
       "      <th>2</th>\n",
       "      <td>245000000.0</td>\n",
       "      <td>107.376788</td>\n",
       "      <td>8.806746e+08</td>\n",
       "      <td>148.0</td>\n",
       "      <td>6.3</td>\n",
       "      <td>4466.0</td>\n",
       "      <td>0.427153</td>\n",
       "      <td>0.263526</td>\n",
       "      <td>-0.493112</td>\n",
       "      <td>-0.570878</td>\n",
       "      <td>...</td>\n",
       "      <td>-0.837180</td>\n",
       "      <td>-0.441125</td>\n",
       "      <td>-0.120898</td>\n",
       "      <td>0.058558</td>\n",
       "      <td>-0.086526</td>\n",
       "      <td>0.520807</td>\n",
       "      <td>0.531804</td>\n",
       "      <td>1.652870</td>\n",
       "      <td>-0.274782</td>\n",
       "      <td>-0.416308</td>\n",
       "    </tr>\n",
       "    <tr>\n",
       "      <th>3</th>\n",
       "      <td>250000000.0</td>\n",
       "      <td>112.312950</td>\n",
       "      <td>1.084939e+09</td>\n",
       "      <td>165.0</td>\n",
       "      <td>7.6</td>\n",
       "      <td>9106.0</td>\n",
       "      <td>0.302618</td>\n",
       "      <td>0.022682</td>\n",
       "      <td>0.288550</td>\n",
       "      <td>-0.242756</td>\n",
       "      <td>...</td>\n",
       "      <td>1.060470</td>\n",
       "      <td>-0.670058</td>\n",
       "      <td>-0.185990</td>\n",
       "      <td>0.076466</td>\n",
       "      <td>-1.374916</td>\n",
       "      <td>0.719039</td>\n",
       "      <td>-0.367754</td>\n",
       "      <td>0.229216</td>\n",
       "      <td>-0.202741</td>\n",
       "      <td>1.492058</td>\n",
       "    </tr>\n",
       "    <tr>\n",
       "      <th>4</th>\n",
       "      <td>260000000.0</td>\n",
       "      <td>43.926995</td>\n",
       "      <td>2.841391e+08</td>\n",
       "      <td>132.0</td>\n",
       "      <td>6.1</td>\n",
       "      <td>2124.0</td>\n",
       "      <td>0.545083</td>\n",
       "      <td>0.199346</td>\n",
       "      <td>-0.659397</td>\n",
       "      <td>-0.801513</td>\n",
       "      <td>...</td>\n",
       "      <td>0.469387</td>\n",
       "      <td>0.642984</td>\n",
       "      <td>0.120206</td>\n",
       "      <td>-0.127650</td>\n",
       "      <td>1.007448</td>\n",
       "      <td>0.381553</td>\n",
       "      <td>-0.500316</td>\n",
       "      <td>-0.255977</td>\n",
       "      <td>0.547891</td>\n",
       "      <td>-0.314431</td>\n",
       "    </tr>\n",
       "  </tbody>\n",
       "</table>\n",
       "<p>5 rows × 310 columns</p>\n",
       "</div>"
      ],
      "text/plain": [
       "        budget  popularity       revenue  runtime  vote_average  vote_count  \\\n",
       "0  237000000.0  150.437577  2.787965e+09    162.0           7.2     11800.0   \n",
       "1  300000000.0  139.082615  9.610000e+08    169.0           6.9      4500.0   \n",
       "2  245000000.0  107.376788  8.806746e+08    148.0           6.3      4466.0   \n",
       "3  250000000.0  112.312950  1.084939e+09    165.0           7.6      9106.0   \n",
       "4  260000000.0   43.926995  2.841391e+08    132.0           6.1      2124.0   \n",
       "\n",
       "   keywords_0  keywords_1  keywords_2  keywords_3  ...  overview_40  \\\n",
       "0    0.371568    0.006018   -0.197439   -0.504144  ...     0.258890   \n",
       "1    0.394198   -0.254569    0.097741   -0.004706  ...    -0.520852   \n",
       "2    0.427153    0.263526   -0.493112   -0.570878  ...    -0.837180   \n",
       "3    0.302618    0.022682    0.288550   -0.242756  ...     1.060470   \n",
       "4    0.545083    0.199346   -0.659397   -0.801513  ...     0.469387   \n",
       "\n",
       "   overview_41  overview_42  overview_43  overview_44  overview_45  \\\n",
       "0     0.096981     0.464476    -0.215704     0.207388     0.872247   \n",
       "1     0.762257    -0.153967    -0.001073    -0.058105    -0.003231   \n",
       "2    -0.441125    -0.120898     0.058558    -0.086526     0.520807   \n",
       "3    -0.670058    -0.185990     0.076466    -1.374916     0.719039   \n",
       "4     0.642984     0.120206    -0.127650     1.007448     0.381553   \n",
       "\n",
       "   overview_46  overview_47  overview_48  overview_49  \n",
       "0    -0.514370     0.183621     0.468568    -0.410101  \n",
       "1     0.587864     1.782360    -0.312205    -0.303033  \n",
       "2     0.531804     1.652870    -0.274782    -0.416308  \n",
       "3    -0.367754     0.229216    -0.202741     1.492058  \n",
       "4    -0.500316    -0.255977     0.547891    -0.314431  \n",
       "\n",
       "[5 rows x 310 columns]"
      ]
     },
     "execution_count": 25,
     "metadata": {},
     "output_type": "execute_result"
    }
   ],
   "source": [
    "movies_copy.head()"
   ]
  },
  {
   "cell_type": "code",
   "execution_count": 26,
   "id": "187d994b",
   "metadata": {},
   "outputs": [],
   "source": [
    "movies_copy = movies_copy.dropna()"
   ]
  },
  {
   "cell_type": "markdown",
   "id": "a4d1e16b",
   "metadata": {},
   "source": [
    "<p style=\"text-align: justify\" align=\"justify\">Com a alteração realizada, é possível analisar novamente os valores de correlação dos dados. A feature <b>vote_count</b> continua sendo a mais importante para a regressão.</p>"
   ]
  },
  {
   "cell_type": "code",
   "execution_count": 27,
   "id": "84e0664c-68fd-4c73-b4a7-a7200fa98de2",
   "metadata": {},
   "outputs": [
    {
     "data": {
      "text/plain": [
       "budget      budget        1.000000\n",
       "cast_22     cast_31       0.925254\n",
       "revenue     vote_count    0.760050\n",
       "popularity  vote_count    0.732853\n",
       "revenue     budget        0.685696\n",
       "                            ...   \n",
       "budget      keywords_3   -0.308860\n",
       "cast_67     cast_55      -0.380296\n",
       "cast_16     cast_14      -0.447061\n",
       "cast_18     cast_15      -0.473399\n",
       "cast_56     cast_67      -0.596228\n",
       "Length: 47896, dtype: float64"
      ]
     },
     "execution_count": 27,
     "metadata": {},
     "output_type": "execute_result"
    }
   ],
   "source": [
    "correlation_matrix = movies_copy.corr()\n",
    "correlation_matrix.unstack().dropna().sort_values(ascending=False).drop_duplicates()"
   ]
  },
  {
   "cell_type": "markdown",
   "id": "0681f943",
   "metadata": {},
   "source": [
    "### Separação de dados treinamento/teste"
   ]
  },
  {
   "cell_type": "markdown",
   "id": "73ccf8b3",
   "metadata": {},
   "source": [
    "<p style=\"text-align: justify\" align=\"justify\">Para manter a integridade dos dados de treinamento/teste é necessário fazer uma separação estratificada. Nesse sentido, foi realizada a separação pela variável <b>vote_count</b>.</p>"
   ]
  },
  {
   "cell_type": "code",
   "execution_count": 28,
   "id": "2cc4cd5d",
   "metadata": {},
   "outputs": [],
   "source": [
    "import math\n",
    "ref = movies_copy['vote_count'].max()\n",
    "min_ref = movies_copy['vote_count'].min()\n",
    "first = math.ceil((ref-min_ref) / 5)\n",
    "second = math.ceil((ref-min_ref) / 5*2)\n",
    "third = math.ceil((ref-min_ref) / 5*3)\n",
    "fourth = math.ceil((ref-min_ref) / 5*4)"
   ]
  },
  {
   "cell_type": "code",
   "execution_count": 29,
   "id": "20477429",
   "metadata": {},
   "outputs": [],
   "source": [
    "def stratified_shuffle(x):\n",
    "    if x <= first:\n",
    "        return 1.0\n",
    "    elif x > first and x <= second:\n",
    "        return 2.0\n",
    "    elif x > second and x <= third:\n",
    "        return 3.0\n",
    "    elif x > third and x <= fourth:\n",
    "        return 4.0\n",
    "    else:\n",
    "        return 5.0"
   ]
  },
  {
   "cell_type": "code",
   "execution_count": 30,
   "id": "4a555eaf",
   "metadata": {},
   "outputs": [],
   "source": [
    "movies_copy['vote_count_cat'] = movies_copy['vote_count'].astype(int)"
   ]
  },
  {
   "cell_type": "code",
   "execution_count": 31,
   "id": "4e051e1d",
   "metadata": {},
   "outputs": [],
   "source": [
    "movies_copy['vote_count_cat'] = movies_copy['vote_count'].apply(stratified_shuffle)"
   ]
  },
  {
   "cell_type": "code",
   "execution_count": 32,
   "id": "81e6ee75",
   "metadata": {},
   "outputs": [
    {
     "data": {
      "text/plain": [
       "1.0    0.892607\n",
       "2.0    0.080934\n",
       "3.0    0.019455\n",
       "4.0    0.005447\n",
       "5.0    0.001556\n",
       "Name: vote_count_cat, dtype: float64"
      ]
     },
     "execution_count": 32,
     "metadata": {},
     "output_type": "execute_result"
    }
   ],
   "source": [
    "movies_copy['vote_count_cat'].value_counts(True)"
   ]
  },
  {
   "cell_type": "code",
   "execution_count": 33,
   "id": "9963062d",
   "metadata": {},
   "outputs": [
    {
     "data": {
      "text/html": [
       "<div>\n",
       "<style scoped>\n",
       "    .dataframe tbody tr th:only-of-type {\n",
       "        vertical-align: middle;\n",
       "    }\n",
       "\n",
       "    .dataframe tbody tr th {\n",
       "        vertical-align: top;\n",
       "    }\n",
       "\n",
       "    .dataframe thead th {\n",
       "        text-align: right;\n",
       "    }\n",
       "</style>\n",
       "<table border=\"1\" class=\"dataframe\">\n",
       "  <thead>\n",
       "    <tr style=\"text-align: right;\">\n",
       "      <th></th>\n",
       "      <th>budget</th>\n",
       "      <th>popularity</th>\n",
       "      <th>revenue</th>\n",
       "      <th>runtime</th>\n",
       "      <th>vote_average</th>\n",
       "      <th>vote_count</th>\n",
       "      <th>keywords_0</th>\n",
       "      <th>keywords_1</th>\n",
       "      <th>keywords_2</th>\n",
       "      <th>keywords_3</th>\n",
       "      <th>...</th>\n",
       "      <th>overview_41</th>\n",
       "      <th>overview_42</th>\n",
       "      <th>overview_43</th>\n",
       "      <th>overview_44</th>\n",
       "      <th>overview_45</th>\n",
       "      <th>overview_46</th>\n",
       "      <th>overview_47</th>\n",
       "      <th>overview_48</th>\n",
       "      <th>overview_49</th>\n",
       "      <th>vote_count_cat</th>\n",
       "    </tr>\n",
       "  </thead>\n",
       "  <tbody>\n",
       "    <tr>\n",
       "      <th>0</th>\n",
       "      <td>237000000.0</td>\n",
       "      <td>150.437577</td>\n",
       "      <td>2.787965e+09</td>\n",
       "      <td>162.0</td>\n",
       "      <td>7.2</td>\n",
       "      <td>11800.0</td>\n",
       "      <td>0.371568</td>\n",
       "      <td>0.006018</td>\n",
       "      <td>-0.197439</td>\n",
       "      <td>-0.504144</td>\n",
       "      <td>...</td>\n",
       "      <td>0.096981</td>\n",
       "      <td>0.464476</td>\n",
       "      <td>-0.215704</td>\n",
       "      <td>0.207388</td>\n",
       "      <td>0.872247</td>\n",
       "      <td>-0.514370</td>\n",
       "      <td>0.183621</td>\n",
       "      <td>0.468568</td>\n",
       "      <td>-0.410101</td>\n",
       "      <td>5.0</td>\n",
       "    </tr>\n",
       "    <tr>\n",
       "      <th>1</th>\n",
       "      <td>300000000.0</td>\n",
       "      <td>139.082615</td>\n",
       "      <td>9.610000e+08</td>\n",
       "      <td>169.0</td>\n",
       "      <td>6.9</td>\n",
       "      <td>4500.0</td>\n",
       "      <td>0.394198</td>\n",
       "      <td>-0.254569</td>\n",
       "      <td>0.097741</td>\n",
       "      <td>-0.004706</td>\n",
       "      <td>...</td>\n",
       "      <td>0.762257</td>\n",
       "      <td>-0.153967</td>\n",
       "      <td>-0.001073</td>\n",
       "      <td>-0.058105</td>\n",
       "      <td>-0.003231</td>\n",
       "      <td>0.587864</td>\n",
       "      <td>1.782360</td>\n",
       "      <td>-0.312205</td>\n",
       "      <td>-0.303033</td>\n",
       "      <td>2.0</td>\n",
       "    </tr>\n",
       "    <tr>\n",
       "      <th>2</th>\n",
       "      <td>245000000.0</td>\n",
       "      <td>107.376788</td>\n",
       "      <td>8.806746e+08</td>\n",
       "      <td>148.0</td>\n",
       "      <td>6.3</td>\n",
       "      <td>4466.0</td>\n",
       "      <td>0.427153</td>\n",
       "      <td>0.263526</td>\n",
       "      <td>-0.493112</td>\n",
       "      <td>-0.570878</td>\n",
       "      <td>...</td>\n",
       "      <td>-0.441125</td>\n",
       "      <td>-0.120898</td>\n",
       "      <td>0.058558</td>\n",
       "      <td>-0.086526</td>\n",
       "      <td>0.520807</td>\n",
       "      <td>0.531804</td>\n",
       "      <td>1.652870</td>\n",
       "      <td>-0.274782</td>\n",
       "      <td>-0.416308</td>\n",
       "      <td>2.0</td>\n",
       "    </tr>\n",
       "    <tr>\n",
       "      <th>3</th>\n",
       "      <td>250000000.0</td>\n",
       "      <td>112.312950</td>\n",
       "      <td>1.084939e+09</td>\n",
       "      <td>165.0</td>\n",
       "      <td>7.6</td>\n",
       "      <td>9106.0</td>\n",
       "      <td>0.302618</td>\n",
       "      <td>0.022682</td>\n",
       "      <td>0.288550</td>\n",
       "      <td>-0.242756</td>\n",
       "      <td>...</td>\n",
       "      <td>-0.670058</td>\n",
       "      <td>-0.185990</td>\n",
       "      <td>0.076466</td>\n",
       "      <td>-1.374916</td>\n",
       "      <td>0.719039</td>\n",
       "      <td>-0.367754</td>\n",
       "      <td>0.229216</td>\n",
       "      <td>-0.202741</td>\n",
       "      <td>1.492058</td>\n",
       "      <td>4.0</td>\n",
       "    </tr>\n",
       "    <tr>\n",
       "      <th>4</th>\n",
       "      <td>260000000.0</td>\n",
       "      <td>43.926995</td>\n",
       "      <td>2.841391e+08</td>\n",
       "      <td>132.0</td>\n",
       "      <td>6.1</td>\n",
       "      <td>2124.0</td>\n",
       "      <td>0.545083</td>\n",
       "      <td>0.199346</td>\n",
       "      <td>-0.659397</td>\n",
       "      <td>-0.801513</td>\n",
       "      <td>...</td>\n",
       "      <td>0.642984</td>\n",
       "      <td>0.120206</td>\n",
       "      <td>-0.127650</td>\n",
       "      <td>1.007448</td>\n",
       "      <td>0.381553</td>\n",
       "      <td>-0.500316</td>\n",
       "      <td>-0.255977</td>\n",
       "      <td>0.547891</td>\n",
       "      <td>-0.314431</td>\n",
       "      <td>1.0</td>\n",
       "    </tr>\n",
       "  </tbody>\n",
       "</table>\n",
       "<p>5 rows × 311 columns</p>\n",
       "</div>"
      ],
      "text/plain": [
       "        budget  popularity       revenue  runtime  vote_average  vote_count  \\\n",
       "0  237000000.0  150.437577  2.787965e+09    162.0           7.2     11800.0   \n",
       "1  300000000.0  139.082615  9.610000e+08    169.0           6.9      4500.0   \n",
       "2  245000000.0  107.376788  8.806746e+08    148.0           6.3      4466.0   \n",
       "3  250000000.0  112.312950  1.084939e+09    165.0           7.6      9106.0   \n",
       "4  260000000.0   43.926995  2.841391e+08    132.0           6.1      2124.0   \n",
       "\n",
       "   keywords_0  keywords_1  keywords_2  keywords_3  ...  overview_41  \\\n",
       "0    0.371568    0.006018   -0.197439   -0.504144  ...     0.096981   \n",
       "1    0.394198   -0.254569    0.097741   -0.004706  ...     0.762257   \n",
       "2    0.427153    0.263526   -0.493112   -0.570878  ...    -0.441125   \n",
       "3    0.302618    0.022682    0.288550   -0.242756  ...    -0.670058   \n",
       "4    0.545083    0.199346   -0.659397   -0.801513  ...     0.642984   \n",
       "\n",
       "   overview_42  overview_43  overview_44  overview_45  overview_46  \\\n",
       "0     0.464476    -0.215704     0.207388     0.872247    -0.514370   \n",
       "1    -0.153967    -0.001073    -0.058105    -0.003231     0.587864   \n",
       "2    -0.120898     0.058558    -0.086526     0.520807     0.531804   \n",
       "3    -0.185990     0.076466    -1.374916     0.719039    -0.367754   \n",
       "4     0.120206    -0.127650     1.007448     0.381553    -0.500316   \n",
       "\n",
       "   overview_47  overview_48  overview_49  vote_count_cat  \n",
       "0     0.183621     0.468568    -0.410101             5.0  \n",
       "1     1.782360    -0.312205    -0.303033             2.0  \n",
       "2     1.652870    -0.274782    -0.416308             2.0  \n",
       "3     0.229216    -0.202741     1.492058             4.0  \n",
       "4    -0.255977     0.547891    -0.314431             1.0  \n",
       "\n",
       "[5 rows x 311 columns]"
      ]
     },
     "execution_count": 33,
     "metadata": {},
     "output_type": "execute_result"
    }
   ],
   "source": [
    "movies_copy.head()"
   ]
  },
  {
   "cell_type": "code",
   "execution_count": 34,
   "id": "3aaebaa8-d378-4df8-877a-66a7c53d7ffe",
   "metadata": {},
   "outputs": [],
   "source": [
    "movies_copy = movies_copy.reset_index()"
   ]
  },
  {
   "cell_type": "code",
   "execution_count": 35,
   "id": "7695b2dc",
   "metadata": {},
   "outputs": [],
   "source": [
    "movies_copy = movies_copy.drop(columns = {'index'})"
   ]
  },
  {
   "cell_type": "markdown",
   "id": "fa10c94b-962c-4a1e-9543-bdaf12fe4626",
   "metadata": {},
   "source": [
    "Divisão do conjunto de dados de modo estratificado:"
   ]
  },
  {
   "cell_type": "code",
   "execution_count": 36,
   "id": "9dda0a2d",
   "metadata": {},
   "outputs": [],
   "source": [
    "from sklearn.model_selection import StratifiedShuffleSplit\n",
    "\n",
    "split = StratifiedShuffleSplit(\n",
    "    n_splits=1,\n",
    "    test_size=0.2,\n",
    "    random_state=RANDOM_SEED,\n",
    ")\n",
    "for train_index, test_index in split.split(movies_copy, movies_copy['vote_count_cat']):\n",
    "    strat_train_set = movies_copy.loc[train_index]\n",
    "    strat_test_set = movies_copy.loc[test_index]"
   ]
  },
  {
   "cell_type": "markdown",
   "id": "8d8c04dd",
   "metadata": {},
   "source": [
    "Verificando se a separação estratificada foi bem sucedida:"
   ]
  },
  {
   "cell_type": "code",
   "execution_count": 37,
   "id": "9b801fb2",
   "metadata": {},
   "outputs": [
    {
     "data": {
      "text/plain": [
       "1.0    0.892510\n",
       "2.0    0.081226\n",
       "3.0    0.019455\n",
       "4.0    0.005350\n",
       "5.0    0.001459\n",
       "Name: vote_count_cat, dtype: float64"
      ]
     },
     "execution_count": 37,
     "metadata": {},
     "output_type": "execute_result"
    }
   ],
   "source": [
    "strat_train_set['vote_count_cat'].value_counts(True)"
   ]
  },
  {
   "cell_type": "code",
   "execution_count": 38,
   "id": "d3be2cbb",
   "metadata": {},
   "outputs": [
    {
     "data": {
      "text/plain": [
       "1.0    0.892996\n",
       "2.0    0.079767\n",
       "3.0    0.019455\n",
       "4.0    0.005837\n",
       "5.0    0.001946\n",
       "Name: vote_count_cat, dtype: float64"
      ]
     },
     "execution_count": 38,
     "metadata": {},
     "output_type": "execute_result"
    }
   ],
   "source": [
    "strat_test_set['vote_count_cat'].value_counts(True)"
   ]
  },
  {
   "cell_type": "markdown",
   "id": "123d0b93-43c1-4f6d-a779-69a7399e9a41",
   "metadata": {
    "tags": []
   },
   "source": [
    "Removendo a nova coluna que foi adicionada temporariamente:"
   ]
  },
  {
   "cell_type": "code",
   "execution_count": 39,
   "id": "b2960724",
   "metadata": {},
   "outputs": [],
   "source": [
    "strat_train_set.drop(['vote_count_cat'], axis=1, inplace=True)\n",
    "strat_test_set.drop(['vote_count_cat'], axis=1, inplace=True)"
   ]
  },
  {
   "cell_type": "markdown",
   "id": "fc987c77-bb8b-4b2f-85e0-50f53aecfe42",
   "metadata": {
    "tags": []
   },
   "source": [
    "<p style=\"text-align: justify\" align=\"justify\">A partir de agora tem-se os conjuntos de treinamento e teste, <b>strat_train_set</b> e <b>strat_test_set</b>, respectivamente. O conjunto <b>strat_train_set</b> será usado para várias explorações e para construir nosso modelo preditivo. Já o conjunto <b>strat_test_set</b> será usado só no final do projeto, para avaliar a performance final do modelo.</p>"
   ]
  },
  {
   "cell_type": "markdown",
   "id": "229e5b1c-b36c-4548-acd4-5613906aa0ed",
   "metadata": {},
   "source": [
    "### Preparando os dados para o modelo - Separando X e y"
   ]
  },
  {
   "cell_type": "markdown",
   "id": "6cd722d2-ccc8-4c45-8fc2-d776eb395d80",
   "metadata": {},
   "source": [
    "<p style=\"text-align: justify\" align=\"justify\">Com os conjuntos separados, é possível iniciar a construção de um modelo de machine learning para o problema.</p>\n",
    "\n",
    "<p style=\"text-align: justify\" align=\"justify\">Como o <b>dataset</b> foi \"limpado\" e criou-se referências em numéros para os objetos textos, basta separar as variáveis e construir os modelos preditivos.</p>"
   ]
  },
  {
   "cell_type": "code",
   "execution_count": 40,
   "id": "a42c30d5",
   "metadata": {},
   "outputs": [],
   "source": [
    "strat_train_set_copy = strat_train_set.copy()\n",
    "strat_test_set_copy = strat_test_set.copy()"
   ]
  },
  {
   "cell_type": "markdown",
   "id": "5636fa79-4f18-411f-93ba-872a8506bc70",
   "metadata": {},
   "source": [
    "Variáveis independentes (dataset original menos a coluna de valores dependentes):"
   ]
  },
  {
   "cell_type": "code",
   "execution_count": 41,
   "id": "9688934b-11ac-4549-8d8f-5cf3d6a7ad30",
   "metadata": {},
   "outputs": [],
   "source": [
    "movies = strat_train_set_copy.drop('revenue', axis=1)"
   ]
  },
  {
   "cell_type": "markdown",
   "id": "f97cef9e-63ca-46f1-9090-2745e0f2a2b7",
   "metadata": {},
   "source": [
    "Variável dependente (também chamada de label):"
   ]
  },
  {
   "cell_type": "code",
   "execution_count": 42,
   "id": "9ac822d6-ece1-4b5e-b3a5-869333760f1d",
   "metadata": {},
   "outputs": [],
   "source": [
    "movies_labels = strat_train_set_copy['revenue'].copy()"
   ]
  },
  {
   "cell_type": "markdown",
   "id": "c5998acf-72fe-400a-b88d-2751e20690e3",
   "metadata": {},
   "source": [
    "## Construindo modelos preditivos"
   ]
  },
  {
   "cell_type": "markdown",
   "id": "57d0ff24",
   "metadata": {},
   "source": [
    "#### **REGRESSÃO LINEAR:**"
   ]
  },
  {
   "cell_type": "markdown",
   "id": "fdbe5f38-8ee4-4a27-8894-f4d9cd40156a",
   "metadata": {},
   "source": [
    "<p style=\"text-align: justify\" align=\"justify\">O modelo mais simples de regressão é a <b>regressão linear</b>, na qual deseja-se estimar um valor dependente como uma combinação linear dos valores independentes. Para esse fim, é necessário treinar um modelo no Scikit-Learn a partir da criação de um regressor, e da chamada do método <b>fit()</b> deste regressor para ajustar os parâmetros internos do modelo:</p>"
   ]
  },
  {
   "cell_type": "code",
   "execution_count": 43,
   "id": "83f0b22d-1327-4465-a3af-793161e78a15",
   "metadata": {},
   "outputs": [
    {
     "data": {
      "text/plain": [
       "LinearRegression()"
      ]
     },
     "execution_count": 43,
     "metadata": {},
     "output_type": "execute_result"
    }
   ],
   "source": [
    "from sklearn.linear_model import LinearRegression\n",
    "\n",
    "lin_reg = LinearRegression()\n",
    "lin_reg.fit(movies, movies_labels)"
   ]
  },
  {
   "cell_type": "markdown",
   "id": "95aa7405-cf74-4b66-ab48-dac1eddce9f3",
   "metadata": {},
   "source": [
    "Para obter as previsões, basta chamar o método `predict()` e comparar com os valores originais para verificar o modelo:"
   ]
  },
  {
   "cell_type": "code",
   "execution_count": 44,
   "id": "26f445da-0d7d-4cee-8feb-f4f6a2065fb8",
   "metadata": {},
   "outputs": [
    {
     "name": "stdout",
     "output_type": "stream",
     "text": [
      "Predição: [7.45034540e+07 5.06566968e+07 8.73136573e+07 ... 4.52847063e+08\n",
      " 1.25031954e+08 5.75524319e+08]\n",
      "Original: [8.54985340e+07 1.20361490e+07 5.49561400e+07 ... 3.49424282e+08\n",
      " 1.11811453e+08 9.40335536e+08]\n"
     ]
    }
   ],
   "source": [
    "# previsões\n",
    "predicted_labels = lin_reg.predict(movies)\n",
    "print('Predição: {}'.format(predicted_labels.round(decimals=2)))\n",
    "\n",
    "# valores originais:\n",
    "print('Original: {}'.format(movies_labels.values.round(decimals=2)))"
   ]
  },
  {
   "cell_type": "markdown",
   "id": "3558086b-54c3-41e9-b324-519d1dd2b72b",
   "metadata": {},
   "source": [
    "Para verificar a eficácia do modelo, pode-se medir o erro de predição no conjunto de treinamento:"
   ]
  },
  {
   "cell_type": "code",
   "execution_count": 45,
   "id": "a3694f8e-f3cb-46cd-9daf-1927c5a96b0a",
   "metadata": {},
   "outputs": [
    {
     "name": "stdout",
     "output_type": "stream",
     "text": [
      "Regressão linear: RMSE = 92179758.78\n"
     ]
    }
   ],
   "source": [
    "from sklearn.metrics import mean_squared_error\n",
    "\n",
    "movies_predictions = lin_reg.predict(movies)\n",
    "lin_mse = mean_squared_error(movies_labels, movies_predictions)\n",
    "lin_rmse = np.sqrt(lin_mse)\n",
    "print('Regressão linear: RMSE = {:.2f}'.format(lin_rmse))"
   ]
  },
  {
   "cell_type": "code",
   "execution_count": 46,
   "id": "4fc017d8-2cd4-45fb-8aa6-8d33cb4d9e82",
   "metadata": {},
   "outputs": [],
   "source": [
    "residuo = movies_labels - movies_predictions"
   ]
  },
  {
   "cell_type": "code",
   "execution_count": 47,
   "id": "90ca9864-a173-43cb-b1ec-a876dcd8cc37",
   "metadata": {},
   "outputs": [
    {
     "data": {
      "image/png": "[encoded data removed]",
      "text/plain": [
       "<Figure size 432x288 with 1 Axes>"
      ]
     },
     "metadata": {
      "needs_background": "light"
     },
     "output_type": "display_data"
    }
   ],
   "source": [
    "plt.hist(residuo, bins=50);"
   ]
  },
  {
   "cell_type": "code",
   "execution_count": 48,
   "id": "55134177-85a2-4f64-8a3e-72c853b859d3",
   "metadata": {},
   "outputs": [
    {
     "data": {
      "text/plain": [
       "count    2.056000e+03\n",
       "mean    -1.600280e-08\n",
       "std      9.220218e+07\n",
       "min     -5.546957e+08\n",
       "25%     -4.591203e+07\n",
       "50%     -5.362647e+06\n",
       "75%      3.450751e+07\n",
       "max      5.576419e+08\n",
       "Name: revenue, dtype: float64"
      ]
     },
     "execution_count": 48,
     "metadata": {},
     "output_type": "execute_result"
    }
   ],
   "source": [
    "pd.Series(residuo).describe()"
   ]
  },
  {
   "cell_type": "markdown",
   "id": "9408fcbf",
   "metadata": {},
   "source": [
    "#### **ÁRVORE DE DECISÃO:**"
   ]
  },
  {
   "cell_type": "code",
   "execution_count": 49,
   "id": "b96c8963-d9b3-4c89-ad4e-ca9f77186299",
   "metadata": {},
   "outputs": [
    {
     "data": {
      "text/plain": [
       "DecisionTreeRegressor(random_state=42)"
      ]
     },
     "execution_count": 49,
     "metadata": {},
     "output_type": "execute_result"
    }
   ],
   "source": [
    "from sklearn.tree import DecisionTreeRegressor\n",
    "\n",
    "tree_reg = DecisionTreeRegressor(random_state=RANDOM_SEED)\n",
    "tree_reg.fit(movies, movies_labels)"
   ]
  },
  {
   "cell_type": "code",
   "execution_count": 50,
   "id": "71356d70-8cd5-4e1f-9678-c789298253ca",
   "metadata": {},
   "outputs": [
    {
     "name": "stdout",
     "output_type": "stream",
     "text": [
      "Predição: [8.54985340e+07 1.20361490e+07 5.49561400e+07 ... 3.49424282e+08\n",
      " 1.11811453e+08 9.40335536e+08]\n",
      "Original: [8.54985340e+07 1.20361490e+07 5.49561400e+07 ... 3.49424282e+08\n",
      " 1.11811453e+08 9.40335536e+08]\n"
     ]
    }
   ],
   "source": [
    "predicted_labels = tree_reg.predict(movies)\n",
    "print('Predição: {}'.format(predicted_labels))\n",
    "print('Original: {}'.format(movies_labels.values))"
   ]
  },
  {
   "cell_type": "code",
   "execution_count": 51,
   "id": "dfc8cff1-9dfd-46d5-825d-814ab1fb17b5",
   "metadata": {},
   "outputs": [
    {
     "name": "stdout",
     "output_type": "stream",
     "text": [
      "Árvore de decisão: RMSE = 0.00\n"
     ]
    }
   ],
   "source": [
    "movies_predictions = tree_reg.predict(movies)\n",
    "tree_mse = mean_squared_error(movies_labels, movies_predictions)\n",
    "tree_rmse = np.sqrt(tree_mse)\n",
    "print('Árvore de decisão: RMSE = {:.2f}'.format(tree_rmse))"
   ]
  },
  {
   "cell_type": "markdown",
   "id": "18fb49f1",
   "metadata": {},
   "source": [
    "#### Overfitting!"
   ]
  },
  {
   "cell_type": "markdown",
   "id": "c9398395",
   "metadata": {},
   "source": [
    "#### **RANDOM FOREST:**"
   ]
  },
  {
   "cell_type": "code",
   "execution_count": 52,
   "id": "94437a5d",
   "metadata": {},
   "outputs": [],
   "source": [
    "from sklearn.ensemble import RandomForestRegressor\n",
    "\n",
    "forest_reg = RandomForestRegressor(n_estimators=10, random_state=RANDOM_SEED)"
   ]
  },
  {
   "cell_type": "code",
   "execution_count": 53,
   "id": "6c3e459f",
   "metadata": {},
   "outputs": [
    {
     "name": "stdout",
     "output_type": "stream",
     "text": [
      "Regressão random forest: RMSE = 0.00\n"
     ]
    }
   ],
   "source": [
    "forest_reg.fit(movies, movies_labels)\n",
    "\n",
    "y_pred = forest_reg.predict(movies)\n",
    "forest_rmse = np.sqrt(mean_squared_error(movies_labels, movies_predictions))\n",
    "print('Regressão random forest: RMSE = {:.2f}'.format(forest_rmse))"
   ]
  },
  {
   "cell_type": "markdown",
   "id": "e66ac59b",
   "metadata": {},
   "source": [
    "#### Overfitting!"
   ]
  },
  {
   "cell_type": "markdown",
   "id": "5d647779-12e7-4274-963f-0958aa0c0d33",
   "metadata": {},
   "source": [
    "### Melhorando a avaliação usando validação cruzada"
   ]
  },
  {
   "cell_type": "markdown",
   "id": "9e63d59c",
   "metadata": {},
   "source": [
    "<p style=\"text-align: justify\" align=\"justify\">Para escolher um bom modelo, é necessário tentar estimar o erro de teste do modelo. Nesse sentido, deseja-se treinar o modelo em um certo conjunto de dados, e testá-lo em outro conjunto de dados. Para tal, divide-se o conjunto de treinamento em dois novamente! Usa-se um pedaço para treinar modelos, e outro para testar desempenho.</p>\n",
    "\n",
    "<p style=\"text-align: justify\" align=\"justify\">Isso é necessário pois os verdadeiros dados de teste do modelo não devem ser tocados até que toda a análise esteja pronta.</p>\n",
    "\n",
    "<p style=\"text-align: justify\" align=\"justify\">Por simplicidade a equipe usa a divisão não-estratificada:</p>"
   ]
  },
  {
   "cell_type": "code",
   "execution_count": 54,
   "id": "6319bc2b-26ea-4f00-b791-c4cccfd93315",
   "metadata": {},
   "outputs": [],
   "source": [
    "from sklearn.model_selection import train_test_split\n",
    "\n",
    "X_train, X_test, y_train, y_test = train_test_split(\n",
    "    movies,\n",
    "    movies_labels,\n",
    "    test_size=0.2,\n",
    "    random_state=RANDOM_SEED,\n",
    ")"
   ]
  },
  {
   "cell_type": "markdown",
   "id": "fd68a733-7bc3-4d0c-966c-b4d5de3a309d",
   "metadata": {},
   "source": [
    "#### **REGRESSÃO LINEAR:**"
   ]
  },
  {
   "cell_type": "code",
   "execution_count": 55,
   "id": "f5366a91-0884-43e2-be63-746134ccb31d",
   "metadata": {},
   "outputs": [
    {
     "name": "stdout",
     "output_type": "stream",
     "text": [
      "Regressão linear: RMSE = 391451193.39\n"
     ]
    }
   ],
   "source": [
    "lin_reg.fit(X_train, y_train)\n",
    "\n",
    "y_pred_rl = lin_reg.predict(X_test)\n",
    "lin_rmse = np.sqrt(mean_squared_error(y_test, y_pred_rl))\n",
    "print('Regressão linear: RMSE = {:.2f}'.format(lin_rmse))"
   ]
  },
  {
   "cell_type": "markdown",
   "id": "0568ae75-bfce-4a67-8529-7bc95e031b1d",
   "metadata": {},
   "source": [
    "#### **ÁRVORE DE DECISÃO:**"
   ]
  },
  {
   "cell_type": "code",
   "execution_count": 56,
   "id": "472a18a3-9588-442a-956f-2cd8b7f514c8",
   "metadata": {},
   "outputs": [
    {
     "name": "stdout",
     "output_type": "stream",
     "text": [
      "Árvore de decisão: RMSE = 129084889.47\n"
     ]
    }
   ],
   "source": [
    "tree_reg.fit(X_train, y_train)\n",
    "\n",
    "y_pred_tr = tree_reg.predict(X_test)\n",
    "tree_rmse = np.sqrt(mean_squared_error(y_test, y_pred_tr))\n",
    "print('Árvore de decisão: RMSE = {:.2f}'.format(tree_rmse))"
   ]
  },
  {
   "cell_type": "markdown",
   "id": "6ff5f906-3312-4fec-92cf-3d7e8eb6ee35",
   "metadata": {},
   "source": [
    "#### **RANDOM FOREST:**"
   ]
  },
  {
   "cell_type": "code",
   "execution_count": 57,
   "id": "f5dc7dd4-cb58-4266-b750-842c4f79dd3c",
   "metadata": {},
   "outputs": [
    {
     "name": "stdout",
     "output_type": "stream",
     "text": [
      "Random Forest: RMSE = 103081091.88\n"
     ]
    }
   ],
   "source": [
    "forest_reg.fit(X_train, y_train)\n",
    "\n",
    "y_pred_rf = forest_reg.predict(X_test)\n",
    "forest_rmse = np.sqrt(mean_squared_error(y_test, y_pred_rf))\n",
    "print('Random Forest: RMSE = {:.2f}'.format(forest_rmse))"
   ]
  },
  {
   "cell_type": "markdown",
   "id": "45ae5145-76d9-4fd6-8f3a-09b810564980",
   "metadata": {},
   "source": [
    "<p style=\"text-align: justify\" align=\"justify\">Parece que o random forest é melhor que os outros modelos, mas talvez todos esses resultados sejam pura sorte. Para verificar pode-se repetir esses experimentos com partições diferentes e ver se o resultado se mantém. O scikit-learn já tem ferramentas para ajudar nessa tarefa:</p>"
   ]
  },
  {
   "cell_type": "markdown",
   "id": "2c037965-c807-455f-bea7-238bae2888a7",
   "metadata": {},
   "source": [
    "#### **REGRESSÃO LINEAR:**"
   ]
  },
  {
   "cell_type": "code",
   "execution_count": 58,
   "id": "5cf415cf-fd8f-4a96-bc56-8377b93f0fd1",
   "metadata": {},
   "outputs": [
    {
     "name": "stdout",
     "output_type": "stream",
     "text": [
      "Scores: [1.37704007e+08 1.84520834e+08 2.04737099e+08 1.92591936e+08\n",
      " 4.38167946e+08 2.48310124e+08 2.18139882e+08 1.46773156e+08\n",
      " 3.91404373e+08 1.60299378e+08]\n",
      "Mean: 232264873.691926\n",
      "Standard deviation: 97066605.18579668\n"
     ]
    }
   ],
   "source": [
    "from sklearn.model_selection import cross_val_score\n",
    "\n",
    "lin_scores = cross_val_score(\n",
    "    lin_reg,  # modelo\n",
    "    movies,  # X_train\n",
    "    movies_labels,  # y_train\n",
    "    scoring='neg_mean_squared_error',  # metrica de interesse\n",
    "    cv=10,  # Quantas partições eu quero\n",
    "    n_jobs=-1,  # Use todos os cores da maquina!\n",
    ")\n",
    "lin_rmse_scores = np.sqrt(-lin_scores)\n",
    "\n",
    "\n",
    "def display_scores(scores):\n",
    "    print('Scores:', scores.round(decimals=2))\n",
    "    print('Mean:', scores.mean())\n",
    "    print('Standard deviation:', scores.std())\n",
    "\n",
    "\n",
    "display_scores(lin_rmse_scores)"
   ]
  },
  {
   "cell_type": "markdown",
   "id": "a8910ce1-6582-48af-8ffa-21fdc1f4f6fd",
   "metadata": {},
   "source": [
    "#### **ÁRVORE DE DECISÃO:**"
   ]
  },
  {
   "cell_type": "code",
   "execution_count": 59,
   "id": "9b1f9d64-5a85-4f35-9042-fb4ddc87ea7a",
   "metadata": {},
   "outputs": [
    {
     "name": "stdout",
     "output_type": "stream",
     "text": [
      "Scores: [1.83215566e+08 1.25521282e+08 1.78557888e+08 1.67642065e+08\n",
      " 1.48125798e+08 1.77079129e+08 1.96654286e+08 1.75255477e+08\n",
      " 1.60436240e+08 1.51926268e+08]\n",
      "Mean: 166441399.971425\n",
      "Standard deviation: 19467818.603153493\n"
     ]
    }
   ],
   "source": [
    "tree_scores = cross_val_score(\n",
    "    tree_reg,\n",
    "    movies,\n",
    "    movies_labels,\n",
    "    scoring='neg_mean_squared_error',\n",
    "    cv=10,\n",
    "    n_jobs=-1,\n",
    ")\n",
    "tree_rmse_scores = np.sqrt(-tree_scores)\n",
    "display_scores(tree_rmse_scores)"
   ]
  },
  {
   "cell_type": "markdown",
   "id": "ae9b79eb-1a7c-4309-8705-9694afb69a0a",
   "metadata": {},
   "source": [
    "#### **RANDOM FOREST:**"
   ]
  },
  {
   "cell_type": "code",
   "execution_count": 60,
   "id": "341f4346-1af5-450f-ab1c-c77e7402525d",
   "metadata": {},
   "outputs": [
    {
     "name": "stdout",
     "output_type": "stream",
     "text": [
      "Scores: [9.20505506e+07 9.06151183e+07 1.02314001e+08 1.17472798e+08\n",
      " 1.13347116e+08 1.51848752e+08 1.77897337e+08 1.04725678e+08\n",
      " 1.10238664e+08 1.14064282e+08]\n",
      "Mean: 117457429.7141074\n",
      "Standard deviation: 25833514.193084817\n"
     ]
    }
   ],
   "source": [
    "forest_scores = cross_val_score(\n",
    "    forest_reg,\n",
    "    movies,\n",
    "    movies_labels,\n",
    "    scoring='neg_mean_squared_error',\n",
    "    cv=10,\n",
    "    n_jobs=-1,\n",
    ")\n",
    "forest_rmse_scores = np.sqrt(-forest_scores)\n",
    "display_scores(forest_rmse_scores)"
   ]
  },
  {
   "cell_type": "markdown",
   "id": "713aab51-a557-4427-b401-f8b40d051668",
   "metadata": {},
   "source": [
    "Comparando os três modelos:"
   ]
  },
  {
   "cell_type": "code",
   "execution_count": 61,
   "id": "7bf697d7-1692-48ec-a55e-2e494f8a3e37",
   "metadata": {},
   "outputs": [
    {
     "data": {
      "text/plain": [
       "Text(0.5, 1.0, 'RMSE / Regressor')"
      ]
     },
     "execution_count": 61,
     "metadata": {},
     "output_type": "execute_result"
    },
    {
     "data": {
      "image/png": "[encoded data removed]",
      "text/plain": [
       "<Figure size 432x288 with 1 Axes>"
      ]
     },
     "metadata": {
      "needs_background": "light"
     },
     "output_type": "display_data"
    }
   ],
   "source": [
    "pd.DataFrame({\n",
    "    'Linear': lin_rmse_scores,\n",
    "    'Decision Tree': tree_rmse_scores,\n",
    "    'Random Forest': forest_rmse_scores,\n",
    "}).plot.box();\n",
    "plt.ylabel(r'RMSE $[\\mathtt{USD}]$')\n",
    "plt.title(\"RMSE / Regressor\")"
   ]
  },
  {
   "cell_type": "markdown",
   "id": "611bcf8f-23c1-4c94-a29f-446a56714186",
   "metadata": {},
   "source": [
    "Agora sim pode-se perceber que o regressor **random forest** é melhor que os outros uma vez que apresenta um menor RMSE."
   ]
  },
  {
   "cell_type": "code",
   "execution_count": 62,
   "id": "77621f30-cabb-4ab7-add6-92e776f67aeb",
   "metadata": {},
   "outputs": [
    {
     "name": "stderr",
     "output_type": "stream",
     "text": [
      "/Users/gabrielacaruso/.local/share/virtualenvs/MachineLearning-DbII0dUp/lib/python3.9/site-packages/sklearn/linear_model/_base.py:141: FutureWarning: 'normalize' was deprecated in version 1.0 and will be removed in 1.2.\n",
      "If you wish to scale the data, use Pipeline with a StandardScaler in a preprocessing stage. To reproduce the previous behavior:\n",
      "\n",
      "from sklearn.pipeline import make_pipeline\n",
      "\n",
      "model = make_pipeline(StandardScaler(with_mean=False), LinearRegression())\n",
      "\n",
      "If you wish to pass a sample_weight parameter, you need to pass it as a fit parameter to each step of the pipeline as follows:\n",
      "\n",
      "kwargs = {s[0] + '__sample_weight': sample_weight for s in model.steps}\n",
      "model.fit(X, y, **kwargs)\n",
      "\n",
      "\n",
      "  warnings.warn(\n",
      "/Users/gabrielacaruso/.local/share/virtualenvs/MachineLearning-DbII0dUp/lib/python3.9/site-packages/sklearn/linear_model/_base.py:141: FutureWarning: 'normalize' was deprecated in version 1.0 and will be removed in 1.2.\n",
      "If you wish to scale the data, use Pipeline with a StandardScaler in a preprocessing stage. To reproduce the previous behavior:\n",
      "\n",
      "from sklearn.pipeline import make_pipeline\n",
      "\n",
      "model = make_pipeline(StandardScaler(with_mean=False), LinearRegression())\n",
      "\n",
      "If you wish to pass a sample_weight parameter, you need to pass it as a fit parameter to each step of the pipeline as follows:\n",
      "\n",
      "kwargs = {s[0] + '__sample_weight': sample_weight for s in model.steps}\n",
      "model.fit(X, y, **kwargs)\n",
      "\n",
      "\n",
      "  warnings.warn(\n",
      "/Users/gabrielacaruso/.local/share/virtualenvs/MachineLearning-DbII0dUp/lib/python3.9/site-packages/sklearn/linear_model/_base.py:141: FutureWarning: 'normalize' was deprecated in version 1.0 and will be removed in 1.2.\n",
      "If you wish to scale the data, use Pipeline with a StandardScaler in a preprocessing stage. To reproduce the previous behavior:\n",
      "\n",
      "from sklearn.pipeline import make_pipeline\n",
      "\n",
      "model = make_pipeline(StandardScaler(with_mean=False), LinearRegression())\n",
      "\n",
      "If you wish to pass a sample_weight parameter, you need to pass it as a fit parameter to each step of the pipeline as follows:\n",
      "\n",
      "kwargs = {s[0] + '__sample_weight': sample_weight for s in model.steps}\n",
      "model.fit(X, y, **kwargs)\n",
      "\n",
      "\n",
      "  warnings.warn(\n",
      "/Users/gabrielacaruso/.local/share/virtualenvs/MachineLearning-DbII0dUp/lib/python3.9/site-packages/sklearn/linear_model/_base.py:141: FutureWarning: 'normalize' was deprecated in version 1.0 and will be removed in 1.2.\n",
      "If you wish to scale the data, use Pipeline with a StandardScaler in a preprocessing stage. To reproduce the previous behavior:\n",
      "\n",
      "from sklearn.pipeline import make_pipeline\n",
      "\n",
      "model = make_pipeline(StandardScaler(with_mean=False), LinearRegression())\n",
      "\n",
      "If you wish to pass a sample_weight parameter, you need to pass it as a fit parameter to each step of the pipeline as follows:\n",
      "\n",
      "kwargs = {s[0] + '__sample_weight': sample_weight for s in model.steps}\n",
      "model.fit(X, y, **kwargs)\n",
      "\n",
      "\n",
      "  warnings.warn(\n",
      "/Users/gabrielacaruso/.local/share/virtualenvs/MachineLearning-DbII0dUp/lib/python3.9/site-packages/sklearn/linear_model/_base.py:141: FutureWarning: 'normalize' was deprecated in version 1.0 and will be removed in 1.2.\n",
      "If you wish to scale the data, use Pipeline with a StandardScaler in a preprocessing stage. To reproduce the previous behavior:\n",
      "\n",
      "from sklearn.pipeline import make_pipeline\n",
      "\n",
      "model = make_pipeline(StandardScaler(with_mean=False), LinearRegression())\n",
      "\n",
      "If you wish to pass a sample_weight parameter, you need to pass it as a fit parameter to each step of the pipeline as follows:\n",
      "\n",
      "kwargs = {s[0] + '__sample_weight': sample_weight for s in model.steps}\n",
      "model.fit(X, y, **kwargs)\n",
      "\n",
      "\n",
      "  warnings.warn(\n",
      "/Users/gabrielacaruso/.local/share/virtualenvs/MachineLearning-DbII0dUp/lib/python3.9/site-packages/sklearn/linear_model/_base.py:148: FutureWarning: 'normalize' was deprecated in version 1.0 and will be removed in 1.2. Please leave the normalize parameter to its default value to silence this warning. The default behavior of this estimator is to not do any normalization. If normalization is needed please use sklearn.preprocessing.StandardScaler instead.\n",
      "  warnings.warn(\n",
      "/Users/gabrielacaruso/.local/share/virtualenvs/MachineLearning-DbII0dUp/lib/python3.9/site-packages/sklearn/linear_model/_base.py:148: FutureWarning: 'normalize' was deprecated in version 1.0 and will be removed in 1.2. Please leave the normalize parameter to its default value to silence this warning. The default behavior of this estimator is to not do any normalization. If normalization is needed please use sklearn.preprocessing.StandardScaler instead.\n",
      "  warnings.warn(\n",
      "/Users/gabrielacaruso/.local/share/virtualenvs/MachineLearning-DbII0dUp/lib/python3.9/site-packages/sklearn/linear_model/_base.py:148: FutureWarning: 'normalize' was deprecated in version 1.0 and will be removed in 1.2. Please leave the normalize parameter to its default value to silence this warning. The default behavior of this estimator is to not do any normalization. If normalization is needed please use sklearn.preprocessing.StandardScaler instead.\n",
      "  warnings.warn(\n",
      "/Users/gabrielacaruso/.local/share/virtualenvs/MachineLearning-DbII0dUp/lib/python3.9/site-packages/sklearn/linear_model/_base.py:148: FutureWarning: 'normalize' was deprecated in version 1.0 and will be removed in 1.2. Please leave the normalize parameter to its default value to silence this warning. The default behavior of this estimator is to not do any normalization. If normalization is needed please use sklearn.preprocessing.StandardScaler instead.\n",
      "  warnings.warn(\n",
      "/Users/gabrielacaruso/.local/share/virtualenvs/MachineLearning-DbII0dUp/lib/python3.9/site-packages/sklearn/linear_model/_base.py:141: FutureWarning: 'normalize' was deprecated in version 1.0 and will be removed in 1.2.\n",
      "If you wish to scale the data, use Pipeline with a StandardScaler in a preprocessing stage. To reproduce the previous behavior:\n",
      "\n",
      "from sklearn.pipeline import make_pipeline\n",
      "\n",
      "model = make_pipeline(StandardScaler(with_mean=False), LinearRegression())\n",
      "\n",
      "If you wish to pass a sample_weight parameter, you need to pass it as a fit parameter to each step of the pipeline as follows:\n",
      "\n",
      "kwargs = {s[0] + '__sample_weight': sample_weight for s in model.steps}\n",
      "model.fit(X, y, **kwargs)\n",
      "\n",
      "\n",
      "  warnings.warn(\n",
      "/Users/gabrielacaruso/.local/share/virtualenvs/MachineLearning-DbII0dUp/lib/python3.9/site-packages/sklearn/linear_model/_base.py:141: FutureWarning: 'normalize' was deprecated in version 1.0 and will be removed in 1.2.\n",
      "If you wish to scale the data, use Pipeline with a StandardScaler in a preprocessing stage. To reproduce the previous behavior:\n",
      "\n",
      "from sklearn.pipeline import make_pipeline\n",
      "\n",
      "model = make_pipeline(StandardScaler(with_mean=False), LinearRegression())\n",
      "\n",
      "If you wish to pass a sample_weight parameter, you need to pass it as a fit parameter to each step of the pipeline as follows:\n",
      "\n",
      "kwargs = {s[0] + '__sample_weight': sample_weight for s in model.steps}\n",
      "model.fit(X, y, **kwargs)\n",
      "\n",
      "\n",
      "  warnings.warn(\n",
      "/Users/gabrielacaruso/.local/share/virtualenvs/MachineLearning-DbII0dUp/lib/python3.9/site-packages/sklearn/linear_model/_base.py:141: FutureWarning: 'normalize' was deprecated in version 1.0 and will be removed in 1.2.\n",
      "If you wish to scale the data, use Pipeline with a StandardScaler in a preprocessing stage. To reproduce the previous behavior:\n",
      "\n",
      "from sklearn.pipeline import make_pipeline\n",
      "\n",
      "model = make_pipeline(StandardScaler(with_mean=False), LinearRegression())\n",
      "\n",
      "If you wish to pass a sample_weight parameter, you need to pass it as a fit parameter to each step of the pipeline as follows:\n",
      "\n",
      "kwargs = {s[0] + '__sample_weight': sample_weight for s in model.steps}\n",
      "model.fit(X, y, **kwargs)\n",
      "\n",
      "\n",
      "  warnings.warn(\n",
      "/Users/gabrielacaruso/.local/share/virtualenvs/MachineLearning-DbII0dUp/lib/python3.9/site-packages/sklearn/linear_model/_base.py:148: FutureWarning: 'normalize' was deprecated in version 1.0 and will be removed in 1.2. Please leave the normalize parameter to its default value to silence this warning. The default behavior of this estimator is to not do any normalization. If normalization is needed please use sklearn.preprocessing.StandardScaler instead.\n",
      "  warnings.warn(\n",
      "/Users/gabrielacaruso/.local/share/virtualenvs/MachineLearning-DbII0dUp/lib/python3.9/site-packages/sklearn/linear_model/_base.py:141: FutureWarning: 'normalize' was deprecated in version 1.0 and will be removed in 1.2.\n",
      "If you wish to scale the data, use Pipeline with a StandardScaler in a preprocessing stage. To reproduce the previous behavior:\n",
      "\n",
      "from sklearn.pipeline import make_pipeline\n",
      "\n",
      "model = make_pipeline(StandardScaler(with_mean=False), LinearRegression())\n",
      "\n",
      "If you wish to pass a sample_weight parameter, you need to pass it as a fit parameter to each step of the pipeline as follows:\n",
      "\n",
      "kwargs = {s[0] + '__sample_weight': sample_weight for s in model.steps}\n",
      "model.fit(X, y, **kwargs)\n",
      "\n",
      "\n",
      "  warnings.warn(\n",
      "/Users/gabrielacaruso/.local/share/virtualenvs/MachineLearning-DbII0dUp/lib/python3.9/site-packages/sklearn/linear_model/_base.py:141: FutureWarning: 'normalize' was deprecated in version 1.0 and will be removed in 1.2.\n",
      "If you wish to scale the data, use Pipeline with a StandardScaler in a preprocessing stage. To reproduce the previous behavior:\n",
      "\n",
      "from sklearn.pipeline import make_pipeline\n",
      "\n",
      "model = make_pipeline(StandardScaler(with_mean=False), LinearRegression())\n",
      "\n",
      "If you wish to pass a sample_weight parameter, you need to pass it as a fit parameter to each step of the pipeline as follows:\n",
      "\n",
      "kwargs = {s[0] + '__sample_weight': sample_weight for s in model.steps}\n",
      "model.fit(X, y, **kwargs)\n",
      "\n",
      "\n",
      "  warnings.warn(\n",
      "/Users/gabrielacaruso/.local/share/virtualenvs/MachineLearning-DbII0dUp/lib/python3.9/site-packages/sklearn/linear_model/_base.py:148: FutureWarning: 'normalize' was deprecated in version 1.0 and will be removed in 1.2. Please leave the normalize parameter to its default value to silence this warning. The default behavior of this estimator is to not do any normalization. If normalization is needed please use sklearn.preprocessing.StandardScaler instead.\n",
      "  warnings.warn(\n",
      "/Users/gabrielacaruso/.local/share/virtualenvs/MachineLearning-DbII0dUp/lib/python3.9/site-packages/sklearn/linear_model/_base.py:148: FutureWarning: 'normalize' was deprecated in version 1.0 and will be removed in 1.2. Please leave the normalize parameter to its default value to silence this warning. The default behavior of this estimator is to not do any normalization. If normalization is needed please use sklearn.preprocessing.StandardScaler instead.\n",
      "  warnings.warn(\n",
      "/Users/gabrielacaruso/.local/share/virtualenvs/MachineLearning-DbII0dUp/lib/python3.9/site-packages/sklearn/linear_model/_base.py:148: FutureWarning: 'normalize' was deprecated in version 1.0 and will be removed in 1.2. Please leave the normalize parameter to its default value to silence this warning. The default behavior of this estimator is to not do any normalization. If normalization is needed please use sklearn.preprocessing.StandardScaler instead.\n",
      "  warnings.warn(\n",
      "/Users/gabrielacaruso/.local/share/virtualenvs/MachineLearning-DbII0dUp/lib/python3.9/site-packages/sklearn/linear_model/_base.py:141: FutureWarning: 'normalize' was deprecated in version 1.0 and will be removed in 1.2.\n",
      "If you wish to scale the data, use Pipeline with a StandardScaler in a preprocessing stage. To reproduce the previous behavior:\n",
      "\n",
      "from sklearn.pipeline import make_pipeline\n",
      "\n",
      "model = make_pipeline(StandardScaler(with_mean=False), LinearRegression())\n",
      "\n",
      "If you wish to pass a sample_weight parameter, you need to pass it as a fit parameter to each step of the pipeline as follows:\n",
      "\n",
      "kwargs = {s[0] + '__sample_weight': sample_weight for s in model.steps}\n",
      "model.fit(X, y, **kwargs)\n",
      "\n",
      "\n",
      "  warnings.warn(\n",
      "/Users/gabrielacaruso/.local/share/virtualenvs/MachineLearning-DbII0dUp/lib/python3.9/site-packages/sklearn/linear_model/_base.py:141: FutureWarning: 'normalize' was deprecated in version 1.0 and will be removed in 1.2.\n",
      "If you wish to scale the data, use Pipeline with a StandardScaler in a preprocessing stage. To reproduce the previous behavior:\n",
      "\n",
      "from sklearn.pipeline import make_pipeline\n",
      "\n",
      "model = make_pipeline(StandardScaler(with_mean=False), LinearRegression())\n",
      "\n",
      "If you wish to pass a sample_weight parameter, you need to pass it as a fit parameter to each step of the pipeline as follows:\n",
      "\n",
      "kwargs = {s[0] + '__sample_weight': sample_weight for s in model.steps}\n",
      "model.fit(X, y, **kwargs)\n",
      "\n",
      "\n",
      "  warnings.warn(\n",
      "/Users/gabrielacaruso/.local/share/virtualenvs/MachineLearning-DbII0dUp/lib/python3.9/site-packages/sklearn/linear_model/_base.py:148: FutureWarning: 'normalize' was deprecated in version 1.0 and will be removed in 1.2. Please leave the normalize parameter to its default value to silence this warning. The default behavior of this estimator is to not do any normalization. If normalization is needed please use sklearn.preprocessing.StandardScaler instead.\n",
      "  warnings.warn(\n",
      "/Users/gabrielacaruso/.local/share/virtualenvs/MachineLearning-DbII0dUp/lib/python3.9/site-packages/sklearn/linear_model/_base.py:148: FutureWarning: 'normalize' was deprecated in version 1.0 and will be removed in 1.2. Please leave the normalize parameter to its default value to silence this warning. The default behavior of this estimator is to not do any normalization. If normalization is needed please use sklearn.preprocessing.StandardScaler instead.\n",
      "  warnings.warn(\n",
      "/Users/gabrielacaruso/.local/share/virtualenvs/MachineLearning-DbII0dUp/lib/python3.9/site-packages/sklearn/linear_model/_base.py:141: FutureWarning: 'normalize' was deprecated in version 1.0 and will be removed in 1.2.\n",
      "If you wish to scale the data, use Pipeline with a StandardScaler in a preprocessing stage. To reproduce the previous behavior:\n",
      "\n",
      "from sklearn.pipeline import make_pipeline\n",
      "\n",
      "model = make_pipeline(StandardScaler(with_mean=False), LinearRegression())\n",
      "\n",
      "If you wish to pass a sample_weight parameter, you need to pass it as a fit parameter to each step of the pipeline as follows:\n",
      "\n",
      "kwargs = {s[0] + '__sample_weight': sample_weight for s in model.steps}\n",
      "model.fit(X, y, **kwargs)\n",
      "\n",
      "\n",
      "  warnings.warn(\n",
      "/Users/gabrielacaruso/.local/share/virtualenvs/MachineLearning-DbII0dUp/lib/python3.9/site-packages/sklearn/linear_model/_base.py:141: FutureWarning: 'normalize' was deprecated in version 1.0 and will be removed in 1.2.\n",
      "If you wish to scale the data, use Pipeline with a StandardScaler in a preprocessing stage. To reproduce the previous behavior:\n",
      "\n",
      "from sklearn.pipeline import make_pipeline\n",
      "\n",
      "model = make_pipeline(StandardScaler(with_mean=False), LinearRegression())\n",
      "\n",
      "If you wish to pass a sample_weight parameter, you need to pass it as a fit parameter to each step of the pipeline as follows:\n",
      "\n",
      "kwargs = {s[0] + '__sample_weight': sample_weight for s in model.steps}\n",
      "model.fit(X, y, **kwargs)\n",
      "\n",
      "\n",
      "  warnings.warn(\n",
      "/Users/gabrielacaruso/.local/share/virtualenvs/MachineLearning-DbII0dUp/lib/python3.9/site-packages/sklearn/linear_model/_base.py:141: FutureWarning: 'normalize' was deprecated in version 1.0 and will be removed in 1.2.\n",
      "If you wish to scale the data, use Pipeline with a StandardScaler in a preprocessing stage. To reproduce the previous behavior:\n",
      "\n",
      "from sklearn.pipeline import make_pipeline\n",
      "\n",
      "model = make_pipeline(StandardScaler(with_mean=False), LinearRegression())\n",
      "\n",
      "If you wish to pass a sample_weight parameter, you need to pass it as a fit parameter to each step of the pipeline as follows:\n",
      "\n",
      "kwargs = {s[0] + '__sample_weight': sample_weight for s in model.steps}\n",
      "model.fit(X, y, **kwargs)\n",
      "\n",
      "\n",
      "  warnings.warn(\n",
      "/Users/gabrielacaruso/.local/share/virtualenvs/MachineLearning-DbII0dUp/lib/python3.9/site-packages/sklearn/linear_model/_base.py:148: FutureWarning: 'normalize' was deprecated in version 1.0 and will be removed in 1.2. Please leave the normalize parameter to its default value to silence this warning. The default behavior of this estimator is to not do any normalization. If normalization is needed please use sklearn.preprocessing.StandardScaler instead.\n",
      "  warnings.warn(\n",
      "/Users/gabrielacaruso/.local/share/virtualenvs/MachineLearning-DbII0dUp/lib/python3.9/site-packages/sklearn/linear_model/_base.py:148: FutureWarning: 'normalize' was deprecated in version 1.0 and will be removed in 1.2. Please leave the normalize parameter to its default value to silence this warning. The default behavior of this estimator is to not do any normalization. If normalization is needed please use sklearn.preprocessing.StandardScaler instead.\n",
      "  warnings.warn(\n",
      "/Users/gabrielacaruso/.local/share/virtualenvs/MachineLearning-DbII0dUp/lib/python3.9/site-packages/sklearn/linear_model/_base.py:141: FutureWarning: 'normalize' was deprecated in version 1.0 and will be removed in 1.2.\n",
      "If you wish to scale the data, use Pipeline with a StandardScaler in a preprocessing stage. To reproduce the previous behavior:\n",
      "\n",
      "from sklearn.pipeline import make_pipeline\n",
      "\n",
      "model = make_pipeline(StandardScaler(with_mean=False), LinearRegression())\n",
      "\n",
      "If you wish to pass a sample_weight parameter, you need to pass it as a fit parameter to each step of the pipeline as follows:\n",
      "\n",
      "kwargs = {s[0] + '__sample_weight': sample_weight for s in model.steps}\n",
      "model.fit(X, y, **kwargs)\n",
      "\n",
      "\n",
      "  warnings.warn(\n",
      "/Users/gabrielacaruso/.local/share/virtualenvs/MachineLearning-DbII0dUp/lib/python3.9/site-packages/sklearn/linear_model/_base.py:148: FutureWarning: 'normalize' was deprecated in version 1.0 and will be removed in 1.2. Please leave the normalize parameter to its default value to silence this warning. The default behavior of this estimator is to not do any normalization. If normalization is needed please use sklearn.preprocessing.StandardScaler instead.\n",
      "  warnings.warn(\n",
      "/Users/gabrielacaruso/.local/share/virtualenvs/MachineLearning-DbII0dUp/lib/python3.9/site-packages/sklearn/linear_model/_base.py:148: FutureWarning: 'normalize' was deprecated in version 1.0 and will be removed in 1.2. Please leave the normalize parameter to its default value to silence this warning. The default behavior of this estimator is to not do any normalization. If normalization is needed please use sklearn.preprocessing.StandardScaler instead.\n",
      "  warnings.warn(\n",
      "/Users/gabrielacaruso/.local/share/virtualenvs/MachineLearning-DbII0dUp/lib/python3.9/site-packages/sklearn/linear_model/_base.py:148: FutureWarning: 'normalize' was deprecated in version 1.0 and will be removed in 1.2. Please leave the normalize parameter to its default value to silence this warning. The default behavior of this estimator is to not do any normalization. If normalization is needed please use sklearn.preprocessing.StandardScaler instead.\n",
      "  warnings.warn(\n",
      "/Users/gabrielacaruso/.local/share/virtualenvs/MachineLearning-DbII0dUp/lib/python3.9/site-packages/sklearn/linear_model/_base.py:141: FutureWarning: 'normalize' was deprecated in version 1.0 and will be removed in 1.2.\n",
      "If you wish to scale the data, use Pipeline with a StandardScaler in a preprocessing stage. To reproduce the previous behavior:\n",
      "\n",
      "from sklearn.pipeline import make_pipeline\n",
      "\n",
      "model = make_pipeline(StandardScaler(with_mean=False), LinearRegression())\n",
      "\n",
      "If you wish to pass a sample_weight parameter, you need to pass it as a fit parameter to each step of the pipeline as follows:\n",
      "\n",
      "kwargs = {s[0] + '__sample_weight': sample_weight for s in model.steps}\n",
      "model.fit(X, y, **kwargs)\n",
      "\n",
      "\n",
      "  warnings.warn(\n",
      "/Users/gabrielacaruso/.local/share/virtualenvs/MachineLearning-DbII0dUp/lib/python3.9/site-packages/sklearn/linear_model/_base.py:141: FutureWarning: 'normalize' was deprecated in version 1.0 and will be removed in 1.2.\n",
      "If you wish to scale the data, use Pipeline with a StandardScaler in a preprocessing stage. To reproduce the previous behavior:\n",
      "\n",
      "from sklearn.pipeline import make_pipeline\n",
      "\n",
      "model = make_pipeline(StandardScaler(with_mean=False), LinearRegression())\n",
      "\n",
      "If you wish to pass a sample_weight parameter, you need to pass it as a fit parameter to each step of the pipeline as follows:\n",
      "\n",
      "kwargs = {s[0] + '__sample_weight': sample_weight for s in model.steps}\n",
      "model.fit(X, y, **kwargs)\n",
      "\n",
      "\n",
      "  warnings.warn(\n",
      "/Users/gabrielacaruso/.local/share/virtualenvs/MachineLearning-DbII0dUp/lib/python3.9/site-packages/sklearn/linear_model/_base.py:141: FutureWarning: 'normalize' was deprecated in version 1.0 and will be removed in 1.2.\n",
      "If you wish to scale the data, use Pipeline with a StandardScaler in a preprocessing stage. To reproduce the previous behavior:\n",
      "\n",
      "from sklearn.pipeline import make_pipeline\n",
      "\n",
      "model = make_pipeline(StandardScaler(with_mean=False), LinearRegression())\n",
      "\n",
      "If you wish to pass a sample_weight parameter, you need to pass it as a fit parameter to each step of the pipeline as follows:\n",
      "\n",
      "kwargs = {s[0] + '__sample_weight': sample_weight for s in model.steps}\n",
      "model.fit(X, y, **kwargs)\n",
      "\n",
      "\n",
      "  warnings.warn(\n",
      "/Users/gabrielacaruso/.local/share/virtualenvs/MachineLearning-DbII0dUp/lib/python3.9/site-packages/sklearn/linear_model/_base.py:148: FutureWarning: 'normalize' was deprecated in version 1.0 and will be removed in 1.2. Please leave the normalize parameter to its default value to silence this warning. The default behavior of this estimator is to not do any normalization. If normalization is needed please use sklearn.preprocessing.StandardScaler instead.\n",
      "  warnings.warn(\n",
      "/Users/gabrielacaruso/.local/share/virtualenvs/MachineLearning-DbII0dUp/lib/python3.9/site-packages/sklearn/linear_model/_base.py:148: FutureWarning: 'normalize' was deprecated in version 1.0 and will be removed in 1.2. Please leave the normalize parameter to its default value to silence this warning. The default behavior of this estimator is to not do any normalization. If normalization is needed please use sklearn.preprocessing.StandardScaler instead.\n",
      "  warnings.warn(\n",
      "/Users/gabrielacaruso/.local/share/virtualenvs/MachineLearning-DbII0dUp/lib/python3.9/site-packages/sklearn/linear_model/_base.py:141: FutureWarning: 'normalize' was deprecated in version 1.0 and will be removed in 1.2.\n",
      "If you wish to scale the data, use Pipeline with a StandardScaler in a preprocessing stage. To reproduce the previous behavior:\n",
      "\n",
      "from sklearn.pipeline import make_pipeline\n",
      "\n",
      "model = make_pipeline(StandardScaler(with_mean=False), LinearRegression())\n",
      "\n",
      "If you wish to pass a sample_weight parameter, you need to pass it as a fit parameter to each step of the pipeline as follows:\n",
      "\n",
      "kwargs = {s[0] + '__sample_weight': sample_weight for s in model.steps}\n",
      "model.fit(X, y, **kwargs)\n",
      "\n",
      "\n",
      "  warnings.warn(\n",
      "/Users/gabrielacaruso/.local/share/virtualenvs/MachineLearning-DbII0dUp/lib/python3.9/site-packages/sklearn/linear_model/_base.py:148: FutureWarning: 'normalize' was deprecated in version 1.0 and will be removed in 1.2. Please leave the normalize parameter to its default value to silence this warning. The default behavior of this estimator is to not do any normalization. If normalization is needed please use sklearn.preprocessing.StandardScaler instead.\n",
      "  warnings.warn(\n",
      "/Users/gabrielacaruso/.local/share/virtualenvs/MachineLearning-DbII0dUp/lib/python3.9/site-packages/sklearn/linear_model/_base.py:148: FutureWarning: 'normalize' was deprecated in version 1.0 and will be removed in 1.2. Please leave the normalize parameter to its default value to silence this warning. The default behavior of this estimator is to not do any normalization. If normalization is needed please use sklearn.preprocessing.StandardScaler instead.\n",
      "  warnings.warn(\n",
      "/Users/gabrielacaruso/.local/share/virtualenvs/MachineLearning-DbII0dUp/lib/python3.9/site-packages/sklearn/linear_model/_base.py:148: FutureWarning: 'normalize' was deprecated in version 1.0 and will be removed in 1.2. Please leave the normalize parameter to its default value to silence this warning. The default behavior of this estimator is to not do any normalization. If normalization is needed please use sklearn.preprocessing.StandardScaler instead.\n",
      "  warnings.warn(\n"
     ]
    },
    {
     "name": "stdout",
     "output_type": "stream",
     "text": [
      "Tempo gasto: 1.31 s\n"
     ]
    },
    {
     "name": "stderr",
     "output_type": "stream",
     "text": [
      "/Users/gabrielacaruso/.local/share/virtualenvs/MachineLearning-DbII0dUp/lib/python3.9/site-packages/sklearn/linear_model/_base.py:141: FutureWarning: 'normalize' was deprecated in version 1.0 and will be removed in 1.2.\n",
      "If you wish to scale the data, use Pipeline with a StandardScaler in a preprocessing stage. To reproduce the previous behavior:\n",
      "\n",
      "from sklearn.pipeline import make_pipeline\n",
      "\n",
      "model = make_pipeline(StandardScaler(with_mean=False), LinearRegression())\n",
      "\n",
      "If you wish to pass a sample_weight parameter, you need to pass it as a fit parameter to each step of the pipeline as follows:\n",
      "\n",
      "kwargs = {s[0] + '__sample_weight': sample_weight for s in model.steps}\n",
      "model.fit(X, y, **kwargs)\n",
      "\n",
      "\n",
      "  warnings.warn(\n"
     ]
    }
   ],
   "source": [
    "import time\n",
    "\n",
    "from sklearn.model_selection import GridSearchCV\n",
    "\n",
    "parameters = {'fit_intercept':[True,False], 'normalize':[True,False], 'copy_X':[True, False]}\n",
    "\n",
    "lin_reg = LinearRegression()\n",
    "\n",
    "grid_search = GridSearchCV(\n",
    "    lin_reg,  # Modelo\n",
    "    parameters,  # Grid\n",
    "    cv=5,  # Partições de C.V.\n",
    "    scoring='neg_mean_squared_error',\n",
    "    return_train_score=True,\n",
    "    n_jobs=-1,\n",
    ")\n",
    "\n",
    "t1 = time.perf_counter()\n",
    "grid_search.fit(movies, movies_labels)\n",
    "t2 = time.perf_counter()\n",
    "\n",
    "print(f'Tempo gasto: {t2 - t1:.2f} s')"
   ]
  },
  {
   "cell_type": "code",
   "execution_count": 63,
   "id": "deda9d57-43f5-40f5-914b-2a13a2355784",
   "metadata": {},
   "outputs": [
    {
     "data": {
      "text/plain": [
       "{'copy_X': True, 'fit_intercept': True, 'normalize': True}"
      ]
     },
     "execution_count": 63,
     "metadata": {},
     "output_type": "execute_result"
    }
   ],
   "source": [
    "grid_search.best_params_"
   ]
  },
  {
   "cell_type": "code",
   "execution_count": 64,
   "id": "28dbdd9c-93ec-463e-ad8e-77857e50312b",
   "metadata": {},
   "outputs": [
    {
     "data": {
      "text/plain": [
       "LinearRegression(normalize=True)"
      ]
     },
     "execution_count": 64,
     "metadata": {},
     "output_type": "execute_result"
    }
   ],
   "source": [
    "grid_search.best_estimator_"
   ]
  },
  {
   "cell_type": "code",
   "execution_count": 65,
   "id": "c5e715aa-f936-4636-b95b-dcc20bcfc629",
   "metadata": {},
   "outputs": [
    {
     "name": "stdout",
     "output_type": "stream",
     "text": [
      "293599025.82700795 {'copy_X': True, 'fit_intercept': True, 'normalize': True}\n",
      "293599028.3501695 {'copy_X': True, 'fit_intercept': True, 'normalize': False}\n",
      "295225338.1925413 {'copy_X': True, 'fit_intercept': False, 'normalize': True}\n",
      "295225338.1925413 {'copy_X': True, 'fit_intercept': False, 'normalize': False}\n",
      "293599025.82700795 {'copy_X': False, 'fit_intercept': True, 'normalize': True}\n",
      "293599028.3501695 {'copy_X': False, 'fit_intercept': True, 'normalize': False}\n",
      "295225338.1925413 {'copy_X': False, 'fit_intercept': False, 'normalize': True}\n",
      "295225338.1925413 {'copy_X': False, 'fit_intercept': False, 'normalize': False}\n"
     ]
    }
   ],
   "source": [
    "cvres = grid_search.cv_results_\n",
    "for mean_score, params in zip(cvres['mean_test_score'], cvres['params']):\n",
    "    print(np.sqrt(-mean_score), params)"
   ]
  },
  {
   "cell_type": "markdown",
   "id": "e7799c9d-ffe4-4b6b-bf33-b2086711745a",
   "metadata": {},
   "source": [
    "Assim, podemos finalmente medir o desempenho final do modelo:"
   ]
  },
  {
   "cell_type": "code",
   "execution_count": 66,
   "id": "3fdb9d38-b2e9-4e20-ad1f-520108b60723",
   "metadata": {},
   "outputs": [
    {
     "name": "stdout",
     "output_type": "stream",
     "text": [
      "RMSE = 63879425.0714276\n"
     ]
    },
    {
     "name": "stderr",
     "output_type": "stream",
     "text": [
      "/Users/gabrielacaruso/.local/share/virtualenvs/MachineLearning-DbII0dUp/lib/python3.9/site-packages/sklearn/linear_model/_base.py:141: FutureWarning: 'normalize' was deprecated in version 1.0 and will be removed in 1.2.\n",
      "If you wish to scale the data, use Pipeline with a StandardScaler in a preprocessing stage. To reproduce the previous behavior:\n",
      "\n",
      "from sklearn.pipeline import make_pipeline\n",
      "\n",
      "model = make_pipeline(StandardScaler(with_mean=False), LinearRegression())\n",
      "\n",
      "If you wish to pass a sample_weight parameter, you need to pass it as a fit parameter to each step of the pipeline as follows:\n",
      "\n",
      "kwargs = {s[0] + '__sample_weight': sample_weight for s in model.steps}\n",
      "model.fit(X, y, **kwargs)\n",
      "\n",
      "\n",
      "  warnings.warn(\n"
     ]
    }
   ],
   "source": [
    "final_model = grid_search.best_estimator_\n",
    "\n",
    "X_test = strat_test_set.drop('revenue', axis=1)\n",
    "y_test = strat_test_set['revenue'].copy()\n",
    "\n",
    "final_model.fit(X_test, y_test)\n",
    "\n",
    "final_predictions = final_model.predict(X_test)\n",
    "\n",
    "final_mse = mean_squared_error(y_test, final_predictions)\n",
    "final_rmse = np.sqrt(final_mse)\n",
    "\n",
    "print(f'RMSE = {final_rmse}')"
   ]
  },
  {
   "cell_type": "markdown",
   "id": "204a013a-7a82-4182-b506-05c370e50f02",
   "metadata": {},
   "source": [
    "# Conclusão"
   ]
  },
  {
   "cell_type": "markdown",
   "id": "1863d005-a801-4ba9-9415-1520aadf9a66",
   "metadata": {},
   "source": [
    "<p style=\"text-align: justify\" align=\"justify\">A partir de toda a análise exploratória e construção de diferentes modelos preditivos foi possível identificar o <b>regressor random forest</b> como o melhor para solucionar esse problema uma vez que apresenta o menor valor de RMSE e o menor desvio padrão.</p>\n",
    "\n",
    "<p style=\"text-align: justify\" align=\"justify\">No entanto, é necessário uma análise bem mais rebuscada para que a precisão de inferência seja boa o suficiente para se colocar em prática.</p>\n",
    "\n",
    "<p style=\"text-align: justify\" align=\"justify\">Porém, pelo escopo desse projeto, foi possível desenvolver um modelo de <i>Machine Learning</i> capaz de prever a receita de um filme considerando suas outras características.</p>"
   ]
  },
  {
   "cell_type": "code",
   "execution_count": null,
   "id": "c57210f0-946c-405a-abd4-01c1e6c64f2f",
   "metadata": {},
   "outputs": [],
   "source": []
  }
 ],
 "metadata": {
  "kernelspec": {
   "display_name": "Python 3 (ipykernel)",
   "language": "python",
   "name": "python3"
  },
  "language_info": {
   "codemirror_mode": {
    "name": "ipython",
    "version": 3
   },
   "file_extension": ".py",
   "mimetype": "text/x-python",
   "name": "python",
   "nbconvert_exporter": "python",
   "pygments_lexer": "ipython3",
   "version": "3.9.7"
  }
 },
 "nbformat": 4,
 "nbformat_minor": 5
}
