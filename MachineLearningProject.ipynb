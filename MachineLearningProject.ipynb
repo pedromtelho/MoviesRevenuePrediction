{
 "cells": [
  {
   "cell_type": "markdown",
   "id": "6e094041",
   "metadata": {},
   "source": [
    "<center><h2>Projeto final de Machine Learning</h2></center>\n",
    "<center><h3>Previsão de receita de filmes</h3></center>\n",
    "<br />\n",
    "<center>Alunos: Gabriela Caruso, Guilherme Roccato e Pedro Paulo Telho</center>\n",
    "\n"
   ]
  },
  {
   "cell_type": "markdown",
   "id": "85366442",
   "metadata": {},
   "source": [
    "# Introdução"
   ]
  },
  {
   "cell_type": "markdown",
   "id": "c631203f",
   "metadata": {},
   "source": [
    "<p style=\"text-align: justify\" align=\"justify\">A indústria cinematográfica é reconhecida por suas diversas obras primas. Prêmios como Oscar, Globo de Ouro e Emmy são apenas alguns dos que recompensam os seus atores, diretores, produtores etc. Além disso, muito dinheiro é movimentado tanto em forma de investimento para a produção dos filmes como em forma de receita após o lançamento.</p>\n",
    "\n",
    "<p style=\"text-align: justify\" align=\"justify\">Nesse contexto, o objetivo do projeto é prever quanto de receita um filme pode gerar para que não se tenha prejuízo durante suas produções.</p>\n",
    "<p style=\"text-align: justify\" align=\"justify\">Para isso, será criado um modelo de regressão através da base de dados: <a href=\"https://www.kaggle.com/tmdb/tmdb-movie-metadata/version/2?select=tmdb_5000_movies.csv\" >TMDb 5000 movies dataset</a></p>"
   ]
  },
  {
   "cell_type": "markdown",
   "id": "4c998915",
   "metadata": {},
   "source": [
    "# Metodologia"
   ]
  },
  {
   "cell_type": "markdown",
   "id": "9c4d560b",
   "metadata": {},
   "source": [
    "<p style=\"text-align: justify\" align=\"justify\">Nessa seção será apresentada a forma em que o modelo foi construído: bibliotecas necessárias, exploração dos dados e técnicas de inferência para definição do melhor modelo de machine learning para o problema.</p>"
   ]
  },
  {
   "cell_type": "markdown",
   "id": "3b5a1580",
   "metadata": {},
   "source": [
    "### Importando bibliotecas necessárias:"
   ]
  },
  {
   "cell_type": "code",
   "execution_count": 1,
   "id": "a22e3ec0",
   "metadata": {},
   "outputs": [],
   "source": [
    "%matplotlib inline\n",
    "import matplotlib.pyplot as plt\n",
    "import numpy as np\n",
    "import pandas as pd\n",
    "\n",
    "import sys\n",
    "\n",
    "import numpy as np\n",
    "import scipy.sparse\n",
    "\n",
    "import sklearn.linear_model\n",
    "import sklearn.datasets\n",
    "import sklearn.svm\n",
    "import sklearn.metrics\n",
    "import sklearn.decomposition\n",
    "import sklearn.feature_extraction.text\n",
    "import sklearn.utils.sparsefuncs\n",
    "\n",
    "import logging\n",
    "\n",
    "import json"
   ]
  },
  {
   "cell_type": "code",
   "execution_count": 2,
   "id": "f65e8210",
   "metadata": {},
   "outputs": [],
   "source": [
    "RANDOM_SEED = 42\n",
    "np.random.seed(RANDOM_SEED)"
   ]
  },
  {
   "cell_type": "markdown",
   "id": "ec5d95e8",
   "metadata": {},
   "source": [
    "### Carregando os dados:"
   ]
  },
  {
   "cell_type": "code",
   "execution_count": 3,
   "id": "ed948aad",
   "metadata": {},
   "outputs": [],
   "source": [
    "movies = pd.read_csv(\"tmdb_5000_movies.csv\")\n",
    "credits = pd.read_csv(\"tmdb_5000_credits.csv\")"
   ]
  },
  {
   "cell_type": "code",
   "execution_count": 4,
   "id": "23d5b9a1",
   "metadata": {},
   "outputs": [
    {
     "data": {
      "text/html": [
       "<div>\n",
       "<style scoped>\n",
       "    .dataframe tbody tr th:only-of-type {\n",
       "        vertical-align: middle;\n",
       "    }\n",
       "\n",
       "    .dataframe tbody tr th {\n",
       "        vertical-align: top;\n",
       "    }\n",
       "\n",
       "    .dataframe thead th {\n",
       "        text-align: right;\n",
       "    }\n",
       "</style>\n",
       "<table border=\"1\" class=\"dataframe\">\n",
       "  <thead>\n",
       "    <tr style=\"text-align: right;\">\n",
       "      <th></th>\n",
       "      <th>budget</th>\n",
       "      <th>genres</th>\n",
       "      <th>homepage</th>\n",
       "      <th>id</th>\n",
       "      <th>keywords</th>\n",
       "      <th>original_language</th>\n",
       "      <th>original_title</th>\n",
       "      <th>overview</th>\n",
       "      <th>popularity</th>\n",
       "      <th>production_companies</th>\n",
       "      <th>production_countries</th>\n",
       "      <th>release_date</th>\n",
       "      <th>revenue</th>\n",
       "      <th>runtime</th>\n",
       "      <th>spoken_languages</th>\n",
       "      <th>status</th>\n",
       "      <th>tagline</th>\n",
       "      <th>title</th>\n",
       "      <th>vote_average</th>\n",
       "      <th>vote_count</th>\n",
       "    </tr>\n",
       "  </thead>\n",
       "  <tbody>\n",
       "    <tr>\n",
       "      <th>0</th>\n",
       "      <td>237000000</td>\n",
       "      <td>[{\"id\": 28, \"name\": \"Action\"}, {\"id\": 12, \"nam...</td>\n",
       "      <td>http://www.avatarmovie.com/</td>\n",
       "      <td>19995</td>\n",
       "      <td>[{\"id\": 1463, \"name\": \"culture clash\"}, {\"id\":...</td>\n",
       "      <td>en</td>\n",
       "      <td>Avatar</td>\n",
       "      <td>In the 22nd century, a paraplegic Marine is di...</td>\n",
       "      <td>150.437577</td>\n",
       "      <td>[{\"name\": \"Ingenious Film Partners\", \"id\": 289...</td>\n",
       "      <td>[{\"iso_3166_1\": \"US\", \"name\": \"United States o...</td>\n",
       "      <td>2009-12-10</td>\n",
       "      <td>2787965087</td>\n",
       "      <td>162.0</td>\n",
       "      <td>[{\"iso_639_1\": \"en\", \"name\": \"English\"}, {\"iso...</td>\n",
       "      <td>Released</td>\n",
       "      <td>Enter the World of Pandora.</td>\n",
       "      <td>Avatar</td>\n",
       "      <td>7.2</td>\n",
       "      <td>11800</td>\n",
       "    </tr>\n",
       "    <tr>\n",
       "      <th>1</th>\n",
       "      <td>300000000</td>\n",
       "      <td>[{\"id\": 12, \"name\": \"Adventure\"}, {\"id\": 14, \"...</td>\n",
       "      <td>http://disney.go.com/disneypictures/pirates/</td>\n",
       "      <td>285</td>\n",
       "      <td>[{\"id\": 270, \"name\": \"ocean\"}, {\"id\": 726, \"na...</td>\n",
       "      <td>en</td>\n",
       "      <td>Pirates of the Caribbean: At World's End</td>\n",
       "      <td>Captain Barbossa, long believed to be dead, ha...</td>\n",
       "      <td>139.082615</td>\n",
       "      <td>[{\"name\": \"Walt Disney Pictures\", \"id\": 2}, {\"...</td>\n",
       "      <td>[{\"iso_3166_1\": \"US\", \"name\": \"United States o...</td>\n",
       "      <td>2007-05-19</td>\n",
       "      <td>961000000</td>\n",
       "      <td>169.0</td>\n",
       "      <td>[{\"iso_639_1\": \"en\", \"name\": \"English\"}]</td>\n",
       "      <td>Released</td>\n",
       "      <td>At the end of the world, the adventure begins.</td>\n",
       "      <td>Pirates of the Caribbean: At World's End</td>\n",
       "      <td>6.9</td>\n",
       "      <td>4500</td>\n",
       "    </tr>\n",
       "    <tr>\n",
       "      <th>2</th>\n",
       "      <td>245000000</td>\n",
       "      <td>[{\"id\": 28, \"name\": \"Action\"}, {\"id\": 12, \"nam...</td>\n",
       "      <td>http://www.sonypictures.com/movies/spectre/</td>\n",
       "      <td>206647</td>\n",
       "      <td>[{\"id\": 470, \"name\": \"spy\"}, {\"id\": 818, \"name...</td>\n",
       "      <td>en</td>\n",
       "      <td>Spectre</td>\n",
       "      <td>A cryptic message from Bond’s past sends him o...</td>\n",
       "      <td>107.376788</td>\n",
       "      <td>[{\"name\": \"Columbia Pictures\", \"id\": 5}, {\"nam...</td>\n",
       "      <td>[{\"iso_3166_1\": \"GB\", \"name\": \"United Kingdom\"...</td>\n",
       "      <td>2015-10-26</td>\n",
       "      <td>880674609</td>\n",
       "      <td>148.0</td>\n",
       "      <td>[{\"iso_639_1\": \"fr\", \"name\": \"Fran\\u00e7ais\"},...</td>\n",
       "      <td>Released</td>\n",
       "      <td>A Plan No One Escapes</td>\n",
       "      <td>Spectre</td>\n",
       "      <td>6.3</td>\n",
       "      <td>4466</td>\n",
       "    </tr>\n",
       "    <tr>\n",
       "      <th>3</th>\n",
       "      <td>250000000</td>\n",
       "      <td>[{\"id\": 28, \"name\": \"Action\"}, {\"id\": 80, \"nam...</td>\n",
       "      <td>http://www.thedarkknightrises.com/</td>\n",
       "      <td>49026</td>\n",
       "      <td>[{\"id\": 849, \"name\": \"dc comics\"}, {\"id\": 853,...</td>\n",
       "      <td>en</td>\n",
       "      <td>The Dark Knight Rises</td>\n",
       "      <td>Following the death of District Attorney Harve...</td>\n",
       "      <td>112.312950</td>\n",
       "      <td>[{\"name\": \"Legendary Pictures\", \"id\": 923}, {\"...</td>\n",
       "      <td>[{\"iso_3166_1\": \"US\", \"name\": \"United States o...</td>\n",
       "      <td>2012-07-16</td>\n",
       "      <td>1084939099</td>\n",
       "      <td>165.0</td>\n",
       "      <td>[{\"iso_639_1\": \"en\", \"name\": \"English\"}]</td>\n",
       "      <td>Released</td>\n",
       "      <td>The Legend Ends</td>\n",
       "      <td>The Dark Knight Rises</td>\n",
       "      <td>7.6</td>\n",
       "      <td>9106</td>\n",
       "    </tr>\n",
       "    <tr>\n",
       "      <th>4</th>\n",
       "      <td>260000000</td>\n",
       "      <td>[{\"id\": 28, \"name\": \"Action\"}, {\"id\": 12, \"nam...</td>\n",
       "      <td>http://movies.disney.com/john-carter</td>\n",
       "      <td>49529</td>\n",
       "      <td>[{\"id\": 818, \"name\": \"based on novel\"}, {\"id\":...</td>\n",
       "      <td>en</td>\n",
       "      <td>John Carter</td>\n",
       "      <td>John Carter is a war-weary, former military ca...</td>\n",
       "      <td>43.926995</td>\n",
       "      <td>[{\"name\": \"Walt Disney Pictures\", \"id\": 2}]</td>\n",
       "      <td>[{\"iso_3166_1\": \"US\", \"name\": \"United States o...</td>\n",
       "      <td>2012-03-07</td>\n",
       "      <td>284139100</td>\n",
       "      <td>132.0</td>\n",
       "      <td>[{\"iso_639_1\": \"en\", \"name\": \"English\"}]</td>\n",
       "      <td>Released</td>\n",
       "      <td>Lost in our world, found in another.</td>\n",
       "      <td>John Carter</td>\n",
       "      <td>6.1</td>\n",
       "      <td>2124</td>\n",
       "    </tr>\n",
       "  </tbody>\n",
       "</table>\n",
       "</div>"
      ],
      "text/plain": [
       "      budget                                             genres  \\\n",
       "0  237000000  [{\"id\": 28, \"name\": \"Action\"}, {\"id\": 12, \"nam...   \n",
       "1  300000000  [{\"id\": 12, \"name\": \"Adventure\"}, {\"id\": 14, \"...   \n",
       "2  245000000  [{\"id\": 28, \"name\": \"Action\"}, {\"id\": 12, \"nam...   \n",
       "3  250000000  [{\"id\": 28, \"name\": \"Action\"}, {\"id\": 80, \"nam...   \n",
       "4  260000000  [{\"id\": 28, \"name\": \"Action\"}, {\"id\": 12, \"nam...   \n",
       "\n",
       "                                       homepage      id  \\\n",
       "0                   http://www.avatarmovie.com/   19995   \n",
       "1  http://disney.go.com/disneypictures/pirates/     285   \n",
       "2   http://www.sonypictures.com/movies/spectre/  206647   \n",
       "3            http://www.thedarkknightrises.com/   49026   \n",
       "4          http://movies.disney.com/john-carter   49529   \n",
       "\n",
       "                                            keywords original_language  \\\n",
       "0  [{\"id\": 1463, \"name\": \"culture clash\"}, {\"id\":...                en   \n",
       "1  [{\"id\": 270, \"name\": \"ocean\"}, {\"id\": 726, \"na...                en   \n",
       "2  [{\"id\": 470, \"name\": \"spy\"}, {\"id\": 818, \"name...                en   \n",
       "3  [{\"id\": 849, \"name\": \"dc comics\"}, {\"id\": 853,...                en   \n",
       "4  [{\"id\": 818, \"name\": \"based on novel\"}, {\"id\":...                en   \n",
       "\n",
       "                             original_title  \\\n",
       "0                                    Avatar   \n",
       "1  Pirates of the Caribbean: At World's End   \n",
       "2                                   Spectre   \n",
       "3                     The Dark Knight Rises   \n",
       "4                               John Carter   \n",
       "\n",
       "                                            overview  popularity  \\\n",
       "0  In the 22nd century, a paraplegic Marine is di...  150.437577   \n",
       "1  Captain Barbossa, long believed to be dead, ha...  139.082615   \n",
       "2  A cryptic message from Bond’s past sends him o...  107.376788   \n",
       "3  Following the death of District Attorney Harve...  112.312950   \n",
       "4  John Carter is a war-weary, former military ca...   43.926995   \n",
       "\n",
       "                                production_companies  \\\n",
       "0  [{\"name\": \"Ingenious Film Partners\", \"id\": 289...   \n",
       "1  [{\"name\": \"Walt Disney Pictures\", \"id\": 2}, {\"...   \n",
       "2  [{\"name\": \"Columbia Pictures\", \"id\": 5}, {\"nam...   \n",
       "3  [{\"name\": \"Legendary Pictures\", \"id\": 923}, {\"...   \n",
       "4        [{\"name\": \"Walt Disney Pictures\", \"id\": 2}]   \n",
       "\n",
       "                                production_countries release_date     revenue  \\\n",
       "0  [{\"iso_3166_1\": \"US\", \"name\": \"United States o...   2009-12-10  2787965087   \n",
       "1  [{\"iso_3166_1\": \"US\", \"name\": \"United States o...   2007-05-19   961000000   \n",
       "2  [{\"iso_3166_1\": \"GB\", \"name\": \"United Kingdom\"...   2015-10-26   880674609   \n",
       "3  [{\"iso_3166_1\": \"US\", \"name\": \"United States o...   2012-07-16  1084939099   \n",
       "4  [{\"iso_3166_1\": \"US\", \"name\": \"United States o...   2012-03-07   284139100   \n",
       "\n",
       "   runtime                                   spoken_languages    status  \\\n",
       "0    162.0  [{\"iso_639_1\": \"en\", \"name\": \"English\"}, {\"iso...  Released   \n",
       "1    169.0           [{\"iso_639_1\": \"en\", \"name\": \"English\"}]  Released   \n",
       "2    148.0  [{\"iso_639_1\": \"fr\", \"name\": \"Fran\\u00e7ais\"},...  Released   \n",
       "3    165.0           [{\"iso_639_1\": \"en\", \"name\": \"English\"}]  Released   \n",
       "4    132.0           [{\"iso_639_1\": \"en\", \"name\": \"English\"}]  Released   \n",
       "\n",
       "                                          tagline  \\\n",
       "0                     Enter the World of Pandora.   \n",
       "1  At the end of the world, the adventure begins.   \n",
       "2                           A Plan No One Escapes   \n",
       "3                                 The Legend Ends   \n",
       "4            Lost in our world, found in another.   \n",
       "\n",
       "                                      title  vote_average  vote_count  \n",
       "0                                    Avatar           7.2       11800  \n",
       "1  Pirates of the Caribbean: At World's End           6.9        4500  \n",
       "2                                   Spectre           6.3        4466  \n",
       "3                     The Dark Knight Rises           7.6        9106  \n",
       "4                               John Carter           6.1        2124  "
      ]
     },
     "execution_count": 4,
     "metadata": {},
     "output_type": "execute_result"
    }
   ],
   "source": [
    "movies.head()"
   ]
  },
  {
   "cell_type": "markdown",
   "id": "58544844",
   "metadata": {},
   "source": [
    "Mesclando créditos e filmes:"
   ]
  },
  {
   "cell_type": "code",
   "execution_count": 5,
   "id": "d5a27890",
   "metadata": {},
   "outputs": [],
   "source": [
    "credits = credits[['movie_id', 'cast', 'crew']]\n",
    "credits = credits.rename(columns = {'movie_id': 'id'})\n",
    "movies = pd.merge(movies,credits,on='id',how='left')"
   ]
  },
  {
   "cell_type": "code",
   "execution_count": 6,
   "id": "d8b1df0b",
   "metadata": {},
   "outputs": [],
   "source": [
    "movies_copy = movies.copy()"
   ]
  },
  {
   "cell_type": "code",
   "execution_count": 7,
   "id": "79a4e845",
   "metadata": {
    "scrolled": true
   },
   "outputs": [
    {
     "data": {
      "text/html": [
       "<div>\n",
       "<style scoped>\n",
       "    .dataframe tbody tr th:only-of-type {\n",
       "        vertical-align: middle;\n",
       "    }\n",
       "\n",
       "    .dataframe tbody tr th {\n",
       "        vertical-align: top;\n",
       "    }\n",
       "\n",
       "    .dataframe thead th {\n",
       "        text-align: right;\n",
       "    }\n",
       "</style>\n",
       "<table border=\"1\" class=\"dataframe\">\n",
       "  <thead>\n",
       "    <tr style=\"text-align: right;\">\n",
       "      <th></th>\n",
       "      <th>budget</th>\n",
       "      <th>genres</th>\n",
       "      <th>homepage</th>\n",
       "      <th>id</th>\n",
       "      <th>keywords</th>\n",
       "      <th>original_language</th>\n",
       "      <th>original_title</th>\n",
       "      <th>overview</th>\n",
       "      <th>popularity</th>\n",
       "      <th>production_companies</th>\n",
       "      <th>...</th>\n",
       "      <th>revenue</th>\n",
       "      <th>runtime</th>\n",
       "      <th>spoken_languages</th>\n",
       "      <th>status</th>\n",
       "      <th>tagline</th>\n",
       "      <th>title</th>\n",
       "      <th>vote_average</th>\n",
       "      <th>vote_count</th>\n",
       "      <th>cast</th>\n",
       "      <th>crew</th>\n",
       "    </tr>\n",
       "  </thead>\n",
       "  <tbody>\n",
       "    <tr>\n",
       "      <th>0</th>\n",
       "      <td>237000000</td>\n",
       "      <td>[{\"id\": 28, \"name\": \"Action\"}, {\"id\": 12, \"nam...</td>\n",
       "      <td>http://www.avatarmovie.com/</td>\n",
       "      <td>19995</td>\n",
       "      <td>[{\"id\": 1463, \"name\": \"culture clash\"}, {\"id\":...</td>\n",
       "      <td>en</td>\n",
       "      <td>Avatar</td>\n",
       "      <td>In the 22nd century, a paraplegic Marine is di...</td>\n",
       "      <td>150.437577</td>\n",
       "      <td>[{\"name\": \"Ingenious Film Partners\", \"id\": 289...</td>\n",
       "      <td>...</td>\n",
       "      <td>2787965087</td>\n",
       "      <td>162.0</td>\n",
       "      <td>[{\"iso_639_1\": \"en\", \"name\": \"English\"}, {\"iso...</td>\n",
       "      <td>Released</td>\n",
       "      <td>Enter the World of Pandora.</td>\n",
       "      <td>Avatar</td>\n",
       "      <td>7.2</td>\n",
       "      <td>11800</td>\n",
       "      <td>[{\"cast_id\": 242, \"character\": \"Jake Sully\", \"...</td>\n",
       "      <td>[{\"credit_id\": \"52fe48009251416c750aca23\", \"de...</td>\n",
       "    </tr>\n",
       "    <tr>\n",
       "      <th>1</th>\n",
       "      <td>300000000</td>\n",
       "      <td>[{\"id\": 12, \"name\": \"Adventure\"}, {\"id\": 14, \"...</td>\n",
       "      <td>http://disney.go.com/disneypictures/pirates/</td>\n",
       "      <td>285</td>\n",
       "      <td>[{\"id\": 270, \"name\": \"ocean\"}, {\"id\": 726, \"na...</td>\n",
       "      <td>en</td>\n",
       "      <td>Pirates of the Caribbean: At World's End</td>\n",
       "      <td>Captain Barbossa, long believed to be dead, ha...</td>\n",
       "      <td>139.082615</td>\n",
       "      <td>[{\"name\": \"Walt Disney Pictures\", \"id\": 2}, {\"...</td>\n",
       "      <td>...</td>\n",
       "      <td>961000000</td>\n",
       "      <td>169.0</td>\n",
       "      <td>[{\"iso_639_1\": \"en\", \"name\": \"English\"}]</td>\n",
       "      <td>Released</td>\n",
       "      <td>At the end of the world, the adventure begins.</td>\n",
       "      <td>Pirates of the Caribbean: At World's End</td>\n",
       "      <td>6.9</td>\n",
       "      <td>4500</td>\n",
       "      <td>[{\"cast_id\": 4, \"character\": \"Captain Jack Spa...</td>\n",
       "      <td>[{\"credit_id\": \"52fe4232c3a36847f800b579\", \"de...</td>\n",
       "    </tr>\n",
       "    <tr>\n",
       "      <th>2</th>\n",
       "      <td>245000000</td>\n",
       "      <td>[{\"id\": 28, \"name\": \"Action\"}, {\"id\": 12, \"nam...</td>\n",
       "      <td>http://www.sonypictures.com/movies/spectre/</td>\n",
       "      <td>206647</td>\n",
       "      <td>[{\"id\": 470, \"name\": \"spy\"}, {\"id\": 818, \"name...</td>\n",
       "      <td>en</td>\n",
       "      <td>Spectre</td>\n",
       "      <td>A cryptic message from Bond’s past sends him o...</td>\n",
       "      <td>107.376788</td>\n",
       "      <td>[{\"name\": \"Columbia Pictures\", \"id\": 5}, {\"nam...</td>\n",
       "      <td>...</td>\n",
       "      <td>880674609</td>\n",
       "      <td>148.0</td>\n",
       "      <td>[{\"iso_639_1\": \"fr\", \"name\": \"Fran\\u00e7ais\"},...</td>\n",
       "      <td>Released</td>\n",
       "      <td>A Plan No One Escapes</td>\n",
       "      <td>Spectre</td>\n",
       "      <td>6.3</td>\n",
       "      <td>4466</td>\n",
       "      <td>[{\"cast_id\": 1, \"character\": \"James Bond\", \"cr...</td>\n",
       "      <td>[{\"credit_id\": \"54805967c3a36829b5002c41\", \"de...</td>\n",
       "    </tr>\n",
       "    <tr>\n",
       "      <th>3</th>\n",
       "      <td>250000000</td>\n",
       "      <td>[{\"id\": 28, \"name\": \"Action\"}, {\"id\": 80, \"nam...</td>\n",
       "      <td>http://www.thedarkknightrises.com/</td>\n",
       "      <td>49026</td>\n",
       "      <td>[{\"id\": 849, \"name\": \"dc comics\"}, {\"id\": 853,...</td>\n",
       "      <td>en</td>\n",
       "      <td>The Dark Knight Rises</td>\n",
       "      <td>Following the death of District Attorney Harve...</td>\n",
       "      <td>112.312950</td>\n",
       "      <td>[{\"name\": \"Legendary Pictures\", \"id\": 923}, {\"...</td>\n",
       "      <td>...</td>\n",
       "      <td>1084939099</td>\n",
       "      <td>165.0</td>\n",
       "      <td>[{\"iso_639_1\": \"en\", \"name\": \"English\"}]</td>\n",
       "      <td>Released</td>\n",
       "      <td>The Legend Ends</td>\n",
       "      <td>The Dark Knight Rises</td>\n",
       "      <td>7.6</td>\n",
       "      <td>9106</td>\n",
       "      <td>[{\"cast_id\": 2, \"character\": \"Bruce Wayne / Ba...</td>\n",
       "      <td>[{\"credit_id\": \"52fe4781c3a36847f81398c3\", \"de...</td>\n",
       "    </tr>\n",
       "    <tr>\n",
       "      <th>4</th>\n",
       "      <td>260000000</td>\n",
       "      <td>[{\"id\": 28, \"name\": \"Action\"}, {\"id\": 12, \"nam...</td>\n",
       "      <td>http://movies.disney.com/john-carter</td>\n",
       "      <td>49529</td>\n",
       "      <td>[{\"id\": 818, \"name\": \"based on novel\"}, {\"id\":...</td>\n",
       "      <td>en</td>\n",
       "      <td>John Carter</td>\n",
       "      <td>John Carter is a war-weary, former military ca...</td>\n",
       "      <td>43.926995</td>\n",
       "      <td>[{\"name\": \"Walt Disney Pictures\", \"id\": 2}]</td>\n",
       "      <td>...</td>\n",
       "      <td>284139100</td>\n",
       "      <td>132.0</td>\n",
       "      <td>[{\"iso_639_1\": \"en\", \"name\": \"English\"}]</td>\n",
       "      <td>Released</td>\n",
       "      <td>Lost in our world, found in another.</td>\n",
       "      <td>John Carter</td>\n",
       "      <td>6.1</td>\n",
       "      <td>2124</td>\n",
       "      <td>[{\"cast_id\": 5, \"character\": \"John Carter\", \"c...</td>\n",
       "      <td>[{\"credit_id\": \"52fe479ac3a36847f813eaa3\", \"de...</td>\n",
       "    </tr>\n",
       "  </tbody>\n",
       "</table>\n",
       "<p>5 rows × 22 columns</p>\n",
       "</div>"
      ],
      "text/plain": [
       "      budget                                             genres  \\\n",
       "0  237000000  [{\"id\": 28, \"name\": \"Action\"}, {\"id\": 12, \"nam...   \n",
       "1  300000000  [{\"id\": 12, \"name\": \"Adventure\"}, {\"id\": 14, \"...   \n",
       "2  245000000  [{\"id\": 28, \"name\": \"Action\"}, {\"id\": 12, \"nam...   \n",
       "3  250000000  [{\"id\": 28, \"name\": \"Action\"}, {\"id\": 80, \"nam...   \n",
       "4  260000000  [{\"id\": 28, \"name\": \"Action\"}, {\"id\": 12, \"nam...   \n",
       "\n",
       "                                       homepage      id  \\\n",
       "0                   http://www.avatarmovie.com/   19995   \n",
       "1  http://disney.go.com/disneypictures/pirates/     285   \n",
       "2   http://www.sonypictures.com/movies/spectre/  206647   \n",
       "3            http://www.thedarkknightrises.com/   49026   \n",
       "4          http://movies.disney.com/john-carter   49529   \n",
       "\n",
       "                                            keywords original_language  \\\n",
       "0  [{\"id\": 1463, \"name\": \"culture clash\"}, {\"id\":...                en   \n",
       "1  [{\"id\": 270, \"name\": \"ocean\"}, {\"id\": 726, \"na...                en   \n",
       "2  [{\"id\": 470, \"name\": \"spy\"}, {\"id\": 818, \"name...                en   \n",
       "3  [{\"id\": 849, \"name\": \"dc comics\"}, {\"id\": 853,...                en   \n",
       "4  [{\"id\": 818, \"name\": \"based on novel\"}, {\"id\":...                en   \n",
       "\n",
       "                             original_title  \\\n",
       "0                                    Avatar   \n",
       "1  Pirates of the Caribbean: At World's End   \n",
       "2                                   Spectre   \n",
       "3                     The Dark Knight Rises   \n",
       "4                               John Carter   \n",
       "\n",
       "                                            overview  popularity  \\\n",
       "0  In the 22nd century, a paraplegic Marine is di...  150.437577   \n",
       "1  Captain Barbossa, long believed to be dead, ha...  139.082615   \n",
       "2  A cryptic message from Bond’s past sends him o...  107.376788   \n",
       "3  Following the death of District Attorney Harve...  112.312950   \n",
       "4  John Carter is a war-weary, former military ca...   43.926995   \n",
       "\n",
       "                                production_companies  ...     revenue runtime  \\\n",
       "0  [{\"name\": \"Ingenious Film Partners\", \"id\": 289...  ...  2787965087   162.0   \n",
       "1  [{\"name\": \"Walt Disney Pictures\", \"id\": 2}, {\"...  ...   961000000   169.0   \n",
       "2  [{\"name\": \"Columbia Pictures\", \"id\": 5}, {\"nam...  ...   880674609   148.0   \n",
       "3  [{\"name\": \"Legendary Pictures\", \"id\": 923}, {\"...  ...  1084939099   165.0   \n",
       "4        [{\"name\": \"Walt Disney Pictures\", \"id\": 2}]  ...   284139100   132.0   \n",
       "\n",
       "                                    spoken_languages    status  \\\n",
       "0  [{\"iso_639_1\": \"en\", \"name\": \"English\"}, {\"iso...  Released   \n",
       "1           [{\"iso_639_1\": \"en\", \"name\": \"English\"}]  Released   \n",
       "2  [{\"iso_639_1\": \"fr\", \"name\": \"Fran\\u00e7ais\"},...  Released   \n",
       "3           [{\"iso_639_1\": \"en\", \"name\": \"English\"}]  Released   \n",
       "4           [{\"iso_639_1\": \"en\", \"name\": \"English\"}]  Released   \n",
       "\n",
       "                                          tagline  \\\n",
       "0                     Enter the World of Pandora.   \n",
       "1  At the end of the world, the adventure begins.   \n",
       "2                           A Plan No One Escapes   \n",
       "3                                 The Legend Ends   \n",
       "4            Lost in our world, found in another.   \n",
       "\n",
       "                                      title vote_average vote_count  \\\n",
       "0                                    Avatar          7.2      11800   \n",
       "1  Pirates of the Caribbean: At World's End          6.9       4500   \n",
       "2                                   Spectre          6.3       4466   \n",
       "3                     The Dark Knight Rises          7.6       9106   \n",
       "4                               John Carter          6.1       2124   \n",
       "\n",
       "                                                cast  \\\n",
       "0  [{\"cast_id\": 242, \"character\": \"Jake Sully\", \"...   \n",
       "1  [{\"cast_id\": 4, \"character\": \"Captain Jack Spa...   \n",
       "2  [{\"cast_id\": 1, \"character\": \"James Bond\", \"cr...   \n",
       "3  [{\"cast_id\": 2, \"character\": \"Bruce Wayne / Ba...   \n",
       "4  [{\"cast_id\": 5, \"character\": \"John Carter\", \"c...   \n",
       "\n",
       "                                                crew  \n",
       "0  [{\"credit_id\": \"52fe48009251416c750aca23\", \"de...  \n",
       "1  [{\"credit_id\": \"52fe4232c3a36847f800b579\", \"de...  \n",
       "2  [{\"credit_id\": \"54805967c3a36829b5002c41\", \"de...  \n",
       "3  [{\"credit_id\": \"52fe4781c3a36847f81398c3\", \"de...  \n",
       "4  [{\"credit_id\": \"52fe479ac3a36847f813eaa3\", \"de...  \n",
       "\n",
       "[5 rows x 22 columns]"
      ]
     },
     "execution_count": 7,
     "metadata": {},
     "output_type": "execute_result"
    }
   ],
   "source": [
    "movies_copy.head()"
   ]
  },
  {
   "cell_type": "markdown",
   "id": "ad9273e8",
   "metadata": {},
   "source": [
    "Selecionando apenas filmes lançados:"
   ]
  },
  {
   "cell_type": "code",
   "execution_count": 8,
   "id": "9e51a140-cdd4-49c3-a119-81125e1a5420",
   "metadata": {},
   "outputs": [],
   "source": [
    "movies_copy = movies_copy.drop(movies_copy[movies_copy.status != 'Released'].index)"
   ]
  },
  {
   "cell_type": "markdown",
   "id": "51e295c4",
   "metadata": {},
   "source": [
    "Deletando features que não são interessantes para a análise:"
   ]
  },
  {
   "cell_type": "code",
   "execution_count": 9,
   "id": "02d9242e-87e2-490b-ae0b-ccba2258ac4b",
   "metadata": {},
   "outputs": [],
   "source": [
    "movies_copy = movies_copy.drop(columns={'homepage', 'id', 'original_title', 'tagline', 'status', 'crew'})"
   ]
  },
  {
   "cell_type": "markdown",
   "id": "fe850d21",
   "metadata": {},
   "source": [
    "## Exploração de dados"
   ]
  },
  {
   "cell_type": "code",
   "execution_count": 10,
   "id": "a10da6a5",
   "metadata": {},
   "outputs": [
    {
     "name": "stdout",
     "output_type": "stream",
     "text": [
      "<class 'pandas.core.frame.DataFrame'>\n",
      "Int64Index: 4795 entries, 0 to 4802\n",
      "Data columns (total 16 columns):\n",
      "budget                  4795 non-null int64\n",
      "genres                  4795 non-null object\n",
      "keywords                4795 non-null object\n",
      "original_language       4795 non-null object\n",
      "overview                4792 non-null object\n",
      "popularity              4795 non-null float64\n",
      "production_companies    4795 non-null object\n",
      "production_countries    4795 non-null object\n",
      "release_date            4794 non-null object\n",
      "revenue                 4795 non-null int64\n",
      "runtime                 4793 non-null float64\n",
      "spoken_languages        4795 non-null object\n",
      "title                   4795 non-null object\n",
      "vote_average            4795 non-null float64\n",
      "vote_count              4795 non-null int64\n",
      "cast                    4795 non-null object\n",
      "dtypes: float64(3), int64(3), object(10)\n",
      "memory usage: 636.8+ KB\n"
     ]
    }
   ],
   "source": [
    "movies_copy.info()"
   ]
  },
  {
   "cell_type": "markdown",
   "id": "ac4fe784-0395-4168-af12-bc264a795a89",
   "metadata": {},
   "source": [
    "Deletando linhas com valores nulos ou zerados:"
   ]
  },
  {
   "cell_type": "code",
   "execution_count": 11,
   "id": "862637f7",
   "metadata": {},
   "outputs": [],
   "source": [
    "movies_copy = movies_copy.dropna()"
   ]
  },
  {
   "cell_type": "code",
   "execution_count": 12,
   "id": "b56390c6-c416-43c0-999b-e1eec48bbfd3",
   "metadata": {},
   "outputs": [],
   "source": [
    "movies_copy = movies_copy[(movies_copy[['budget', 'revenue', 'runtime', 'vote_count']] != 0).all(axis=1)]"
   ]
  },
  {
   "cell_type": "markdown",
   "id": "0e2812d5-5c49-4363-88b5-0d1fb5fda7d5",
   "metadata": {
    "tags": []
   },
   "source": [
    "### Dataset limpo:"
   ]
  },
  {
   "cell_type": "code",
   "execution_count": 13,
   "id": "bc2df5ce",
   "metadata": {},
   "outputs": [
    {
     "name": "stdout",
     "output_type": "stream",
     "text": [
      "<class 'pandas.core.frame.DataFrame'>\n",
      "Int64Index: 3226 entries, 0 to 4798\n",
      "Data columns (total 16 columns):\n",
      "budget                  3226 non-null int64\n",
      "genres                  3226 non-null object\n",
      "keywords                3226 non-null object\n",
      "original_language       3226 non-null object\n",
      "overview                3226 non-null object\n",
      "popularity              3226 non-null float64\n",
      "production_companies    3226 non-null object\n",
      "production_countries    3226 non-null object\n",
      "release_date            3226 non-null object\n",
      "revenue                 3226 non-null int64\n",
      "runtime                 3226 non-null float64\n",
      "spoken_languages        3226 non-null object\n",
      "title                   3226 non-null object\n",
      "vote_average            3226 non-null float64\n",
      "vote_count              3226 non-null int64\n",
      "cast                    3226 non-null object\n",
      "dtypes: float64(3), int64(3), object(10)\n",
      "memory usage: 428.5+ KB\n"
     ]
    }
   ],
   "source": [
    "movies_copy.info()"
   ]
  },
  {
   "cell_type": "code",
   "execution_count": 14,
   "id": "0991f623",
   "metadata": {},
   "outputs": [
    {
     "data": {
      "image/png": "[encoded data removed]",
      "text/plain": [
       "<Figure size 1440x1080 with 6 Axes>"
      ]
     },
     "metadata": {
      "needs_background": "light"
     },
     "output_type": "display_data"
    }
   ],
   "source": [
    "movies_copy.hist(bins=50, figsize=(20, 15))\n",
    "plt.show()"
   ]
  },
  {
   "cell_type": "markdown",
   "id": "0b1a02c9",
   "metadata": {},
   "source": [
    "Visualizando os histogramas acima é possível perceber que não há nenhuma anomalia com a base de dados e, portanto, é posssível continuar com a análise sem nenhuma necessidade de manipulação."
   ]
  },
  {
   "cell_type": "code",
   "execution_count": 15,
   "id": "a69b85f4",
   "metadata": {},
   "outputs": [],
   "source": [
    "correlation_matrix = movies_copy.corr()"
   ]
  },
  {
   "cell_type": "markdown",
   "id": "644ae5bc",
   "metadata": {},
   "source": [
    "Com a matriz de correlação abaixo pode-se inferir também que a receita de cada filme tem maior correlação com a quantidade de votos (~0.756)."
   ]
  },
  {
   "cell_type": "code",
   "execution_count": 16,
   "id": "973b30da",
   "metadata": {},
   "outputs": [
    {
     "data": {
      "text/html": [
       "<div>\n",
       "<style scoped>\n",
       "    .dataframe tbody tr th:only-of-type {\n",
       "        vertical-align: middle;\n",
       "    }\n",
       "\n",
       "    .dataframe tbody tr th {\n",
       "        vertical-align: top;\n",
       "    }\n",
       "\n",
       "    .dataframe thead th {\n",
       "        text-align: right;\n",
       "    }\n",
       "</style>\n",
       "<table border=\"1\" class=\"dataframe\">\n",
       "  <thead>\n",
       "    <tr style=\"text-align: right;\">\n",
       "      <th></th>\n",
       "      <th>budget</th>\n",
       "      <th>popularity</th>\n",
       "      <th>revenue</th>\n",
       "      <th>runtime</th>\n",
       "      <th>vote_average</th>\n",
       "      <th>vote_count</th>\n",
       "    </tr>\n",
       "  </thead>\n",
       "  <tbody>\n",
       "    <tr>\n",
       "      <th>budget</th>\n",
       "      <td>1.000000</td>\n",
       "      <td>0.431629</td>\n",
       "      <td>0.705260</td>\n",
       "      <td>0.229717</td>\n",
       "      <td>-0.036087</td>\n",
       "      <td>0.539916</td>\n",
       "    </tr>\n",
       "    <tr>\n",
       "      <th>popularity</th>\n",
       "      <td>0.431629</td>\n",
       "      <td>1.000000</td>\n",
       "      <td>0.602063</td>\n",
       "      <td>0.182385</td>\n",
       "      <td>0.288001</td>\n",
       "      <td>0.748965</td>\n",
       "    </tr>\n",
       "    <tr>\n",
       "      <th>revenue</th>\n",
       "      <td>0.705260</td>\n",
       "      <td>0.602063</td>\n",
       "      <td>1.000000</td>\n",
       "      <td>0.233235</td>\n",
       "      <td>0.187830</td>\n",
       "      <td>0.756110</td>\n",
       "    </tr>\n",
       "    <tr>\n",
       "      <th>runtime</th>\n",
       "      <td>0.229717</td>\n",
       "      <td>0.182385</td>\n",
       "      <td>0.233235</td>\n",
       "      <td>1.000000</td>\n",
       "      <td>0.386253</td>\n",
       "      <td>0.258103</td>\n",
       "    </tr>\n",
       "    <tr>\n",
       "      <th>vote_average</th>\n",
       "      <td>-0.036087</td>\n",
       "      <td>0.288001</td>\n",
       "      <td>0.187830</td>\n",
       "      <td>0.386253</td>\n",
       "      <td>1.000000</td>\n",
       "      <td>0.380685</td>\n",
       "    </tr>\n",
       "    <tr>\n",
       "      <th>vote_count</th>\n",
       "      <td>0.539916</td>\n",
       "      <td>0.748965</td>\n",
       "      <td>0.756110</td>\n",
       "      <td>0.258103</td>\n",
       "      <td>0.380685</td>\n",
       "      <td>1.000000</td>\n",
       "    </tr>\n",
       "  </tbody>\n",
       "</table>\n",
       "</div>"
      ],
      "text/plain": [
       "                budget  popularity   revenue   runtime  vote_average  \\\n",
       "budget        1.000000    0.431629  0.705260  0.229717     -0.036087   \n",
       "popularity    0.431629    1.000000  0.602063  0.182385      0.288001   \n",
       "revenue       0.705260    0.602063  1.000000  0.233235      0.187830   \n",
       "runtime       0.229717    0.182385  0.233235  1.000000      0.386253   \n",
       "vote_average -0.036087    0.288001  0.187830  0.386253      1.000000   \n",
       "vote_count    0.539916    0.748965  0.756110  0.258103      0.380685   \n",
       "\n",
       "              vote_count  \n",
       "budget          0.539916  \n",
       "popularity      0.748965  \n",
       "revenue         0.756110  \n",
       "runtime         0.258103  \n",
       "vote_average    0.380685  \n",
       "vote_count      1.000000  "
      ]
     },
     "execution_count": 16,
     "metadata": {},
     "output_type": "execute_result"
    }
   ],
   "source": [
    "correlation_matrix"
   ]
  },
  {
   "cell_type": "markdown",
   "id": "6a7c8837-e383-44f6-8117-b67544b9d8fd",
   "metadata": {},
   "source": [
    "Uma possível razão para tal é que quanto maior a receita gerada por um filme maior alcance esse tem. Assim, uma maior quantidade de pessoas pode fazer parte da votação. Por isso, essa correlação é forte. A mesma lógica pode ser aplicada quando a quantidade de votos é analisada em relação à popularidade (~0.749).\n"
   ]
  },
  {
   "cell_type": "markdown",
   "id": "fd3f7c58",
   "metadata": {},
   "source": [
    "### Análise de texto:"
   ]
  },
  {
   "cell_type": "markdown",
   "id": "d3e4354f",
   "metadata": {},
   "source": [
    "As features que não são quantitativas são representadas por objetos texto. Nesse sentido, é necessário adaptar o modelo para continuar a análise de modelos de regressão."
   ]
  },
  {
   "cell_type": "markdown",
   "id": "4fbcc89b",
   "metadata": {},
   "source": [
    "Para analisar textos foi utilizada a função do scikit-learn `CountVectorizer` com o intuito de transformar textos em vetores númericos e a função `TruncatedSVD` para melhorar a eficiência de trabalho com matrizes esparsas."
   ]
  },
  {
   "cell_type": "code",
   "execution_count": 17,
   "id": "202eac4d-7acb-4a76-9990-0bed4618be20",
   "metadata": {},
   "outputs": [],
   "source": [
    "movies_ = movies_copy"
   ]
  },
  {
   "cell_type": "code",
   "execution_count": 18,
   "id": "ed803e0b",
   "metadata": {},
   "outputs": [],
   "source": [
    "movies_copy = movies_copy.drop(columns = {'title','release_date','production_countries','spoken_languages'})"
   ]
  },
  {
   "cell_type": "code",
   "execution_count": 19,
   "id": "3074a112",
   "metadata": {},
   "outputs": [],
   "source": [
    "text_key = ['genres', 'keywords', 'production_companies', 'cast']\n",
    "\n",
    "for j in text_key:\n",
    "    movies_copy[j] = movies_copy[j].apply(lambda x:[i['name'] for i in json.loads(str(x))])\n",
    "    movies_copy[j] = movies_copy[j].apply(lambda x:\", \".join(x))"
   ]
  },
  {
   "cell_type": "code",
   "execution_count": 20,
   "id": "e5d51784",
   "metadata": {},
   "outputs": [],
   "source": [
    "text_to_num = ['genres', 'keywords', 'original_language', 'production_companies', 'cast', 'overview']\n",
    "\n",
    "list_of_dfs = []\n",
    "\n",
    "for i in text_to_num:\n",
    "    corpus = movies_copy[i]\n",
    "    n_samples = len(corpus)\n",
    "\n",
    "    vectorizer = sklearn.feature_extraction.text.CountVectorizer(\n",
    "    stop_words='english',\n",
    "    ngram_range=(1, 1),  #ngram_range=(1, 1) is the default\n",
    "    dtype='double',)\n",
    "    data = vectorizer.fit_transform(corpus)\n",
    "\n",
    "    vectors = data\n",
    "\n",
    "    pca = sklearn.decomposition.TruncatedSVD(n_components=19)\n",
    "    data = pca.fit_transform(data)\n",
    "    \n",
    "    vectors = data\n",
    "    \n",
    "    column_names = []\n",
    "    for j in range(len(data.tolist()[0])):\n",
    "        col_name = i + \"_\" + str(j)\n",
    "        column_names.append(col_name)\n",
    "    new_data = pd.DataFrame(vectors.tolist(), columns=column_names)\n",
    "\n",
    "    list_of_dfs.append(new_data)"
   ]
  },
  {
   "cell_type": "code",
   "execution_count": 21,
   "id": "b97ec77c",
   "metadata": {},
   "outputs": [
    {
     "data": {
      "text/html": [
       "<div>\n",
       "<style scoped>\n",
       "    .dataframe tbody tr th:only-of-type {\n",
       "        vertical-align: middle;\n",
       "    }\n",
       "\n",
       "    .dataframe tbody tr th {\n",
       "        vertical-align: top;\n",
       "    }\n",
       "\n",
       "    .dataframe thead th {\n",
       "        text-align: right;\n",
       "    }\n",
       "</style>\n",
       "<table border=\"1\" class=\"dataframe\">\n",
       "  <thead>\n",
       "    <tr style=\"text-align: right;\">\n",
       "      <th></th>\n",
       "      <th>budget</th>\n",
       "      <th>genres</th>\n",
       "      <th>keywords</th>\n",
       "      <th>original_language</th>\n",
       "      <th>overview</th>\n",
       "      <th>popularity</th>\n",
       "      <th>production_companies</th>\n",
       "      <th>revenue</th>\n",
       "      <th>runtime</th>\n",
       "      <th>vote_average</th>\n",
       "      <th>...</th>\n",
       "      <th>overview_9</th>\n",
       "      <th>overview_10</th>\n",
       "      <th>overview_11</th>\n",
       "      <th>overview_12</th>\n",
       "      <th>overview_13</th>\n",
       "      <th>overview_14</th>\n",
       "      <th>overview_15</th>\n",
       "      <th>overview_16</th>\n",
       "      <th>overview_17</th>\n",
       "      <th>overview_18</th>\n",
       "    </tr>\n",
       "  </thead>\n",
       "  <tbody>\n",
       "    <tr>\n",
       "      <th>0</th>\n",
       "      <td>237000000.0</td>\n",
       "      <td>Action, Adventure, Fantasy, Science Fiction</td>\n",
       "      <td>culture clash, future, space war, space colony...</td>\n",
       "      <td>en</td>\n",
       "      <td>In the 22nd century, a paraplegic Marine is di...</td>\n",
       "      <td>150.437577</td>\n",
       "      <td>Ingenious Film Partners, Twentieth Century Fox...</td>\n",
       "      <td>2.787965e+09</td>\n",
       "      <td>162.0</td>\n",
       "      <td>7.2</td>\n",
       "      <td>...</td>\n",
       "      <td>-0.113147</td>\n",
       "      <td>0.108296</td>\n",
       "      <td>-0.203760</td>\n",
       "      <td>-0.190140</td>\n",
       "      <td>-0.200488</td>\n",
       "      <td>0.150020</td>\n",
       "      <td>0.061625</td>\n",
       "      <td>-0.094304</td>\n",
       "      <td>-0.218687</td>\n",
       "      <td>0.096563</td>\n",
       "    </tr>\n",
       "    <tr>\n",
       "      <th>1</th>\n",
       "      <td>300000000.0</td>\n",
       "      <td>Adventure, Fantasy, Action</td>\n",
       "      <td>ocean, drug abuse, exotic island, east india t...</td>\n",
       "      <td>en</td>\n",
       "      <td>Captain Barbossa, long believed to be dead, ha...</td>\n",
       "      <td>139.082615</td>\n",
       "      <td>Walt Disney Pictures, Jerry Bruckheimer Films,...</td>\n",
       "      <td>9.610000e+08</td>\n",
       "      <td>169.0</td>\n",
       "      <td>6.9</td>\n",
       "      <td>...</td>\n",
       "      <td>-0.172019</td>\n",
       "      <td>-0.000159</td>\n",
       "      <td>-0.108996</td>\n",
       "      <td>-0.186431</td>\n",
       "      <td>0.020970</td>\n",
       "      <td>0.009121</td>\n",
       "      <td>0.049536</td>\n",
       "      <td>-0.183812</td>\n",
       "      <td>-0.379015</td>\n",
       "      <td>-0.056197</td>\n",
       "    </tr>\n",
       "    <tr>\n",
       "      <th>2</th>\n",
       "      <td>245000000.0</td>\n",
       "      <td>Action, Adventure, Crime</td>\n",
       "      <td>spy, based on novel, secret agent, sequel, mi6...</td>\n",
       "      <td>en</td>\n",
       "      <td>A cryptic message from Bond’s past sends him o...</td>\n",
       "      <td>107.376788</td>\n",
       "      <td>Columbia Pictures, Danjaq, B24</td>\n",
       "      <td>8.806746e+08</td>\n",
       "      <td>148.0</td>\n",
       "      <td>6.3</td>\n",
       "      <td>...</td>\n",
       "      <td>-0.200125</td>\n",
       "      <td>0.040258</td>\n",
       "      <td>-0.174929</td>\n",
       "      <td>-0.099621</td>\n",
       "      <td>-0.244621</td>\n",
       "      <td>0.245448</td>\n",
       "      <td>0.042358</td>\n",
       "      <td>0.367403</td>\n",
       "      <td>0.104622</td>\n",
       "      <td>0.015275</td>\n",
       "    </tr>\n",
       "    <tr>\n",
       "      <th>3</th>\n",
       "      <td>250000000.0</td>\n",
       "      <td>Action, Crime, Drama, Thriller</td>\n",
       "      <td>dc comics, crime fighter, terrorist, secret id...</td>\n",
       "      <td>en</td>\n",
       "      <td>Following the death of District Attorney Harve...</td>\n",
       "      <td>112.312950</td>\n",
       "      <td>Legendary Pictures, Warner Bros., DC Entertain...</td>\n",
       "      <td>1.084939e+09</td>\n",
       "      <td>165.0</td>\n",
       "      <td>7.6</td>\n",
       "      <td>...</td>\n",
       "      <td>-0.492351</td>\n",
       "      <td>0.442997</td>\n",
       "      <td>0.046381</td>\n",
       "      <td>0.823813</td>\n",
       "      <td>0.510444</td>\n",
       "      <td>1.261701</td>\n",
       "      <td>0.415923</td>\n",
       "      <td>0.344009</td>\n",
       "      <td>-0.056344</td>\n",
       "      <td>-0.731358</td>\n",
       "    </tr>\n",
       "    <tr>\n",
       "      <th>4</th>\n",
       "      <td>260000000.0</td>\n",
       "      <td>Action, Adventure, Science Fiction</td>\n",
       "      <td>based on novel, mars, medallion, space travel,...</td>\n",
       "      <td>en</td>\n",
       "      <td>John Carter is a war-weary, former military ca...</td>\n",
       "      <td>43.926995</td>\n",
       "      <td>Walt Disney Pictures</td>\n",
       "      <td>2.841391e+08</td>\n",
       "      <td>132.0</td>\n",
       "      <td>6.1</td>\n",
       "      <td>...</td>\n",
       "      <td>-0.129743</td>\n",
       "      <td>0.023931</td>\n",
       "      <td>-0.058364</td>\n",
       "      <td>-0.161625</td>\n",
       "      <td>-0.258678</td>\n",
       "      <td>0.230172</td>\n",
       "      <td>0.098862</td>\n",
       "      <td>0.161115</td>\n",
       "      <td>-0.530711</td>\n",
       "      <td>-0.000027</td>\n",
       "    </tr>\n",
       "  </tbody>\n",
       "</table>\n",
       "<p>5 rows × 126 columns</p>\n",
       "</div>"
      ],
      "text/plain": [
       "        budget                                       genres  \\\n",
       "0  237000000.0  Action, Adventure, Fantasy, Science Fiction   \n",
       "1  300000000.0                   Adventure, Fantasy, Action   \n",
       "2  245000000.0                     Action, Adventure, Crime   \n",
       "3  250000000.0               Action, Crime, Drama, Thriller   \n",
       "4  260000000.0           Action, Adventure, Science Fiction   \n",
       "\n",
       "                                            keywords original_language  \\\n",
       "0  culture clash, future, space war, space colony...                en   \n",
       "1  ocean, drug abuse, exotic island, east india t...                en   \n",
       "2  spy, based on novel, secret agent, sequel, mi6...                en   \n",
       "3  dc comics, crime fighter, terrorist, secret id...                en   \n",
       "4  based on novel, mars, medallion, space travel,...                en   \n",
       "\n",
       "                                            overview  popularity  \\\n",
       "0  In the 22nd century, a paraplegic Marine is di...  150.437577   \n",
       "1  Captain Barbossa, long believed to be dead, ha...  139.082615   \n",
       "2  A cryptic message from Bond’s past sends him o...  107.376788   \n",
       "3  Following the death of District Attorney Harve...  112.312950   \n",
       "4  John Carter is a war-weary, former military ca...   43.926995   \n",
       "\n",
       "                                production_companies       revenue  runtime  \\\n",
       "0  Ingenious Film Partners, Twentieth Century Fox...  2.787965e+09    162.0   \n",
       "1  Walt Disney Pictures, Jerry Bruckheimer Films,...  9.610000e+08    169.0   \n",
       "2                     Columbia Pictures, Danjaq, B24  8.806746e+08    148.0   \n",
       "3  Legendary Pictures, Warner Bros., DC Entertain...  1.084939e+09    165.0   \n",
       "4                               Walt Disney Pictures  2.841391e+08    132.0   \n",
       "\n",
       "   vote_average  ...  overview_9 overview_10  overview_11  overview_12  \\\n",
       "0           7.2  ...   -0.113147    0.108296    -0.203760    -0.190140   \n",
       "1           6.9  ...   -0.172019   -0.000159    -0.108996    -0.186431   \n",
       "2           6.3  ...   -0.200125    0.040258    -0.174929    -0.099621   \n",
       "3           7.6  ...   -0.492351    0.442997     0.046381     0.823813   \n",
       "4           6.1  ...   -0.129743    0.023931    -0.058364    -0.161625   \n",
       "\n",
       "   overview_13  overview_14  overview_15  overview_16  overview_17  \\\n",
       "0    -0.200488     0.150020     0.061625    -0.094304    -0.218687   \n",
       "1     0.020970     0.009121     0.049536    -0.183812    -0.379015   \n",
       "2    -0.244621     0.245448     0.042358     0.367403     0.104622   \n",
       "3     0.510444     1.261701     0.415923     0.344009    -0.056344   \n",
       "4    -0.258678     0.230172     0.098862     0.161115    -0.530711   \n",
       "\n",
       "   overview_18  \n",
       "0     0.096563  \n",
       "1    -0.056197  \n",
       "2     0.015275  \n",
       "3    -0.731358  \n",
       "4    -0.000027  \n",
       "\n",
       "[5 rows x 126 columns]"
      ]
     },
     "execution_count": 21,
     "metadata": {},
     "output_type": "execute_result"
    }
   ],
   "source": [
    "list_of_dfs.insert(0, movies_copy)\n",
    "movies_copy = pd.concat(list_of_dfs, axis=1)\n",
    "movies_copy.head()"
   ]
  },
  {
   "cell_type": "code",
   "execution_count": 22,
   "id": "00897c06",
   "metadata": {},
   "outputs": [],
   "source": [
    "movies_copy = movies_copy.drop(columns={'genres', 'keywords', 'original_language', 'production_companies', 'cast', 'overview'})"
   ]
  },
  {
   "cell_type": "code",
   "execution_count": 23,
   "id": "0a0de2b6",
   "metadata": {},
   "outputs": [
    {
     "data": {
      "text/html": [
       "<div>\n",
       "<style scoped>\n",
       "    .dataframe tbody tr th:only-of-type {\n",
       "        vertical-align: middle;\n",
       "    }\n",
       "\n",
       "    .dataframe tbody tr th {\n",
       "        vertical-align: top;\n",
       "    }\n",
       "\n",
       "    .dataframe thead th {\n",
       "        text-align: right;\n",
       "    }\n",
       "</style>\n",
       "<table border=\"1\" class=\"dataframe\">\n",
       "  <thead>\n",
       "    <tr style=\"text-align: right;\">\n",
       "      <th></th>\n",
       "      <th>budget</th>\n",
       "      <th>popularity</th>\n",
       "      <th>revenue</th>\n",
       "      <th>runtime</th>\n",
       "      <th>vote_average</th>\n",
       "      <th>vote_count</th>\n",
       "      <th>genres_0</th>\n",
       "      <th>genres_1</th>\n",
       "      <th>genres_2</th>\n",
       "      <th>genres_3</th>\n",
       "      <th>...</th>\n",
       "      <th>overview_9</th>\n",
       "      <th>overview_10</th>\n",
       "      <th>overview_11</th>\n",
       "      <th>overview_12</th>\n",
       "      <th>overview_13</th>\n",
       "      <th>overview_14</th>\n",
       "      <th>overview_15</th>\n",
       "      <th>overview_16</th>\n",
       "      <th>overview_17</th>\n",
       "      <th>overview_18</th>\n",
       "    </tr>\n",
       "  </thead>\n",
       "  <tbody>\n",
       "    <tr>\n",
       "      <th>0</th>\n",
       "      <td>237000000.0</td>\n",
       "      <td>150.437577</td>\n",
       "      <td>2.787965e+09</td>\n",
       "      <td>162.0</td>\n",
       "      <td>7.2</td>\n",
       "      <td>11800.0</td>\n",
       "      <td>1.161695</td>\n",
       "      <td>1.297219</td>\n",
       "      <td>0.706028</td>\n",
       "      <td>0.916887</td>\n",
       "      <td>...</td>\n",
       "      <td>-0.113147</td>\n",
       "      <td>0.108296</td>\n",
       "      <td>-0.203760</td>\n",
       "      <td>-0.190140</td>\n",
       "      <td>-0.200488</td>\n",
       "      <td>0.150020</td>\n",
       "      <td>0.061625</td>\n",
       "      <td>-0.094304</td>\n",
       "      <td>-0.218687</td>\n",
       "      <td>0.096563</td>\n",
       "    </tr>\n",
       "    <tr>\n",
       "      <th>1</th>\n",
       "      <td>300000000.0</td>\n",
       "      <td>139.082615</td>\n",
       "      <td>9.610000e+08</td>\n",
       "      <td>169.0</td>\n",
       "      <td>6.9</td>\n",
       "      <td>4500.0</td>\n",
       "      <td>0.787288</td>\n",
       "      <td>0.729284</td>\n",
       "      <td>0.482010</td>\n",
       "      <td>0.205881</td>\n",
       "      <td>...</td>\n",
       "      <td>-0.172019</td>\n",
       "      <td>-0.000159</td>\n",
       "      <td>-0.108996</td>\n",
       "      <td>-0.186431</td>\n",
       "      <td>0.020970</td>\n",
       "      <td>0.009121</td>\n",
       "      <td>0.049536</td>\n",
       "      <td>-0.183812</td>\n",
       "      <td>-0.379015</td>\n",
       "      <td>-0.056197</td>\n",
       "    </tr>\n",
       "    <tr>\n",
       "      <th>2</th>\n",
       "      <td>245000000.0</td>\n",
       "      <td>107.376788</td>\n",
       "      <td>8.806746e+08</td>\n",
       "      <td>148.0</td>\n",
       "      <td>6.3</td>\n",
       "      <td>4466.0</td>\n",
       "      <td>0.890395</td>\n",
       "      <td>0.685587</td>\n",
       "      <td>0.114349</td>\n",
       "      <td>-0.297282</td>\n",
       "      <td>...</td>\n",
       "      <td>-0.200125</td>\n",
       "      <td>0.040258</td>\n",
       "      <td>-0.174929</td>\n",
       "      <td>-0.099621</td>\n",
       "      <td>-0.244621</td>\n",
       "      <td>0.245448</td>\n",
       "      <td>0.042358</td>\n",
       "      <td>0.367403</td>\n",
       "      <td>0.104622</td>\n",
       "      <td>0.015275</td>\n",
       "    </tr>\n",
       "    <tr>\n",
       "      <th>3</th>\n",
       "      <td>250000000.0</td>\n",
       "      <td>112.312950</td>\n",
       "      <td>1.084939e+09</td>\n",
       "      <td>165.0</td>\n",
       "      <td>7.6</td>\n",
       "      <td>9106.0</td>\n",
       "      <td>1.560948</td>\n",
       "      <td>0.159965</td>\n",
       "      <td>-0.922978</td>\n",
       "      <td>-0.519717</td>\n",
       "      <td>...</td>\n",
       "      <td>-0.492351</td>\n",
       "      <td>0.442997</td>\n",
       "      <td>0.046381</td>\n",
       "      <td>0.823813</td>\n",
       "      <td>0.510444</td>\n",
       "      <td>1.261701</td>\n",
       "      <td>0.415923</td>\n",
       "      <td>0.344009</td>\n",
       "      <td>-0.056344</td>\n",
       "      <td>-0.731358</td>\n",
       "    </tr>\n",
       "    <tr>\n",
       "      <th>4</th>\n",
       "      <td>260000000.0</td>\n",
       "      <td>43.926995</td>\n",
       "      <td>2.841391e+08</td>\n",
       "      <td>132.0</td>\n",
       "      <td>6.1</td>\n",
       "      <td>2124.0</td>\n",
       "      <td>1.047265</td>\n",
       "      <td>1.248288</td>\n",
       "      <td>0.534182</td>\n",
       "      <td>0.833164</td>\n",
       "      <td>...</td>\n",
       "      <td>-0.129743</td>\n",
       "      <td>0.023931</td>\n",
       "      <td>-0.058364</td>\n",
       "      <td>-0.161625</td>\n",
       "      <td>-0.258678</td>\n",
       "      <td>0.230172</td>\n",
       "      <td>0.098862</td>\n",
       "      <td>0.161115</td>\n",
       "      <td>-0.530711</td>\n",
       "      <td>-0.000027</td>\n",
       "    </tr>\n",
       "  </tbody>\n",
       "</table>\n",
       "<p>5 rows × 120 columns</p>\n",
       "</div>"
      ],
      "text/plain": [
       "        budget  popularity       revenue  runtime  vote_average  vote_count  \\\n",
       "0  237000000.0  150.437577  2.787965e+09    162.0           7.2     11800.0   \n",
       "1  300000000.0  139.082615  9.610000e+08    169.0           6.9      4500.0   \n",
       "2  245000000.0  107.376788  8.806746e+08    148.0           6.3      4466.0   \n",
       "3  250000000.0  112.312950  1.084939e+09    165.0           7.6      9106.0   \n",
       "4  260000000.0   43.926995  2.841391e+08    132.0           6.1      2124.0   \n",
       "\n",
       "   genres_0  genres_1  genres_2  genres_3  ...  overview_9  overview_10  \\\n",
       "0  1.161695  1.297219  0.706028  0.916887  ...   -0.113147     0.108296   \n",
       "1  0.787288  0.729284  0.482010  0.205881  ...   -0.172019    -0.000159   \n",
       "2  0.890395  0.685587  0.114349 -0.297282  ...   -0.200125     0.040258   \n",
       "3  1.560948  0.159965 -0.922978 -0.519717  ...   -0.492351     0.442997   \n",
       "4  1.047265  1.248288  0.534182  0.833164  ...   -0.129743     0.023931   \n",
       "\n",
       "   overview_11  overview_12  overview_13  overview_14  overview_15  \\\n",
       "0    -0.203760    -0.190140    -0.200488     0.150020     0.061625   \n",
       "1    -0.108996    -0.186431     0.020970     0.009121     0.049536   \n",
       "2    -0.174929    -0.099621    -0.244621     0.245448     0.042358   \n",
       "3     0.046381     0.823813     0.510444     1.261701     0.415923   \n",
       "4    -0.058364    -0.161625    -0.258678     0.230172     0.098862   \n",
       "\n",
       "   overview_16  overview_17  overview_18  \n",
       "0    -0.094304    -0.218687     0.096563  \n",
       "1    -0.183812    -0.379015    -0.056197  \n",
       "2     0.367403     0.104622     0.015275  \n",
       "3     0.344009    -0.056344    -0.731358  \n",
       "4     0.161115    -0.530711    -0.000027  \n",
       "\n",
       "[5 rows x 120 columns]"
      ]
     },
     "execution_count": 23,
     "metadata": {},
     "output_type": "execute_result"
    }
   ],
   "source": [
    "movies_copy.head()"
   ]
  },
  {
   "cell_type": "code",
   "execution_count": 24,
   "id": "187d994b",
   "metadata": {},
   "outputs": [],
   "source": [
    "movies_copy = movies_copy.dropna()"
   ]
  },
  {
   "cell_type": "markdown",
   "id": "a4d1e16b",
   "metadata": {},
   "source": [
    "Com a alteração realizada, é possível analisar novamente os valores de correlação dos dados. A feature `vote_count` continua sendo a mais importante para a regressão."
   ]
  },
  {
   "cell_type": "code",
   "execution_count": 25,
   "id": "84e0664c-68fd-4c73-b4a7-a7200fa98de2",
   "metadata": {},
   "outputs": [
    {
     "data": {
      "text/plain": [
       "overview_18           overview_18             1.000000\n",
       "revenue               vote_count              0.760050\n",
       "vote_count            popularity              0.732853\n",
       "original_language_17  original_language_15    0.701869\n",
       "revenue               budget                  0.685696\n",
       "                                                ...   \n",
       "original_language_11  original_language_13   -0.491306\n",
       "original_language_15  original_language_14   -0.739382\n",
       "original_language_12  original_language_13   -0.766712\n",
       "original_language_16  original_language_15   -0.819354\n",
       "                      original_language_17   -0.833910\n",
       "Length: 7141, dtype: float64"
      ]
     },
     "execution_count": 25,
     "metadata": {},
     "output_type": "execute_result"
    }
   ],
   "source": [
    "correlation_matrix = movies_copy.corr()\n",
    "correlation_matrix.unstack().dropna().sort_values(ascending=False).drop_duplicates()"
   ]
  },
  {
   "cell_type": "markdown",
   "id": "0681f943",
   "metadata": {},
   "source": [
    "### Separação de dados treinamento/teste"
   ]
  },
  {
   "cell_type": "markdown",
   "id": "73ccf8b3",
   "metadata": {},
   "source": [
    "Para manter a integridade dos dados de treinamento/teste é necessário fazer uma separação estratificada. Nesse sentido, foi realizada a separação pela variável `vote_count`."
   ]
  },
  {
   "cell_type": "code",
   "execution_count": 26,
   "id": "292f5316",
   "metadata": {},
   "outputs": [
    {
     "data": {
      "text/plain": [
       "13752.0"
      ]
     },
     "execution_count": 26,
     "metadata": {},
     "output_type": "execute_result"
    }
   ],
   "source": [
    "movies_copy['vote_count'].max()"
   ]
  },
  {
   "cell_type": "code",
   "execution_count": 27,
   "id": "18500b56",
   "metadata": {},
   "outputs": [
    {
     "data": {
      "text/plain": [
       "2.0"
      ]
     },
     "execution_count": 27,
     "metadata": {},
     "output_type": "execute_result"
    }
   ],
   "source": [
    "movies_copy['vote_count'].min()"
   ]
  },
  {
   "cell_type": "code",
   "execution_count": 28,
   "id": "2cc4cd5d",
   "metadata": {},
   "outputs": [],
   "source": [
    "import math\n",
    "ref = movies_copy['vote_count'].max()\n",
    "min_ref = movies_copy['vote_count'].min()\n",
    "first = math.ceil((ref-min_ref) / 5)\n",
    "second = math.ceil((ref-min_ref) / 5*2)\n",
    "third = math.ceil((ref-min_ref) / 5*3)\n",
    "fourth = math.ceil((ref-min_ref) / 5*4)"
   ]
  },
  {
   "cell_type": "code",
   "execution_count": 29,
   "id": "20477429",
   "metadata": {},
   "outputs": [],
   "source": [
    "def stratified_shuffle(x):\n",
    "    if x <= first:\n",
    "        return 1.0\n",
    "    elif x > first and x <= second:\n",
    "        return 2.0\n",
    "    elif x > second and x <= third:\n",
    "        return 3.0\n",
    "    elif x > third and x <= fourth:\n",
    "        return 4.0\n",
    "    else:\n",
    "        return 5.0"
   ]
  },
  {
   "cell_type": "code",
   "execution_count": 30,
   "id": "4a555eaf",
   "metadata": {},
   "outputs": [],
   "source": [
    "movies_copy['vote_count_cat'] = movies_copy['vote_count'].astype(int)"
   ]
  },
  {
   "cell_type": "code",
   "execution_count": 31,
   "id": "4e051e1d",
   "metadata": {},
   "outputs": [],
   "source": [
    "movies_copy['vote_count_cat'] = movies_copy['vote_count'].apply(stratified_shuffle)"
   ]
  },
  {
   "cell_type": "code",
   "execution_count": 32,
   "id": "81e6ee75",
   "metadata": {},
   "outputs": [
    {
     "data": {
      "text/plain": [
       "1.0    0.892607\n",
       "2.0    0.080934\n",
       "3.0    0.019455\n",
       "4.0    0.005447\n",
       "5.0    0.001556\n",
       "Name: vote_count_cat, dtype: float64"
      ]
     },
     "execution_count": 32,
     "metadata": {},
     "output_type": "execute_result"
    }
   ],
   "source": [
    "movies_copy['vote_count_cat'].value_counts(True)"
   ]
  },
  {
   "cell_type": "code",
   "execution_count": 33,
   "id": "9963062d",
   "metadata": {},
   "outputs": [
    {
     "data": {
      "text/html": [
       "<div>\n",
       "<style scoped>\n",
       "    .dataframe tbody tr th:only-of-type {\n",
       "        vertical-align: middle;\n",
       "    }\n",
       "\n",
       "    .dataframe tbody tr th {\n",
       "        vertical-align: top;\n",
       "    }\n",
       "\n",
       "    .dataframe thead th {\n",
       "        text-align: right;\n",
       "    }\n",
       "</style>\n",
       "<table border=\"1\" class=\"dataframe\">\n",
       "  <thead>\n",
       "    <tr style=\"text-align: right;\">\n",
       "      <th></th>\n",
       "      <th>budget</th>\n",
       "      <th>popularity</th>\n",
       "      <th>revenue</th>\n",
       "      <th>runtime</th>\n",
       "      <th>vote_average</th>\n",
       "      <th>vote_count</th>\n",
       "      <th>genres_0</th>\n",
       "      <th>genres_1</th>\n",
       "      <th>genres_2</th>\n",
       "      <th>genres_3</th>\n",
       "      <th>...</th>\n",
       "      <th>overview_10</th>\n",
       "      <th>overview_11</th>\n",
       "      <th>overview_12</th>\n",
       "      <th>overview_13</th>\n",
       "      <th>overview_14</th>\n",
       "      <th>overview_15</th>\n",
       "      <th>overview_16</th>\n",
       "      <th>overview_17</th>\n",
       "      <th>overview_18</th>\n",
       "      <th>vote_count_cat</th>\n",
       "    </tr>\n",
       "  </thead>\n",
       "  <tbody>\n",
       "    <tr>\n",
       "      <th>0</th>\n",
       "      <td>237000000.0</td>\n",
       "      <td>150.437577</td>\n",
       "      <td>2.787965e+09</td>\n",
       "      <td>162.0</td>\n",
       "      <td>7.2</td>\n",
       "      <td>11800.0</td>\n",
       "      <td>1.161695</td>\n",
       "      <td>1.297219</td>\n",
       "      <td>0.706028</td>\n",
       "      <td>0.916887</td>\n",
       "      <td>...</td>\n",
       "      <td>0.108296</td>\n",
       "      <td>-0.203760</td>\n",
       "      <td>-0.190140</td>\n",
       "      <td>-0.200488</td>\n",
       "      <td>0.150020</td>\n",
       "      <td>0.061625</td>\n",
       "      <td>-0.094304</td>\n",
       "      <td>-0.218687</td>\n",
       "      <td>0.096563</td>\n",
       "      <td>5.0</td>\n",
       "    </tr>\n",
       "    <tr>\n",
       "      <th>1</th>\n",
       "      <td>300000000.0</td>\n",
       "      <td>139.082615</td>\n",
       "      <td>9.610000e+08</td>\n",
       "      <td>169.0</td>\n",
       "      <td>6.9</td>\n",
       "      <td>4500.0</td>\n",
       "      <td>0.787288</td>\n",
       "      <td>0.729284</td>\n",
       "      <td>0.482010</td>\n",
       "      <td>0.205881</td>\n",
       "      <td>...</td>\n",
       "      <td>-0.000159</td>\n",
       "      <td>-0.108996</td>\n",
       "      <td>-0.186431</td>\n",
       "      <td>0.020970</td>\n",
       "      <td>0.009121</td>\n",
       "      <td>0.049536</td>\n",
       "      <td>-0.183812</td>\n",
       "      <td>-0.379015</td>\n",
       "      <td>-0.056197</td>\n",
       "      <td>2.0</td>\n",
       "    </tr>\n",
       "    <tr>\n",
       "      <th>2</th>\n",
       "      <td>245000000.0</td>\n",
       "      <td>107.376788</td>\n",
       "      <td>8.806746e+08</td>\n",
       "      <td>148.0</td>\n",
       "      <td>6.3</td>\n",
       "      <td>4466.0</td>\n",
       "      <td>0.890395</td>\n",
       "      <td>0.685587</td>\n",
       "      <td>0.114349</td>\n",
       "      <td>-0.297282</td>\n",
       "      <td>...</td>\n",
       "      <td>0.040258</td>\n",
       "      <td>-0.174929</td>\n",
       "      <td>-0.099621</td>\n",
       "      <td>-0.244621</td>\n",
       "      <td>0.245448</td>\n",
       "      <td>0.042358</td>\n",
       "      <td>0.367403</td>\n",
       "      <td>0.104622</td>\n",
       "      <td>0.015275</td>\n",
       "      <td>2.0</td>\n",
       "    </tr>\n",
       "    <tr>\n",
       "      <th>3</th>\n",
       "      <td>250000000.0</td>\n",
       "      <td>112.312950</td>\n",
       "      <td>1.084939e+09</td>\n",
       "      <td>165.0</td>\n",
       "      <td>7.6</td>\n",
       "      <td>9106.0</td>\n",
       "      <td>1.560948</td>\n",
       "      <td>0.159965</td>\n",
       "      <td>-0.922978</td>\n",
       "      <td>-0.519717</td>\n",
       "      <td>...</td>\n",
       "      <td>0.442997</td>\n",
       "      <td>0.046381</td>\n",
       "      <td>0.823813</td>\n",
       "      <td>0.510444</td>\n",
       "      <td>1.261701</td>\n",
       "      <td>0.415923</td>\n",
       "      <td>0.344009</td>\n",
       "      <td>-0.056344</td>\n",
       "      <td>-0.731358</td>\n",
       "      <td>4.0</td>\n",
       "    </tr>\n",
       "    <tr>\n",
       "      <th>4</th>\n",
       "      <td>260000000.0</td>\n",
       "      <td>43.926995</td>\n",
       "      <td>2.841391e+08</td>\n",
       "      <td>132.0</td>\n",
       "      <td>6.1</td>\n",
       "      <td>2124.0</td>\n",
       "      <td>1.047265</td>\n",
       "      <td>1.248288</td>\n",
       "      <td>0.534182</td>\n",
       "      <td>0.833164</td>\n",
       "      <td>...</td>\n",
       "      <td>0.023931</td>\n",
       "      <td>-0.058364</td>\n",
       "      <td>-0.161625</td>\n",
       "      <td>-0.258678</td>\n",
       "      <td>0.230172</td>\n",
       "      <td>0.098862</td>\n",
       "      <td>0.161115</td>\n",
       "      <td>-0.530711</td>\n",
       "      <td>-0.000027</td>\n",
       "      <td>1.0</td>\n",
       "    </tr>\n",
       "  </tbody>\n",
       "</table>\n",
       "<p>5 rows × 121 columns</p>\n",
       "</div>"
      ],
      "text/plain": [
       "        budget  popularity       revenue  runtime  vote_average  vote_count  \\\n",
       "0  237000000.0  150.437577  2.787965e+09    162.0           7.2     11800.0   \n",
       "1  300000000.0  139.082615  9.610000e+08    169.0           6.9      4500.0   \n",
       "2  245000000.0  107.376788  8.806746e+08    148.0           6.3      4466.0   \n",
       "3  250000000.0  112.312950  1.084939e+09    165.0           7.6      9106.0   \n",
       "4  260000000.0   43.926995  2.841391e+08    132.0           6.1      2124.0   \n",
       "\n",
       "   genres_0  genres_1  genres_2  genres_3  ...  overview_10  overview_11  \\\n",
       "0  1.161695  1.297219  0.706028  0.916887  ...     0.108296    -0.203760   \n",
       "1  0.787288  0.729284  0.482010  0.205881  ...    -0.000159    -0.108996   \n",
       "2  0.890395  0.685587  0.114349 -0.297282  ...     0.040258    -0.174929   \n",
       "3  1.560948  0.159965 -0.922978 -0.519717  ...     0.442997     0.046381   \n",
       "4  1.047265  1.248288  0.534182  0.833164  ...     0.023931    -0.058364   \n",
       "\n",
       "   overview_12  overview_13  overview_14  overview_15  overview_16  \\\n",
       "0    -0.190140    -0.200488     0.150020     0.061625    -0.094304   \n",
       "1    -0.186431     0.020970     0.009121     0.049536    -0.183812   \n",
       "2    -0.099621    -0.244621     0.245448     0.042358     0.367403   \n",
       "3     0.823813     0.510444     1.261701     0.415923     0.344009   \n",
       "4    -0.161625    -0.258678     0.230172     0.098862     0.161115   \n",
       "\n",
       "   overview_17  overview_18  vote_count_cat  \n",
       "0    -0.218687     0.096563             5.0  \n",
       "1    -0.379015    -0.056197             2.0  \n",
       "2     0.104622     0.015275             2.0  \n",
       "3    -0.056344    -0.731358             4.0  \n",
       "4    -0.530711    -0.000027             1.0  \n",
       "\n",
       "[5 rows x 121 columns]"
      ]
     },
     "execution_count": 33,
     "metadata": {},
     "output_type": "execute_result"
    }
   ],
   "source": [
    "movies_copy.head()"
   ]
  },
  {
   "cell_type": "code",
   "execution_count": 34,
   "id": "3aaebaa8-d378-4df8-877a-66a7c53d7ffe",
   "metadata": {},
   "outputs": [],
   "source": [
    "movies_copy = movies_copy.reset_index()"
   ]
  },
  {
   "cell_type": "code",
   "execution_count": 35,
   "id": "7695b2dc",
   "metadata": {},
   "outputs": [],
   "source": [
    "movies_copy = movies_copy.drop(columns = {'index'})"
   ]
  },
  {
   "cell_type": "markdown",
   "id": "fa10c94b-962c-4a1e-9543-bdaf12fe4626",
   "metadata": {},
   "source": [
    "Divisão do conjunto de dados de modo estratificado:"
   ]
  },
  {
   "cell_type": "code",
   "execution_count": 36,
   "id": "9dda0a2d",
   "metadata": {},
   "outputs": [],
   "source": [
    "from sklearn.model_selection import StratifiedShuffleSplit\n",
    "\n",
    "split = StratifiedShuffleSplit(\n",
    "    n_splits=1,\n",
    "    test_size=0.2,\n",
    "    random_state=RANDOM_SEED,\n",
    ")\n",
    "for train_index, test_index in split.split(movies_copy, movies_copy['vote_count_cat']):\n",
    "    strat_train_set = movies_copy.loc[train_index]\n",
    "    strat_test_set = movies_copy.loc[test_index]"
   ]
  },
  {
   "cell_type": "markdown",
   "id": "8d8c04dd",
   "metadata": {},
   "source": [
    "Verificando se a separação estratificada foi bem sucedida:"
   ]
  },
  {
   "cell_type": "code",
   "execution_count": 37,
   "id": "9b801fb2",
   "metadata": {},
   "outputs": [
    {
     "data": {
      "text/plain": [
       "1.0    0.892510\n",
       "2.0    0.081226\n",
       "3.0    0.019455\n",
       "4.0    0.005350\n",
       "5.0    0.001459\n",
       "Name: vote_count_cat, dtype: float64"
      ]
     },
     "execution_count": 37,
     "metadata": {},
     "output_type": "execute_result"
    }
   ],
   "source": [
    "strat_train_set['vote_count_cat'].value_counts(True)"
   ]
  },
  {
   "cell_type": "code",
   "execution_count": 38,
   "id": "d3be2cbb",
   "metadata": {},
   "outputs": [
    {
     "data": {
      "text/plain": [
       "1.0    0.892996\n",
       "2.0    0.079767\n",
       "3.0    0.019455\n",
       "4.0    0.005837\n",
       "5.0    0.001946\n",
       "Name: vote_count_cat, dtype: float64"
      ]
     },
     "execution_count": 38,
     "metadata": {},
     "output_type": "execute_result"
    }
   ],
   "source": [
    "strat_test_set['vote_count_cat'].value_counts(True)"
   ]
  },
  {
   "cell_type": "markdown",
   "id": "123d0b93-43c1-4f6d-a779-69a7399e9a41",
   "metadata": {
    "tags": []
   },
   "source": [
    "Removendo a nova coluna que foi adicionada temporariamente:"
   ]
  },
  {
   "cell_type": "code",
   "execution_count": 39,
   "id": "b2960724",
   "metadata": {},
   "outputs": [],
   "source": [
    "strat_train_set.drop(['vote_count_cat'], axis=1, inplace=True)\n",
    "strat_test_set.drop(['vote_count_cat'], axis=1, inplace=True)"
   ]
  },
  {
   "cell_type": "markdown",
   "id": "fc987c77-bb8b-4b2f-85e0-50f53aecfe42",
   "metadata": {
    "tags": []
   },
   "source": [
    "A partir de agora tem-se os conjuntos de treinamento e teste, `strat_train_set` e `strat_test_set`, respectivamente. O conjunto `strat_train_set` será usado para várias explorações e para construir nosso modelo preditivo. Já o conjunto `strat_test_set` será usado só no final do projeto, para avaliar a performance final do modelo."
   ]
  },
  {
   "cell_type": "markdown",
   "id": "229e5b1c-b36c-4548-acd4-5613906aa0ed",
   "metadata": {},
   "source": [
    "### Preparando os dados para o modelo - Separando X e y"
   ]
  },
  {
   "cell_type": "markdown",
   "id": "6cd722d2-ccc8-4c45-8fc2-d776eb395d80",
   "metadata": {},
   "source": [
    "Com os conjuntos separados, é possível iniciar a construção de um modelo de machine learning para o problema.\n",
    "\n",
    "Como o *dataset* foi \"limpado\" e criou-se referências em numéros para os objetos textos, basta separar as variáveis e construir os modelos preditivos."
   ]
  },
  {
   "cell_type": "code",
   "execution_count": 40,
   "id": "a42c30d5",
   "metadata": {},
   "outputs": [],
   "source": [
    "strat_train_set_copy = strat_train_set.copy()\n",
    "strat_test_set_copy = strat_test_set.copy()"
   ]
  },
  {
   "cell_type": "markdown",
   "id": "5636fa79-4f18-411f-93ba-872a8506bc70",
   "metadata": {},
   "source": [
    "Variáveis independentes (dataset original menos a coluna de valores dependentes):"
   ]
  },
  {
   "cell_type": "code",
   "execution_count": 41,
   "id": "9688934b-11ac-4549-8d8f-5cf3d6a7ad30",
   "metadata": {},
   "outputs": [],
   "source": [
    "movies = strat_train_set_copy.drop('revenue', axis=1)"
   ]
  },
  {
   "cell_type": "markdown",
   "id": "f97cef9e-63ca-46f1-9090-2745e0f2a2b7",
   "metadata": {},
   "source": [
    "Variável dependente (também chamada de label):"
   ]
  },
  {
   "cell_type": "code",
   "execution_count": 42,
   "id": "9ac822d6-ece1-4b5e-b3a5-869333760f1d",
   "metadata": {},
   "outputs": [],
   "source": [
    "movies_labels = strat_train_set_copy['revenue'].copy()"
   ]
  },
  {
   "cell_type": "markdown",
   "id": "c5998acf-72fe-400a-b88d-2751e20690e3",
   "metadata": {},
   "source": [
    "## Construindo modelos preditivos"
   ]
  },
  {
   "cell_type": "markdown",
   "id": "57d0ff24",
   "metadata": {},
   "source": [
    "#### **REGRESSÃO LINEAR:**"
   ]
  },
  {
   "cell_type": "markdown",
   "id": "fdbe5f38-8ee4-4a27-8894-f4d9cd40156a",
   "metadata": {},
   "source": [
    "O modelo mais simples de regressão é a **regressão linear**, na qual deseja-se estimar um valor dependente como uma combinação linear dos valores independentes. Para esse fim, é necessário treinar um modelo no Scikit-Learn a partir da criação de um regressor, e da chamada do método ``fit()`` deste regressor para ajustar os parâmetros internos do modelo:"
   ]
  },
  {
   "cell_type": "code",
   "execution_count": 43,
   "id": "83f0b22d-1327-4465-a3af-793161e78a15",
   "metadata": {},
   "outputs": [
    {
     "data": {
      "text/plain": [
       "LinearRegression()"
      ]
     },
     "execution_count": 43,
     "metadata": {},
     "output_type": "execute_result"
    }
   ],
   "source": [
    "from sklearn.linear_model import LinearRegression\n",
    "\n",
    "lin_reg = LinearRegression()\n",
    "lin_reg.fit(movies, movies_labels)"
   ]
  },
  {
   "cell_type": "markdown",
   "id": "95aa7405-cf74-4b66-ab48-dac1eddce9f3",
   "metadata": {},
   "source": [
    "Para obter as previsões, basta chamar o método `predict()` e comparar com os valores originais para verificar o modelo:"
   ]
  },
  {
   "cell_type": "code",
   "execution_count": 44,
   "id": "26f445da-0d7d-4cee-8feb-f4f6a2065fb8",
   "metadata": {},
   "outputs": [
    {
     "name": "stdout",
     "output_type": "stream",
     "text": [
      "Predição: [9.53872773e+07 2.74444267e+07 8.29430962e+07 ... 3.60269966e+08\n",
      " 1.36545335e+08 5.42960036e+08]\n",
      "Original: [8.54985340e+07 1.20361490e+07 5.49561400e+07 ... 3.49424282e+08\n",
      " 1.11811453e+08 9.40335536e+08]\n"
     ]
    }
   ],
   "source": [
    "# previsões\n",
    "predicted_labels = lin_reg.predict(movies)\n",
    "print('Predição: {}'.format(predicted_labels.round(decimals=2)))\n",
    "\n",
    "# valores originais:\n",
    "print('Original: {}'.format(movies_labels.values.round(decimals=2)))"
   ]
  },
  {
   "cell_type": "markdown",
   "id": "3558086b-54c3-41e9-b324-519d1dd2b72b",
   "metadata": {},
   "source": [
    "Para verificar a eficácia do modelo, pode-se medir o erro de predição no conjunto de treinamento:"
   ]
  },
  {
   "cell_type": "code",
   "execution_count": 45,
   "id": "a3694f8e-f3cb-46cd-9daf-1927c5a96b0a",
   "metadata": {},
   "outputs": [
    {
     "name": "stdout",
     "output_type": "stream",
     "text": [
      "Regressão linear: RMSE = 106142296.00\n"
     ]
    }
   ],
   "source": [
    "from sklearn.metrics import mean_squared_error\n",
    "\n",
    "movies_predictions = lin_reg.predict(movies)\n",
    "lin_mse = mean_squared_error(movies_labels, movies_predictions)\n",
    "lin_rmse = np.sqrt(lin_mse)\n",
    "print('Regressão linear: RMSE = {:.2f}'.format(lin_rmse))"
   ]
  },
  {
   "cell_type": "code",
   "execution_count": 46,
   "id": "4fc017d8-2cd4-45fb-8aa6-8d33cb4d9e82",
   "metadata": {},
   "outputs": [],
   "source": [
    "residuo = movies_labels - movies_predictions"
   ]
  },
  {
   "cell_type": "code",
   "execution_count": 47,
   "id": "90ca9864-a173-43cb-b1ec-a876dcd8cc37",
   "metadata": {},
   "outputs": [
    {
     "data": {
      "image/png": "[encoded data removed]",
      "text/plain": [
       "<Figure size 432x288 with 1 Axes>"
      ]
     },
     "metadata": {
      "needs_background": "light"
     },
     "output_type": "display_data"
    }
   ],
   "source": [
    "plt.hist(residuo, bins=50);"
   ]
  },
  {
   "cell_type": "code",
   "execution_count": 48,
   "id": "55134177-85a2-4f64-8a3e-72c853b859d3",
   "metadata": {},
   "outputs": [
    {
     "data": {
      "text/plain": [
       "count    2.056000e+03\n",
       "mean    -6.493891e-09\n",
       "std      1.061681e+08\n",
       "min     -6.571870e+08\n",
       "25%     -4.988433e+07\n",
       "50%     -5.840190e+06\n",
       "75%      3.685587e+07\n",
       "max      1.371673e+09\n",
       "Name: revenue, dtype: float64"
      ]
     },
     "execution_count": 48,
     "metadata": {},
     "output_type": "execute_result"
    }
   ],
   "source": [
    "pd.Series(residuo).describe()"
   ]
  },
  {
   "cell_type": "markdown",
   "id": "9408fcbf",
   "metadata": {},
   "source": [
    "#### **ÁRVORE DE DECISÃO:**"
   ]
  },
  {
   "cell_type": "code",
   "execution_count": 49,
   "id": "b96c8963-d9b3-4c89-ad4e-ca9f77186299",
   "metadata": {},
   "outputs": [
    {
     "data": {
      "text/plain": [
       "DecisionTreeRegressor(random_state=42)"
      ]
     },
     "execution_count": 49,
     "metadata": {},
     "output_type": "execute_result"
    }
   ],
   "source": [
    "from sklearn.tree import DecisionTreeRegressor\n",
    "\n",
    "tree_reg = DecisionTreeRegressor(random_state=RANDOM_SEED)\n",
    "tree_reg.fit(movies, movies_labels)"
   ]
  },
  {
   "cell_type": "code",
   "execution_count": 50,
   "id": "71356d70-8cd5-4e1f-9678-c789298253ca",
   "metadata": {},
   "outputs": [
    {
     "name": "stdout",
     "output_type": "stream",
     "text": [
      "Predição: [8.54985340e+07 1.20361490e+07 5.49561400e+07 ... 3.49424282e+08\n",
      " 1.11811453e+08 9.40335536e+08]\n",
      "Original: [8.54985340e+07 1.20361490e+07 5.49561400e+07 ... 3.49424282e+08\n",
      " 1.11811453e+08 9.40335536e+08]\n"
     ]
    }
   ],
   "source": [
    "predicted_labels = tree_reg.predict(movies)\n",
    "print('Predição: {}'.format(predicted_labels))\n",
    "print('Original: {}'.format(movies_labels.values))"
   ]
  },
  {
   "cell_type": "code",
   "execution_count": 51,
   "id": "dfc8cff1-9dfd-46d5-825d-814ab1fb17b5",
   "metadata": {},
   "outputs": [
    {
     "name": "stdout",
     "output_type": "stream",
     "text": [
      "Árvore de decisão: RMSE = 0.00\n"
     ]
    }
   ],
   "source": [
    "movies_predictions = tree_reg.predict(movies)\n",
    "tree_mse = mean_squared_error(movies_labels, movies_predictions)\n",
    "tree_rmse = np.sqrt(tree_mse)\n",
    "print('Árvore de decisão: RMSE = {:.2f}'.format(tree_rmse))"
   ]
  },
  {
   "cell_type": "markdown",
   "id": "18fb49f1",
   "metadata": {},
   "source": [
    "#### Overfitting!"
   ]
  },
  {
   "cell_type": "markdown",
   "id": "c9398395",
   "metadata": {},
   "source": [
    "#### **RANDOM FOREST:**"
   ]
  },
  {
   "cell_type": "code",
   "execution_count": 52,
   "id": "94437a5d",
   "metadata": {},
   "outputs": [],
   "source": [
    "from sklearn.ensemble import RandomForestRegressor\n",
    "\n",
    "forest_reg = RandomForestRegressor(n_estimators=10, random_state=RANDOM_SEED)"
   ]
  },
  {
   "cell_type": "code",
   "execution_count": 53,
   "id": "6c3e459f",
   "metadata": {},
   "outputs": [
    {
     "name": "stdout",
     "output_type": "stream",
     "text": [
      "Regressão random forest: RMSE = 0.00\n"
     ]
    }
   ],
   "source": [
    "forest_reg.fit(movies, movies_labels)\n",
    "\n",
    "y_pred = forest_reg.predict(movies)\n",
    "forest_rmse = np.sqrt(mean_squared_error(movies_labels, movies_predictions))\n",
    "print('Regressão random forest: RMSE = {:.2f}'.format(forest_rmse))"
   ]
  },
  {
   "cell_type": "markdown",
   "id": "e66ac59b",
   "metadata": {},
   "source": [
    "#### Overfitting!"
   ]
  },
  {
   "cell_type": "markdown",
   "id": "5d647779-12e7-4274-963f-0958aa0c0d33",
   "metadata": {},
   "source": [
    "### Melhorando a avaliação usando validação cruzada"
   ]
  },
  {
   "cell_type": "markdown",
   "id": "9e63d59c",
   "metadata": {},
   "source": [
    "Para escolher um bom modelo, é necessário tentar estimar o erro de teste do modelo. Nesse sentido, deseja-se treinar o modelo em um certo conjunto de dados, e testá-lo em outro conjunto de dados. Para tal, divide-se o conjunto de treinamento em dois novamente! Usa-se um pedaço para treinar modelos, e outro para testar desempenho.\n",
    "\n",
    "Isso é necessário pois os verdadeiros dados de teste do modelo não devem ser tocados até que toda a análise esteja pronta.\n",
    "\n",
    "Por simplicidade a equipe usa a divisão não-estratificada:"
   ]
  },
  {
   "cell_type": "code",
   "execution_count": 54,
   "id": "6319bc2b-26ea-4f00-b791-c4cccfd93315",
   "metadata": {},
   "outputs": [],
   "source": [
    "from sklearn.model_selection import train_test_split\n",
    "\n",
    "X_train, X_test, y_train, y_test = train_test_split(\n",
    "    movies,\n",
    "    movies_labels,\n",
    "    test_size=0.2,\n",
    "    random_state=RANDOM_SEED,\n",
    ")"
   ]
  },
  {
   "cell_type": "markdown",
   "id": "fd68a733-7bc3-4d0c-966c-b4d5de3a309d",
   "metadata": {},
   "source": [
    "#### **REGRESSÃO LINEAR:**"
   ]
  },
  {
   "cell_type": "code",
   "execution_count": 55,
   "id": "f5366a91-0884-43e2-be63-746134ccb31d",
   "metadata": {},
   "outputs": [
    {
     "name": "stdout",
     "output_type": "stream",
     "text": [
      "Regressão linear: RMSE = 98480081.81\n"
     ]
    }
   ],
   "source": [
    "lin_reg.fit(X_train, y_train)\n",
    "\n",
    "y_pred_rl = lin_reg.predict(X_test)\n",
    "lin_rmse = np.sqrt(mean_squared_error(y_test, y_pred_rl))\n",
    "print('Regressão linear: RMSE = {:.2f}'.format(lin_rmse))"
   ]
  },
  {
   "cell_type": "markdown",
   "id": "0568ae75-bfce-4a67-8529-7bc95e031b1d",
   "metadata": {},
   "source": [
    "#### **ÁRVORE DE DECISÃO:**"
   ]
  },
  {
   "cell_type": "code",
   "execution_count": 56,
   "id": "472a18a3-9588-442a-956f-2cd8b7f514c8",
   "metadata": {},
   "outputs": [
    {
     "name": "stdout",
     "output_type": "stream",
     "text": [
      "Árvore de decisão: RMSE = 140990853.37\n"
     ]
    }
   ],
   "source": [
    "tree_reg.fit(X_train, y_train)\n",
    "\n",
    "y_pred_tr = tree_reg.predict(X_test)\n",
    "tree_rmse = np.sqrt(mean_squared_error(y_test, y_pred_tr))\n",
    "print('Árvore de decisão: RMSE = {:.2f}'.format(tree_rmse))"
   ]
  },
  {
   "cell_type": "markdown",
   "id": "6ff5f906-3312-4fec-92cf-3d7e8eb6ee35",
   "metadata": {},
   "source": [
    "#### **RANDOM FOREST:**"
   ]
  },
  {
   "cell_type": "code",
   "execution_count": 57,
   "id": "f5dc7dd4-cb58-4266-b750-842c4f79dd3c",
   "metadata": {},
   "outputs": [
    {
     "name": "stdout",
     "output_type": "stream",
     "text": [
      "Random Forest: RMSE = 94076210.31\n"
     ]
    }
   ],
   "source": [
    "forest_reg.fit(X_train, y_train)\n",
    "\n",
    "y_pred_rf = forest_reg.predict(X_test)\n",
    "forest_rmse = np.sqrt(mean_squared_error(y_test, y_pred_rf))\n",
    "print('Random Forest: RMSE = {:.2f}'.format(forest_rmse))"
   ]
  },
  {
   "cell_type": "markdown",
   "id": "45ae5145-76d9-4fd6-8f3a-09b810564980",
   "metadata": {},
   "source": [
    "Parece que o random forest é melhor que os outros modelos, mas talvez todos esses resultados sejam pura sorte. Para verificar pode-se repetir esses experimentos com partições diferentes e ver se o resultado se mantém. O scikit-learn já tem ferramentas para ajudar nessa tarefa:"
   ]
  },
  {
   "cell_type": "markdown",
   "id": "2c037965-c807-455f-bea7-238bae2888a7",
   "metadata": {},
   "source": [
    "#### **REGRESSÃO LINEAR:**"
   ]
  },
  {
   "cell_type": "code",
   "execution_count": 58,
   "id": "5cf415cf-fd8f-4a96-bc56-8377b93f0fd1",
   "metadata": {},
   "outputs": [
    {
     "name": "stdout",
     "output_type": "stream",
     "text": [
      "Scores: [8.49639829e+07 9.06035781e+07 1.04598671e+08 1.11619564e+08\n",
      " 1.04047203e+08 1.42279284e+08 1.69364452e+08 1.04974807e+08\n",
      " 1.16389107e+08 1.07535943e+08]\n",
      "Mean: 113637659.19737414\n",
      "Standard deviation: 23613906.90569162\n"
     ]
    }
   ],
   "source": [
    "from sklearn.model_selection import cross_val_score\n",
    "\n",
    "lin_scores = cross_val_score(\n",
    "    lin_reg,  # modelo\n",
    "    movies,  # X_train\n",
    "    movies_labels,  # y_train\n",
    "    scoring='neg_mean_squared_error',  # metrica de interesse\n",
    "    cv=10,  # Quantas partições eu quero\n",
    "    n_jobs=-1,  # Use todos os cores da maquina!\n",
    ")\n",
    "lin_rmse_scores = np.sqrt(-lin_scores)\n",
    "\n",
    "\n",
    "def display_scores(scores):\n",
    "    print('Scores:', scores.round(decimals=2))\n",
    "    print('Mean:', scores.mean())\n",
    "    print('Standard deviation:', scores.std())\n",
    "\n",
    "\n",
    "display_scores(lin_rmse_scores)"
   ]
  },
  {
   "cell_type": "markdown",
   "id": "a8910ce1-6582-48af-8ffa-21fdc1f4f6fd",
   "metadata": {},
   "source": [
    "#### **ÁRVORE DE DECISÃO:**"
   ]
  },
  {
   "cell_type": "code",
   "execution_count": 59,
   "id": "9b1f9d64-5a85-4f35-9042-fb4ddc87ea7a",
   "metadata": {},
   "outputs": [
    {
     "name": "stdout",
     "output_type": "stream",
     "text": [
      "Scores: [1.17023278e+08 1.38938905e+08 1.23931375e+08 1.35269452e+08\n",
      " 1.55847165e+08 1.77671275e+08 1.82684778e+08 1.47150721e+08\n",
      " 1.38256244e+08 1.43054698e+08]\n",
      "Mean: 145982789.1162714\n",
      "Standard deviation: 20018614.889678933\n"
     ]
    }
   ],
   "source": [
    "tree_scores = cross_val_score(\n",
    "    tree_reg,\n",
    "    movies,\n",
    "    movies_labels,\n",
    "    scoring='neg_mean_squared_error',\n",
    "    cv=10,\n",
    "    n_jobs=-1,\n",
    ")\n",
    "tree_rmse_scores = np.sqrt(-tree_scores)\n",
    "display_scores(tree_rmse_scores)"
   ]
  },
  {
   "cell_type": "markdown",
   "id": "ae9b79eb-1a7c-4309-8705-9694afb69a0a",
   "metadata": {},
   "source": [
    "#### **RANDOM FOREST:**"
   ]
  },
  {
   "cell_type": "code",
   "execution_count": 60,
   "id": "341f4346-1af5-450f-ab1c-c77e7402525d",
   "metadata": {},
   "outputs": [
    {
     "name": "stdout",
     "output_type": "stream",
     "text": [
      "Scores: [7.81470609e+07 9.32827124e+07 1.08074939e+08 1.11815940e+08\n",
      " 9.65085425e+07 1.36917946e+08 1.69845137e+08 1.14777292e+08\n",
      " 1.14732707e+08 1.09058791e+08]\n",
      "Mean: 113316106.74705145\n",
      "Standard deviation: 23927511.056415055\n"
     ]
    }
   ],
   "source": [
    "forest_scores = cross_val_score(\n",
    "    forest_reg,\n",
    "    movies,\n",
    "    movies_labels,\n",
    "    scoring='neg_mean_squared_error',\n",
    "    cv=10,\n",
    "    n_jobs=-1,\n",
    ")\n",
    "forest_rmse_scores = np.sqrt(-forest_scores)\n",
    "display_scores(forest_rmse_scores)"
   ]
  },
  {
   "cell_type": "markdown",
   "id": "713aab51-a557-4427-b401-f8b40d051668",
   "metadata": {},
   "source": [
    "Comparando os três modelos:"
   ]
  },
  {
   "cell_type": "code",
   "execution_count": 61,
   "id": "7bf697d7-1692-48ec-a55e-2e494f8a3e37",
   "metadata": {},
   "outputs": [
    {
     "data": {
      "text/plain": [
       "Text(0.5, 1.0, 'RMSE / Regressor')"
      ]
     },
     "execution_count": 61,
     "metadata": {},
     "output_type": "execute_result"
    },
    {
     "data": {
      "image/png": "[encoded data removed]",
      "text/plain": [
       "<Figure size 432x288 with 1 Axes>"
      ]
     },
     "metadata": {
      "needs_background": "light"
     },
     "output_type": "display_data"
    }
   ],
   "source": [
    "pd.DataFrame({\n",
    "    'Linear': lin_rmse_scores,\n",
    "    'Decision Tree': tree_rmse_scores,\n",
    "    'Random Forest': forest_rmse_scores,\n",
    "}).plot.box();\n",
    "plt.ylabel(r'RMSE $[\\mathtt{USD}]$')\n",
    "plt.title(\"RMSE / Regressor\")"
   ]
  },
  {
   "cell_type": "markdown",
   "id": "611bcf8f-23c1-4c94-a29f-446a56714186",
   "metadata": {},
   "source": [
    "Agora sim pode-se perceber que o regressor **linear** é melhor que os outros uma vez que apresenta um menor RMSE e menor desvio padrão."
   ]
  },
  {
   "cell_type": "code",
   "execution_count": 62,
   "id": "77621f30-cabb-4ab7-add6-92e776f67aeb",
   "metadata": {},
   "outputs": [
    {
     "name": "stdout",
     "output_type": "stream",
     "text": [
      "Tempo gasto: 0.51 s\n"
     ]
    }
   ],
   "source": [
    "import time\n",
    "\n",
    "from sklearn.model_selection import GridSearchCV\n",
    "\n",
    "parameters = {'fit_intercept':[True,False], 'normalize':[True,False], 'copy_X':[True, False]}\n",
    "\n",
    "lin_reg = LinearRegression()\n",
    "\n",
    "grid_search = GridSearchCV(\n",
    "    lin_reg,  # Modelo\n",
    "    parameters,  # Grid\n",
    "    cv=5,  # Partições de C.V.\n",
    "    scoring='neg_mean_squared_error',\n",
    "    return_train_score=True,\n",
    "    n_jobs=-1,\n",
    ")\n",
    "\n",
    "t1 = time.perf_counter()\n",
    "grid_search.fit(movies, movies_labels)\n",
    "t2 = time.perf_counter()\n",
    "\n",
    "print(f'Tempo gasto: {t2 - t1:.2f} s')"
   ]
  },
  {
   "cell_type": "code",
   "execution_count": 63,
   "id": "deda9d57-43f5-40f5-914b-2a13a2355784",
   "metadata": {},
   "outputs": [
    {
     "data": {
      "text/plain": [
       "{'copy_X': True, 'fit_intercept': True, 'normalize': False}"
      ]
     },
     "execution_count": 63,
     "metadata": {},
     "output_type": "execute_result"
    }
   ],
   "source": [
    "grid_search.best_params_"
   ]
  },
  {
   "cell_type": "code",
   "execution_count": 64,
   "id": "28dbdd9c-93ec-463e-ad8e-77857e50312b",
   "metadata": {},
   "outputs": [
    {
     "data": {
      "text/plain": [
       "LinearRegression()"
      ]
     },
     "execution_count": 64,
     "metadata": {},
     "output_type": "execute_result"
    }
   ],
   "source": [
    "grid_search.best_estimator_"
   ]
  },
  {
   "cell_type": "code",
   "execution_count": 65,
   "id": "c5e715aa-f936-4636-b95b-dcc20bcfc629",
   "metadata": {},
   "outputs": [
    {
     "name": "stdout",
     "output_type": "stream",
     "text": [
      "2.248463054855147e+35 {'copy_X': True, 'fit_intercept': True, 'normalize': True}\n",
      "116395917.74480507 {'copy_X': True, 'fit_intercept': True, 'normalize': False}\n",
      "116411529.80969892 {'copy_X': True, 'fit_intercept': False, 'normalize': True}\n",
      "116411529.80969892 {'copy_X': True, 'fit_intercept': False, 'normalize': False}\n",
      "2.248463054855147e+35 {'copy_X': False, 'fit_intercept': True, 'normalize': True}\n",
      "116395917.74480507 {'copy_X': False, 'fit_intercept': True, 'normalize': False}\n",
      "116411529.80969892 {'copy_X': False, 'fit_intercept': False, 'normalize': True}\n",
      "116411529.80969892 {'copy_X': False, 'fit_intercept': False, 'normalize': False}\n"
     ]
    }
   ],
   "source": [
    "cvres = grid_search.cv_results_\n",
    "for mean_score, params in zip(cvres['mean_test_score'], cvres['params']):\n",
    "    print(np.sqrt(-mean_score), params)"
   ]
  },
  {
   "cell_type": "markdown",
   "id": "e7799c9d-ffe4-4b6b-bf33-b2086711745a",
   "metadata": {},
   "source": [
    "Medir o desempenho final:"
   ]
  },
  {
   "cell_type": "code",
   "execution_count": 66,
   "id": "3fdb9d38-b2e9-4e20-ad1f-520108b60723",
   "metadata": {},
   "outputs": [
    {
     "name": "stdout",
     "output_type": "stream",
     "text": [
      "RMSE = 99543801.14814495\n"
     ]
    }
   ],
   "source": [
    "final_model = grid_search.best_estimator_\n",
    "\n",
    "X_test = strat_test_set.drop('revenue', axis=1)\n",
    "y_test = strat_test_set['revenue'].copy()\n",
    "\n",
    "final_model.fit(X_test, y_test)\n",
    "\n",
    "final_predictions = final_model.predict(X_test)\n",
    "\n",
    "final_mse = mean_squared_error(y_test, final_predictions)\n",
    "final_rmse = np.sqrt(final_mse)\n",
    "\n",
    "print(f'RMSE = {final_rmse}')"
   ]
  },
  {
   "cell_type": "markdown",
   "id": "204a013a-7a82-4182-b506-05c370e50f02",
   "metadata": {},
   "source": [
    "# Conclusão"
   ]
  },
  {
   "cell_type": "markdown",
   "id": "1863d005-a801-4ba9-9415-1520aadf9a66",
   "metadata": {},
   "source": [
    "A partir de toda a análise exploratória e construção de diferentes modelos preditivos foi possível identificar o **regressor linear** como o melhor para solucionar esse problema uma vez que apresenta o menor valor de RMSE e menor desvio padrão.\n",
    "\n",
    "No entanto, é necessário uma análise bem mais rebuscada para que a precisão de inferência seja boa o suficiente para se colocar em prática.\n",
    "\n",
    "Porém, pelo escopo desse projeto, foi possível desenvolver um modelo de *Machine Learning* capaz de prever a receita de um filme considerando suas outras características."
   ]
  }
 ],
 "metadata": {
  "kernelspec": {
   "display_name": "Python 3 (ipykernel)",
   "language": "python",
   "name": "python3"
  },
  "language_info": {
   "codemirror_mode": {
    "name": "ipython",
    "version": 3
   },
   "file_extension": ".py",
   "mimetype": "text/x-python",
   "name": "python",
   "nbconvert_exporter": "python",
   "pygments_lexer": "ipython3",
   "version": "3.9.7"
  }
 },
 "nbformat": 4,
 "nbformat_minor": 5
}
