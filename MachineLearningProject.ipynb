{
 "cells": [
  {
   "cell_type": "markdown",
   "id": "6e094041",
   "metadata": {},
   "source": [
    "<center><h2>Projeto final de Machine Learning</h2></center>\n",
    "<center><h3>Previsão de receita de filmes</h3></center>\n",
    "<br />\n",
    "<center>Alunos: Gabriela Caruso, Guilherme Roccato e Pedro Paulo Telho</center>\n",
    "\n"
   ]
  },
  {
   "cell_type": "markdown",
   "id": "85366442",
   "metadata": {},
   "source": [
    "# Introdução"
   ]
  },
  {
   "cell_type": "markdown",
   "id": "c631203f",
   "metadata": {},
   "source": [
    "<p style=\"text-align: justify\" align=\"justify\">A indústria cinematográfica é reconhecida por suas diversas obras primas. Prêmios como Oscar, Globo de Ouro e Emmy são apenas alguns dos que recompensam os seus atores, diretores, produtores etc. Além disso, muito dinheiro é movimentado tanto em forma de investimento para a produção dos filmes como em forma de receita após o lançamento.</p>\n",
    "\n",
    "<p style=\"text-align: justify\" align=\"justify\">Nesse contexto, o objetivo do projeto é prever quanto de receita um filme pode gerar para que não se tenha prejuízo durante suas produções.</p>\n",
    "<p style=\"text-align: justify\" align=\"justify\">Para isso, será criado um modelo de regressão através da base de dados: <a href=\"https://www.kaggle.com/tmdb/tmdb-movie-metadata/version/2?select=tmdb_5000_movies.csv\" >TMDb 5000 movies dataset</a></p>"
   ]
  },
  {
   "cell_type": "markdown",
   "id": "4c998915",
   "metadata": {},
   "source": [
    "# Metodologia"
   ]
  },
  {
   "cell_type": "markdown",
   "id": "9c4d560b",
   "metadata": {},
   "source": [
    "<p style=\"text-align: justify\" align=\"justify\">Nessa seção será apresentada a forma em que o modelo foi construído: bibliotecas necessárias, exploração dos dados e técnicas de inferência para definição do melhor modelo de machine learning para o problema.</p>"
   ]
  },
  {
   "cell_type": "markdown",
   "id": "3b5a1580",
   "metadata": {},
   "source": [
    "### Importando bibliotecas necessárias"
   ]
  },
  {
   "cell_type": "code",
   "execution_count": 1,
   "id": "a22e3ec0",
   "metadata": {},
   "outputs": [],
   "source": [
    "%matplotlib inline\n",
    "import matplotlib.pyplot as plt\n",
    "import numpy as np\n",
    "import pandas as pd"
   ]
  },
  {
   "cell_type": "code",
   "execution_count": 2,
   "id": "f65e8210",
   "metadata": {},
   "outputs": [],
   "source": [
    "RANDOM_SEED = 42\n",
    "np.random.seed(RANDOM_SEED)"
   ]
  },
  {
   "cell_type": "markdown",
   "id": "ec5d95e8",
   "metadata": {},
   "source": [
    "### Carregando os dados"
   ]
  },
  {
   "cell_type": "code",
   "execution_count": 3,
   "id": "ed948aad",
   "metadata": {},
   "outputs": [],
   "source": [
    "movies = pd.read_csv(\"tmdb_5000_movies.csv\")\n",
    "credits = pd.read_csv(\"tmdb_5000_credits.csv\")"
   ]
  },
  {
   "cell_type": "code",
   "execution_count": 4,
   "id": "23d5b9a1",
   "metadata": {},
   "outputs": [
    {
     "data": {
      "text/html": [
       "<div>\n",
       "<style scoped>\n",
       "    .dataframe tbody tr th:only-of-type {\n",
       "        vertical-align: middle;\n",
       "    }\n",
       "\n",
       "    .dataframe tbody tr th {\n",
       "        vertical-align: top;\n",
       "    }\n",
       "\n",
       "    .dataframe thead th {\n",
       "        text-align: right;\n",
       "    }\n",
       "</style>\n",
       "<table border=\"1\" class=\"dataframe\">\n",
       "  <thead>\n",
       "    <tr style=\"text-align: right;\">\n",
       "      <th></th>\n",
       "      <th>budget</th>\n",
       "      <th>genres</th>\n",
       "      <th>homepage</th>\n",
       "      <th>id</th>\n",
       "      <th>keywords</th>\n",
       "      <th>original_language</th>\n",
       "      <th>original_title</th>\n",
       "      <th>overview</th>\n",
       "      <th>popularity</th>\n",
       "      <th>production_companies</th>\n",
       "      <th>production_countries</th>\n",
       "      <th>release_date</th>\n",
       "      <th>revenue</th>\n",
       "      <th>runtime</th>\n",
       "      <th>spoken_languages</th>\n",
       "      <th>status</th>\n",
       "      <th>tagline</th>\n",
       "      <th>title</th>\n",
       "      <th>vote_average</th>\n",
       "      <th>vote_count</th>\n",
       "    </tr>\n",
       "  </thead>\n",
       "  <tbody>\n",
       "    <tr>\n",
       "      <th>0</th>\n",
       "      <td>237000000</td>\n",
       "      <td>[{\"id\": 28, \"name\": \"Action\"}, {\"id\": 12, \"nam...</td>\n",
       "      <td>http://www.avatarmovie.com/</td>\n",
       "      <td>19995</td>\n",
       "      <td>[{\"id\": 1463, \"name\": \"culture clash\"}, {\"id\":...</td>\n",
       "      <td>en</td>\n",
       "      <td>Avatar</td>\n",
       "      <td>In the 22nd century, a paraplegic Marine is di...</td>\n",
       "      <td>150.437577</td>\n",
       "      <td>[{\"name\": \"Ingenious Film Partners\", \"id\": 289...</td>\n",
       "      <td>[{\"iso_3166_1\": \"US\", \"name\": \"United States o...</td>\n",
       "      <td>2009-12-10</td>\n",
       "      <td>2787965087</td>\n",
       "      <td>162.0</td>\n",
       "      <td>[{\"iso_639_1\": \"en\", \"name\": \"English\"}, {\"iso...</td>\n",
       "      <td>Released</td>\n",
       "      <td>Enter the World of Pandora.</td>\n",
       "      <td>Avatar</td>\n",
       "      <td>7.2</td>\n",
       "      <td>11800</td>\n",
       "    </tr>\n",
       "    <tr>\n",
       "      <th>1</th>\n",
       "      <td>300000000</td>\n",
       "      <td>[{\"id\": 12, \"name\": \"Adventure\"}, {\"id\": 14, \"...</td>\n",
       "      <td>http://disney.go.com/disneypictures/pirates/</td>\n",
       "      <td>285</td>\n",
       "      <td>[{\"id\": 270, \"name\": \"ocean\"}, {\"id\": 726, \"na...</td>\n",
       "      <td>en</td>\n",
       "      <td>Pirates of the Caribbean: At World's End</td>\n",
       "      <td>Captain Barbossa, long believed to be dead, ha...</td>\n",
       "      <td>139.082615</td>\n",
       "      <td>[{\"name\": \"Walt Disney Pictures\", \"id\": 2}, {\"...</td>\n",
       "      <td>[{\"iso_3166_1\": \"US\", \"name\": \"United States o...</td>\n",
       "      <td>2007-05-19</td>\n",
       "      <td>961000000</td>\n",
       "      <td>169.0</td>\n",
       "      <td>[{\"iso_639_1\": \"en\", \"name\": \"English\"}]</td>\n",
       "      <td>Released</td>\n",
       "      <td>At the end of the world, the adventure begins.</td>\n",
       "      <td>Pirates of the Caribbean: At World's End</td>\n",
       "      <td>6.9</td>\n",
       "      <td>4500</td>\n",
       "    </tr>\n",
       "    <tr>\n",
       "      <th>2</th>\n",
       "      <td>245000000</td>\n",
       "      <td>[{\"id\": 28, \"name\": \"Action\"}, {\"id\": 12, \"nam...</td>\n",
       "      <td>http://www.sonypictures.com/movies/spectre/</td>\n",
       "      <td>206647</td>\n",
       "      <td>[{\"id\": 470, \"name\": \"spy\"}, {\"id\": 818, \"name...</td>\n",
       "      <td>en</td>\n",
       "      <td>Spectre</td>\n",
       "      <td>A cryptic message from Bond’s past sends him o...</td>\n",
       "      <td>107.376788</td>\n",
       "      <td>[{\"name\": \"Columbia Pictures\", \"id\": 5}, {\"nam...</td>\n",
       "      <td>[{\"iso_3166_1\": \"GB\", \"name\": \"United Kingdom\"...</td>\n",
       "      <td>2015-10-26</td>\n",
       "      <td>880674609</td>\n",
       "      <td>148.0</td>\n",
       "      <td>[{\"iso_639_1\": \"fr\", \"name\": \"Fran\\u00e7ais\"},...</td>\n",
       "      <td>Released</td>\n",
       "      <td>A Plan No One Escapes</td>\n",
       "      <td>Spectre</td>\n",
       "      <td>6.3</td>\n",
       "      <td>4466</td>\n",
       "    </tr>\n",
       "    <tr>\n",
       "      <th>3</th>\n",
       "      <td>250000000</td>\n",
       "      <td>[{\"id\": 28, \"name\": \"Action\"}, {\"id\": 80, \"nam...</td>\n",
       "      <td>http://www.thedarkknightrises.com/</td>\n",
       "      <td>49026</td>\n",
       "      <td>[{\"id\": 849, \"name\": \"dc comics\"}, {\"id\": 853,...</td>\n",
       "      <td>en</td>\n",
       "      <td>The Dark Knight Rises</td>\n",
       "      <td>Following the death of District Attorney Harve...</td>\n",
       "      <td>112.312950</td>\n",
       "      <td>[{\"name\": \"Legendary Pictures\", \"id\": 923}, {\"...</td>\n",
       "      <td>[{\"iso_3166_1\": \"US\", \"name\": \"United States o...</td>\n",
       "      <td>2012-07-16</td>\n",
       "      <td>1084939099</td>\n",
       "      <td>165.0</td>\n",
       "      <td>[{\"iso_639_1\": \"en\", \"name\": \"English\"}]</td>\n",
       "      <td>Released</td>\n",
       "      <td>The Legend Ends</td>\n",
       "      <td>The Dark Knight Rises</td>\n",
       "      <td>7.6</td>\n",
       "      <td>9106</td>\n",
       "    </tr>\n",
       "    <tr>\n",
       "      <th>4</th>\n",
       "      <td>260000000</td>\n",
       "      <td>[{\"id\": 28, \"name\": \"Action\"}, {\"id\": 12, \"nam...</td>\n",
       "      <td>http://movies.disney.com/john-carter</td>\n",
       "      <td>49529</td>\n",
       "      <td>[{\"id\": 818, \"name\": \"based on novel\"}, {\"id\":...</td>\n",
       "      <td>en</td>\n",
       "      <td>John Carter</td>\n",
       "      <td>John Carter is a war-weary, former military ca...</td>\n",
       "      <td>43.926995</td>\n",
       "      <td>[{\"name\": \"Walt Disney Pictures\", \"id\": 2}]</td>\n",
       "      <td>[{\"iso_3166_1\": \"US\", \"name\": \"United States o...</td>\n",
       "      <td>2012-03-07</td>\n",
       "      <td>284139100</td>\n",
       "      <td>132.0</td>\n",
       "      <td>[{\"iso_639_1\": \"en\", \"name\": \"English\"}]</td>\n",
       "      <td>Released</td>\n",
       "      <td>Lost in our world, found in another.</td>\n",
       "      <td>John Carter</td>\n",
       "      <td>6.1</td>\n",
       "      <td>2124</td>\n",
       "    </tr>\n",
       "  </tbody>\n",
       "</table>\n",
       "</div>"
      ],
      "text/plain": [
       "      budget                                             genres  \\\n",
       "0  237000000  [{\"id\": 28, \"name\": \"Action\"}, {\"id\": 12, \"nam...   \n",
       "1  300000000  [{\"id\": 12, \"name\": \"Adventure\"}, {\"id\": 14, \"...   \n",
       "2  245000000  [{\"id\": 28, \"name\": \"Action\"}, {\"id\": 12, \"nam...   \n",
       "3  250000000  [{\"id\": 28, \"name\": \"Action\"}, {\"id\": 80, \"nam...   \n",
       "4  260000000  [{\"id\": 28, \"name\": \"Action\"}, {\"id\": 12, \"nam...   \n",
       "\n",
       "                                       homepage      id  \\\n",
       "0                   http://www.avatarmovie.com/   19995   \n",
       "1  http://disney.go.com/disneypictures/pirates/     285   \n",
       "2   http://www.sonypictures.com/movies/spectre/  206647   \n",
       "3            http://www.thedarkknightrises.com/   49026   \n",
       "4          http://movies.disney.com/john-carter   49529   \n",
       "\n",
       "                                            keywords original_language  \\\n",
       "0  [{\"id\": 1463, \"name\": \"culture clash\"}, {\"id\":...                en   \n",
       "1  [{\"id\": 270, \"name\": \"ocean\"}, {\"id\": 726, \"na...                en   \n",
       "2  [{\"id\": 470, \"name\": \"spy\"}, {\"id\": 818, \"name...                en   \n",
       "3  [{\"id\": 849, \"name\": \"dc comics\"}, {\"id\": 853,...                en   \n",
       "4  [{\"id\": 818, \"name\": \"based on novel\"}, {\"id\":...                en   \n",
       "\n",
       "                             original_title  \\\n",
       "0                                    Avatar   \n",
       "1  Pirates of the Caribbean: At World's End   \n",
       "2                                   Spectre   \n",
       "3                     The Dark Knight Rises   \n",
       "4                               John Carter   \n",
       "\n",
       "                                            overview  popularity  \\\n",
       "0  In the 22nd century, a paraplegic Marine is di...  150.437577   \n",
       "1  Captain Barbossa, long believed to be dead, ha...  139.082615   \n",
       "2  A cryptic message from Bond’s past sends him o...  107.376788   \n",
       "3  Following the death of District Attorney Harve...  112.312950   \n",
       "4  John Carter is a war-weary, former military ca...   43.926995   \n",
       "\n",
       "                                production_companies  \\\n",
       "0  [{\"name\": \"Ingenious Film Partners\", \"id\": 289...   \n",
       "1  [{\"name\": \"Walt Disney Pictures\", \"id\": 2}, {\"...   \n",
       "2  [{\"name\": \"Columbia Pictures\", \"id\": 5}, {\"nam...   \n",
       "3  [{\"name\": \"Legendary Pictures\", \"id\": 923}, {\"...   \n",
       "4        [{\"name\": \"Walt Disney Pictures\", \"id\": 2}]   \n",
       "\n",
       "                                production_countries release_date     revenue  \\\n",
       "0  [{\"iso_3166_1\": \"US\", \"name\": \"United States o...   2009-12-10  2787965087   \n",
       "1  [{\"iso_3166_1\": \"US\", \"name\": \"United States o...   2007-05-19   961000000   \n",
       "2  [{\"iso_3166_1\": \"GB\", \"name\": \"United Kingdom\"...   2015-10-26   880674609   \n",
       "3  [{\"iso_3166_1\": \"US\", \"name\": \"United States o...   2012-07-16  1084939099   \n",
       "4  [{\"iso_3166_1\": \"US\", \"name\": \"United States o...   2012-03-07   284139100   \n",
       "\n",
       "   runtime                                   spoken_languages    status  \\\n",
       "0    162.0  [{\"iso_639_1\": \"en\", \"name\": \"English\"}, {\"iso...  Released   \n",
       "1    169.0           [{\"iso_639_1\": \"en\", \"name\": \"English\"}]  Released   \n",
       "2    148.0  [{\"iso_639_1\": \"fr\", \"name\": \"Fran\\u00e7ais\"},...  Released   \n",
       "3    165.0           [{\"iso_639_1\": \"en\", \"name\": \"English\"}]  Released   \n",
       "4    132.0           [{\"iso_639_1\": \"en\", \"name\": \"English\"}]  Released   \n",
       "\n",
       "                                          tagline  \\\n",
       "0                     Enter the World of Pandora.   \n",
       "1  At the end of the world, the adventure begins.   \n",
       "2                           A Plan No One Escapes   \n",
       "3                                 The Legend Ends   \n",
       "4            Lost in our world, found in another.   \n",
       "\n",
       "                                      title  vote_average  vote_count  \n",
       "0                                    Avatar           7.2       11800  \n",
       "1  Pirates of the Caribbean: At World's End           6.9        4500  \n",
       "2                                   Spectre           6.3        4466  \n",
       "3                     The Dark Knight Rises           7.6        9106  \n",
       "4                               John Carter           6.1        2124  "
      ]
     },
     "execution_count": 4,
     "metadata": {},
     "output_type": "execute_result"
    }
   ],
   "source": [
    "movies.head()"
   ]
  },
  {
   "cell_type": "markdown",
   "id": "58544844",
   "metadata": {},
   "source": [
    "Mesclando créditos e filmes"
   ]
  },
  {
   "cell_type": "code",
   "execution_count": 5,
   "id": "d5a27890",
   "metadata": {},
   "outputs": [],
   "source": [
    "credits = credits[['movie_id', 'cast', 'crew']]\n",
    "credits = credits.rename(columns = {'movie_id': 'id'})\n",
    "movies = pd.merge(movies,credits,on='id',how='left')\n"
   ]
  },
  {
   "cell_type": "code",
   "execution_count": 6,
   "id": "d8b1df0b",
   "metadata": {},
   "outputs": [],
   "source": [
    "movies_copy = movies.copy()"
   ]
  },
  {
   "cell_type": "code",
   "execution_count": 7,
   "id": "79a4e845",
   "metadata": {},
   "outputs": [
    {
     "data": {
      "text/html": [
       "<div>\n",
       "<style scoped>\n",
       "    .dataframe tbody tr th:only-of-type {\n",
       "        vertical-align: middle;\n",
       "    }\n",
       "\n",
       "    .dataframe tbody tr th {\n",
       "        vertical-align: top;\n",
       "    }\n",
       "\n",
       "    .dataframe thead th {\n",
       "        text-align: right;\n",
       "    }\n",
       "</style>\n",
       "<table border=\"1\" class=\"dataframe\">\n",
       "  <thead>\n",
       "    <tr style=\"text-align: right;\">\n",
       "      <th></th>\n",
       "      <th>budget</th>\n",
       "      <th>genres</th>\n",
       "      <th>homepage</th>\n",
       "      <th>id</th>\n",
       "      <th>keywords</th>\n",
       "      <th>original_language</th>\n",
       "      <th>original_title</th>\n",
       "      <th>overview</th>\n",
       "      <th>popularity</th>\n",
       "      <th>production_companies</th>\n",
       "      <th>...</th>\n",
       "      <th>revenue</th>\n",
       "      <th>runtime</th>\n",
       "      <th>spoken_languages</th>\n",
       "      <th>status</th>\n",
       "      <th>tagline</th>\n",
       "      <th>title</th>\n",
       "      <th>vote_average</th>\n",
       "      <th>vote_count</th>\n",
       "      <th>cast</th>\n",
       "      <th>crew</th>\n",
       "    </tr>\n",
       "  </thead>\n",
       "  <tbody>\n",
       "    <tr>\n",
       "      <th>0</th>\n",
       "      <td>237000000</td>\n",
       "      <td>[{\"id\": 28, \"name\": \"Action\"}, {\"id\": 12, \"nam...</td>\n",
       "      <td>http://www.avatarmovie.com/</td>\n",
       "      <td>19995</td>\n",
       "      <td>[{\"id\": 1463, \"name\": \"culture clash\"}, {\"id\":...</td>\n",
       "      <td>en</td>\n",
       "      <td>Avatar</td>\n",
       "      <td>In the 22nd century, a paraplegic Marine is di...</td>\n",
       "      <td>150.437577</td>\n",
       "      <td>[{\"name\": \"Ingenious Film Partners\", \"id\": 289...</td>\n",
       "      <td>...</td>\n",
       "      <td>2787965087</td>\n",
       "      <td>162.0</td>\n",
       "      <td>[{\"iso_639_1\": \"en\", \"name\": \"English\"}, {\"iso...</td>\n",
       "      <td>Released</td>\n",
       "      <td>Enter the World of Pandora.</td>\n",
       "      <td>Avatar</td>\n",
       "      <td>7.2</td>\n",
       "      <td>11800</td>\n",
       "      <td>[{\"cast_id\": 242, \"character\": \"Jake Sully\", \"...</td>\n",
       "      <td>[{\"credit_id\": \"52fe48009251416c750aca23\", \"de...</td>\n",
       "    </tr>\n",
       "    <tr>\n",
       "      <th>1</th>\n",
       "      <td>300000000</td>\n",
       "      <td>[{\"id\": 12, \"name\": \"Adventure\"}, {\"id\": 14, \"...</td>\n",
       "      <td>http://disney.go.com/disneypictures/pirates/</td>\n",
       "      <td>285</td>\n",
       "      <td>[{\"id\": 270, \"name\": \"ocean\"}, {\"id\": 726, \"na...</td>\n",
       "      <td>en</td>\n",
       "      <td>Pirates of the Caribbean: At World's End</td>\n",
       "      <td>Captain Barbossa, long believed to be dead, ha...</td>\n",
       "      <td>139.082615</td>\n",
       "      <td>[{\"name\": \"Walt Disney Pictures\", \"id\": 2}, {\"...</td>\n",
       "      <td>...</td>\n",
       "      <td>961000000</td>\n",
       "      <td>169.0</td>\n",
       "      <td>[{\"iso_639_1\": \"en\", \"name\": \"English\"}]</td>\n",
       "      <td>Released</td>\n",
       "      <td>At the end of the world, the adventure begins.</td>\n",
       "      <td>Pirates of the Caribbean: At World's End</td>\n",
       "      <td>6.9</td>\n",
       "      <td>4500</td>\n",
       "      <td>[{\"cast_id\": 4, \"character\": \"Captain Jack Spa...</td>\n",
       "      <td>[{\"credit_id\": \"52fe4232c3a36847f800b579\", \"de...</td>\n",
       "    </tr>\n",
       "    <tr>\n",
       "      <th>2</th>\n",
       "      <td>245000000</td>\n",
       "      <td>[{\"id\": 28, \"name\": \"Action\"}, {\"id\": 12, \"nam...</td>\n",
       "      <td>http://www.sonypictures.com/movies/spectre/</td>\n",
       "      <td>206647</td>\n",
       "      <td>[{\"id\": 470, \"name\": \"spy\"}, {\"id\": 818, \"name...</td>\n",
       "      <td>en</td>\n",
       "      <td>Spectre</td>\n",
       "      <td>A cryptic message from Bond’s past sends him o...</td>\n",
       "      <td>107.376788</td>\n",
       "      <td>[{\"name\": \"Columbia Pictures\", \"id\": 5}, {\"nam...</td>\n",
       "      <td>...</td>\n",
       "      <td>880674609</td>\n",
       "      <td>148.0</td>\n",
       "      <td>[{\"iso_639_1\": \"fr\", \"name\": \"Fran\\u00e7ais\"},...</td>\n",
       "      <td>Released</td>\n",
       "      <td>A Plan No One Escapes</td>\n",
       "      <td>Spectre</td>\n",
       "      <td>6.3</td>\n",
       "      <td>4466</td>\n",
       "      <td>[{\"cast_id\": 1, \"character\": \"James Bond\", \"cr...</td>\n",
       "      <td>[{\"credit_id\": \"54805967c3a36829b5002c41\", \"de...</td>\n",
       "    </tr>\n",
       "    <tr>\n",
       "      <th>3</th>\n",
       "      <td>250000000</td>\n",
       "      <td>[{\"id\": 28, \"name\": \"Action\"}, {\"id\": 80, \"nam...</td>\n",
       "      <td>http://www.thedarkknightrises.com/</td>\n",
       "      <td>49026</td>\n",
       "      <td>[{\"id\": 849, \"name\": \"dc comics\"}, {\"id\": 853,...</td>\n",
       "      <td>en</td>\n",
       "      <td>The Dark Knight Rises</td>\n",
       "      <td>Following the death of District Attorney Harve...</td>\n",
       "      <td>112.312950</td>\n",
       "      <td>[{\"name\": \"Legendary Pictures\", \"id\": 923}, {\"...</td>\n",
       "      <td>...</td>\n",
       "      <td>1084939099</td>\n",
       "      <td>165.0</td>\n",
       "      <td>[{\"iso_639_1\": \"en\", \"name\": \"English\"}]</td>\n",
       "      <td>Released</td>\n",
       "      <td>The Legend Ends</td>\n",
       "      <td>The Dark Knight Rises</td>\n",
       "      <td>7.6</td>\n",
       "      <td>9106</td>\n",
       "      <td>[{\"cast_id\": 2, \"character\": \"Bruce Wayne / Ba...</td>\n",
       "      <td>[{\"credit_id\": \"52fe4781c3a36847f81398c3\", \"de...</td>\n",
       "    </tr>\n",
       "    <tr>\n",
       "      <th>4</th>\n",
       "      <td>260000000</td>\n",
       "      <td>[{\"id\": 28, \"name\": \"Action\"}, {\"id\": 12, \"nam...</td>\n",
       "      <td>http://movies.disney.com/john-carter</td>\n",
       "      <td>49529</td>\n",
       "      <td>[{\"id\": 818, \"name\": \"based on novel\"}, {\"id\":...</td>\n",
       "      <td>en</td>\n",
       "      <td>John Carter</td>\n",
       "      <td>John Carter is a war-weary, former military ca...</td>\n",
       "      <td>43.926995</td>\n",
       "      <td>[{\"name\": \"Walt Disney Pictures\", \"id\": 2}]</td>\n",
       "      <td>...</td>\n",
       "      <td>284139100</td>\n",
       "      <td>132.0</td>\n",
       "      <td>[{\"iso_639_1\": \"en\", \"name\": \"English\"}]</td>\n",
       "      <td>Released</td>\n",
       "      <td>Lost in our world, found in another.</td>\n",
       "      <td>John Carter</td>\n",
       "      <td>6.1</td>\n",
       "      <td>2124</td>\n",
       "      <td>[{\"cast_id\": 5, \"character\": \"John Carter\", \"c...</td>\n",
       "      <td>[{\"credit_id\": \"52fe479ac3a36847f813eaa3\", \"de...</td>\n",
       "    </tr>\n",
       "  </tbody>\n",
       "</table>\n",
       "<p>5 rows × 22 columns</p>\n",
       "</div>"
      ],
      "text/plain": [
       "      budget                                             genres  \\\n",
       "0  237000000  [{\"id\": 28, \"name\": \"Action\"}, {\"id\": 12, \"nam...   \n",
       "1  300000000  [{\"id\": 12, \"name\": \"Adventure\"}, {\"id\": 14, \"...   \n",
       "2  245000000  [{\"id\": 28, \"name\": \"Action\"}, {\"id\": 12, \"nam...   \n",
       "3  250000000  [{\"id\": 28, \"name\": \"Action\"}, {\"id\": 80, \"nam...   \n",
       "4  260000000  [{\"id\": 28, \"name\": \"Action\"}, {\"id\": 12, \"nam...   \n",
       "\n",
       "                                       homepage      id  \\\n",
       "0                   http://www.avatarmovie.com/   19995   \n",
       "1  http://disney.go.com/disneypictures/pirates/     285   \n",
       "2   http://www.sonypictures.com/movies/spectre/  206647   \n",
       "3            http://www.thedarkknightrises.com/   49026   \n",
       "4          http://movies.disney.com/john-carter   49529   \n",
       "\n",
       "                                            keywords original_language  \\\n",
       "0  [{\"id\": 1463, \"name\": \"culture clash\"}, {\"id\":...                en   \n",
       "1  [{\"id\": 270, \"name\": \"ocean\"}, {\"id\": 726, \"na...                en   \n",
       "2  [{\"id\": 470, \"name\": \"spy\"}, {\"id\": 818, \"name...                en   \n",
       "3  [{\"id\": 849, \"name\": \"dc comics\"}, {\"id\": 853,...                en   \n",
       "4  [{\"id\": 818, \"name\": \"based on novel\"}, {\"id\":...                en   \n",
       "\n",
       "                             original_title  \\\n",
       "0                                    Avatar   \n",
       "1  Pirates of the Caribbean: At World's End   \n",
       "2                                   Spectre   \n",
       "3                     The Dark Knight Rises   \n",
       "4                               John Carter   \n",
       "\n",
       "                                            overview  popularity  \\\n",
       "0  In the 22nd century, a paraplegic Marine is di...  150.437577   \n",
       "1  Captain Barbossa, long believed to be dead, ha...  139.082615   \n",
       "2  A cryptic message from Bond’s past sends him o...  107.376788   \n",
       "3  Following the death of District Attorney Harve...  112.312950   \n",
       "4  John Carter is a war-weary, former military ca...   43.926995   \n",
       "\n",
       "                                production_companies  ...     revenue runtime  \\\n",
       "0  [{\"name\": \"Ingenious Film Partners\", \"id\": 289...  ...  2787965087   162.0   \n",
       "1  [{\"name\": \"Walt Disney Pictures\", \"id\": 2}, {\"...  ...   961000000   169.0   \n",
       "2  [{\"name\": \"Columbia Pictures\", \"id\": 5}, {\"nam...  ...   880674609   148.0   \n",
       "3  [{\"name\": \"Legendary Pictures\", \"id\": 923}, {\"...  ...  1084939099   165.0   \n",
       "4        [{\"name\": \"Walt Disney Pictures\", \"id\": 2}]  ...   284139100   132.0   \n",
       "\n",
       "                                    spoken_languages    status  \\\n",
       "0  [{\"iso_639_1\": \"en\", \"name\": \"English\"}, {\"iso...  Released   \n",
       "1           [{\"iso_639_1\": \"en\", \"name\": \"English\"}]  Released   \n",
       "2  [{\"iso_639_1\": \"fr\", \"name\": \"Fran\\u00e7ais\"},...  Released   \n",
       "3           [{\"iso_639_1\": \"en\", \"name\": \"English\"}]  Released   \n",
       "4           [{\"iso_639_1\": \"en\", \"name\": \"English\"}]  Released   \n",
       "\n",
       "                                          tagline  \\\n",
       "0                     Enter the World of Pandora.   \n",
       "1  At the end of the world, the adventure begins.   \n",
       "2                           A Plan No One Escapes   \n",
       "3                                 The Legend Ends   \n",
       "4            Lost in our world, found in another.   \n",
       "\n",
       "                                      title vote_average vote_count  \\\n",
       "0                                    Avatar          7.2      11800   \n",
       "1  Pirates of the Caribbean: At World's End          6.9       4500   \n",
       "2                                   Spectre          6.3       4466   \n",
       "3                     The Dark Knight Rises          7.6       9106   \n",
       "4                               John Carter          6.1       2124   \n",
       "\n",
       "                                                cast  \\\n",
       "0  [{\"cast_id\": 242, \"character\": \"Jake Sully\", \"...   \n",
       "1  [{\"cast_id\": 4, \"character\": \"Captain Jack Spa...   \n",
       "2  [{\"cast_id\": 1, \"character\": \"James Bond\", \"cr...   \n",
       "3  [{\"cast_id\": 2, \"character\": \"Bruce Wayne / Ba...   \n",
       "4  [{\"cast_id\": 5, \"character\": \"John Carter\", \"c...   \n",
       "\n",
       "                                                crew  \n",
       "0  [{\"credit_id\": \"52fe48009251416c750aca23\", \"de...  \n",
       "1  [{\"credit_id\": \"52fe4232c3a36847f800b579\", \"de...  \n",
       "2  [{\"credit_id\": \"54805967c3a36829b5002c41\", \"de...  \n",
       "3  [{\"credit_id\": \"52fe4781c3a36847f81398c3\", \"de...  \n",
       "4  [{\"credit_id\": \"52fe479ac3a36847f813eaa3\", \"de...  \n",
       "\n",
       "[5 rows x 22 columns]"
      ]
     },
     "execution_count": 7,
     "metadata": {},
     "output_type": "execute_result"
    }
   ],
   "source": [
    "movies_copy.head()"
   ]
  },
  {
   "cell_type": "markdown",
   "id": "770ced77",
   "metadata": {},
   "source": [
    "### Atenção"
   ]
  },
  {
   "cell_type": "markdown",
   "id": "261e9b16",
   "metadata": {},
   "source": [
    "Inicialmente excluiremos as colunas que podem ser utilizadas para a análise de textos. O objetivo é começar uma análise simplificada e ir evoluindo com o progresso do projeto."
   ]
  },
  {
   "cell_type": "code",
   "execution_count": 8,
   "id": "65306d28-22bc-41e7-9e3c-a6a13ae5d49e",
   "metadata": {},
   "outputs": [
    {
     "name": "stdout",
     "output_type": "stream",
     "text": [
      "8\n"
     ]
    }
   ],
   "source": [
    "count = 0\n",
    "for m in movies_copy['status']:\n",
    "    if m != 'Released':\n",
    "        count += 1\n",
    "\n",
    "print(count)"
   ]
  },
  {
   "cell_type": "code",
   "execution_count": 9,
   "id": "9e51a140-cdd4-49c3-a119-81125e1a5420",
   "metadata": {},
   "outputs": [],
   "source": [
    "movies_copy = movies_copy.drop(movies_copy[movies_copy.status != 'Released'].index)"
   ]
  },
  {
   "cell_type": "code",
   "execution_count": 10,
   "id": "748c785a-ce51-4d59-b5a8-ac2677434a20",
   "metadata": {},
   "outputs": [
    {
     "name": "stdout",
     "output_type": "stream",
     "text": [
      "0\n"
     ]
    }
   ],
   "source": [
    "count = 0\n",
    "for m in movies_copy['status']:\n",
    "    if m != 'Released':\n",
    "        count += 1\n",
    "\n",
    "print(count)"
   ]
  },
  {
   "cell_type": "code",
   "execution_count": 42,
   "id": "b8cbf3a4-abe1-470e-9236-0fb92d28a0ac",
   "metadata": {},
   "outputs": [
    {
     "name": "stdout",
     "output_type": "stream",
     "text": [
      "1417\n"
     ]
    }
   ],
   "source": [
    "count = 0\n",
    "for m in movies_copy['revenue']:\n",
    "    if m == 0:\n",
    "        count += 1\n",
    "\n",
    "print(count)"
   ]
  },
  {
   "cell_type": "code",
   "execution_count": 11,
   "id": "02d9242e-87e2-490b-ae0b-ccba2258ac4b",
   "metadata": {},
   "outputs": [],
   "source": [
    "movies_copy = movies_copy.drop(columns={'homepage', 'id', 'keywords', 'original_title', 'overview', 'production_companies', 'tagline', 'status', 'cast', 'crew'})"
   ]
  },
  {
   "cell_type": "markdown",
   "id": "fe850d21",
   "metadata": {},
   "source": [
    "### Exploração de dados"
   ]
  },
  {
   "cell_type": "code",
   "execution_count": 12,
   "id": "a10da6a5",
   "metadata": {},
   "outputs": [
    {
     "name": "stdout",
     "output_type": "stream",
     "text": [
      "<class 'pandas.core.frame.DataFrame'>\n",
      "Int64Index: 4795 entries, 0 to 4802\n",
      "Data columns (total 12 columns):\n",
      " #   Column                Non-Null Count  Dtype  \n",
      "---  ------                --------------  -----  \n",
      " 0   budget                4795 non-null   int64  \n",
      " 1   genres                4795 non-null   object \n",
      " 2   original_language     4795 non-null   object \n",
      " 3   popularity            4795 non-null   float64\n",
      " 4   production_countries  4795 non-null   object \n",
      " 5   release_date          4794 non-null   object \n",
      " 6   revenue               4795 non-null   int64  \n",
      " 7   runtime               4793 non-null   float64\n",
      " 8   spoken_languages      4795 non-null   object \n",
      " 9   title                 4795 non-null   object \n",
      " 10  vote_average          4795 non-null   float64\n",
      " 11  vote_count            4795 non-null   int64  \n",
      "dtypes: float64(3), int64(3), object(6)\n",
      "memory usage: 487.0+ KB\n"
     ]
    }
   ],
   "source": [
    "movies_copy.info()"
   ]
  },
  {
   "cell_type": "markdown",
   "id": "dea57e2b",
   "metadata": {},
   "source": [
    "Como existem apenas 2 filmes sem 'runtime', ou seja, o tempo total de duração do filme, então, iremos retirar essas linhas."
   ]
  },
  {
   "cell_type": "code",
   "execution_count": 13,
   "id": "862637f7",
   "metadata": {},
   "outputs": [],
   "source": [
    "movies_copy = movies_copy.dropna()"
   ]
  },
  {
   "cell_type": "code",
   "execution_count": 14,
   "id": "bc2df5ce",
   "metadata": {},
   "outputs": [
    {
     "name": "stdout",
     "output_type": "stream",
     "text": [
      "<class 'pandas.core.frame.DataFrame'>\n",
      "Int64Index: 4792 entries, 0 to 4802\n",
      "Data columns (total 12 columns):\n",
      " #   Column                Non-Null Count  Dtype  \n",
      "---  ------                --------------  -----  \n",
      " 0   budget                4792 non-null   int64  \n",
      " 1   genres                4792 non-null   object \n",
      " 2   original_language     4792 non-null   object \n",
      " 3   popularity            4792 non-null   float64\n",
      " 4   production_countries  4792 non-null   object \n",
      " 5   release_date          4792 non-null   object \n",
      " 6   revenue               4792 non-null   int64  \n",
      " 7   runtime               4792 non-null   float64\n",
      " 8   spoken_languages      4792 non-null   object \n",
      " 9   title                 4792 non-null   object \n",
      " 10  vote_average          4792 non-null   float64\n",
      " 11  vote_count            4792 non-null   int64  \n",
      "dtypes: float64(3), int64(3), object(6)\n",
      "memory usage: 486.7+ KB\n"
     ]
    }
   ],
   "source": [
    "movies_copy.info()"
   ]
  },
  {
   "cell_type": "code",
   "execution_count": 15,
   "id": "0991f623",
   "metadata": {},
   "outputs": [
    {
     "data": {
      "image/png": "[encoded data removed]",
      "text/plain": [
       "<Figure size 1440x1080 with 6 Axes>"
      ]
     },
     "metadata": {
      "needs_background": "light"
     },
     "output_type": "display_data"
    }
   ],
   "source": [
    "movies_copy.hist(bins=50, figsize=(20, 15))\n",
    "plt.show()"
   ]
  },
  {
   "cell_type": "markdown",
   "id": "0b1a02c9",
   "metadata": {},
   "source": [
    "Visualizando os histogramas acima é possível perceber que não há nenhuma anomalia com a base de dados e, portanto, é posssível continuar com a análise sem nenhuma necessidade de manipulação."
   ]
  },
  {
   "cell_type": "code",
   "execution_count": 16,
   "id": "a69b85f4",
   "metadata": {},
   "outputs": [],
   "source": [
    "correlation_matrix = movies_copy.corr()"
   ]
  },
  {
   "cell_type": "markdown",
   "id": "644ae5bc",
   "metadata": {},
   "source": [
    "Com a matriz de correlação pode-se inferir também que a receita de cada filme tem maior correlação com a quantidade de votos (0.78)"
   ]
  },
  {
   "cell_type": "code",
   "execution_count": 17,
   "id": "973b30da",
   "metadata": {},
   "outputs": [
    {
     "data": {
      "text/html": [
       "<div>\n",
       "<style scoped>\n",
       "    .dataframe tbody tr th:only-of-type {\n",
       "        vertical-align: middle;\n",
       "    }\n",
       "\n",
       "    .dataframe tbody tr th {\n",
       "        vertical-align: top;\n",
       "    }\n",
       "\n",
       "    .dataframe thead th {\n",
       "        text-align: right;\n",
       "    }\n",
       "</style>\n",
       "<table border=\"1\" class=\"dataframe\">\n",
       "  <thead>\n",
       "    <tr style=\"text-align: right;\">\n",
       "      <th></th>\n",
       "      <th>budget</th>\n",
       "      <th>popularity</th>\n",
       "      <th>revenue</th>\n",
       "      <th>runtime</th>\n",
       "      <th>vote_average</th>\n",
       "      <th>vote_count</th>\n",
       "    </tr>\n",
       "  </thead>\n",
       "  <tbody>\n",
       "    <tr>\n",
       "      <th>budget</th>\n",
       "      <td>1.000000</td>\n",
       "      <td>0.504913</td>\n",
       "      <td>0.730646</td>\n",
       "      <td>0.269391</td>\n",
       "      <td>0.091992</td>\n",
       "      <td>0.592848</td>\n",
       "    </tr>\n",
       "    <tr>\n",
       "      <th>popularity</th>\n",
       "      <td>0.504913</td>\n",
       "      <td>1.000000</td>\n",
       "      <td>0.644469</td>\n",
       "      <td>0.224892</td>\n",
       "      <td>0.274898</td>\n",
       "      <td>0.777953</td>\n",
       "    </tr>\n",
       "    <tr>\n",
       "      <th>revenue</th>\n",
       "      <td>0.730646</td>\n",
       "      <td>0.644469</td>\n",
       "      <td>1.000000</td>\n",
       "      <td>0.251035</td>\n",
       "      <td>0.197735</td>\n",
       "      <td>0.781349</td>\n",
       "    </tr>\n",
       "    <tr>\n",
       "      <th>runtime</th>\n",
       "      <td>0.269391</td>\n",
       "      <td>0.224892</td>\n",
       "      <td>0.251035</td>\n",
       "      <td>1.000000</td>\n",
       "      <td>0.376450</td>\n",
       "      <td>0.271866</td>\n",
       "    </tr>\n",
       "    <tr>\n",
       "      <th>vote_average</th>\n",
       "      <td>0.091992</td>\n",
       "      <td>0.274898</td>\n",
       "      <td>0.197735</td>\n",
       "      <td>0.376450</td>\n",
       "      <td>1.000000</td>\n",
       "      <td>0.314647</td>\n",
       "    </tr>\n",
       "    <tr>\n",
       "      <th>vote_count</th>\n",
       "      <td>0.592848</td>\n",
       "      <td>0.777953</td>\n",
       "      <td>0.781349</td>\n",
       "      <td>0.271866</td>\n",
       "      <td>0.314647</td>\n",
       "      <td>1.000000</td>\n",
       "    </tr>\n",
       "  </tbody>\n",
       "</table>\n",
       "</div>"
      ],
      "text/plain": [
       "                budget  popularity   revenue   runtime  vote_average  \\\n",
       "budget        1.000000    0.504913  0.730646  0.269391      0.091992   \n",
       "popularity    0.504913    1.000000  0.644469  0.224892      0.274898   \n",
       "revenue       0.730646    0.644469  1.000000  0.251035      0.197735   \n",
       "runtime       0.269391    0.224892  0.251035  1.000000      0.376450   \n",
       "vote_average  0.091992    0.274898  0.197735  0.376450      1.000000   \n",
       "vote_count    0.592848    0.777953  0.781349  0.271866      0.314647   \n",
       "\n",
       "              vote_count  \n",
       "budget          0.592848  \n",
       "popularity      0.777953  \n",
       "revenue         0.781349  \n",
       "runtime         0.271866  \n",
       "vote_average    0.314647  \n",
       "vote_count      1.000000  "
      ]
     },
     "execution_count": 17,
     "metadata": {},
     "output_type": "execute_result"
    }
   ],
   "source": [
    "correlation_matrix"
   ]
  },
  {
   "cell_type": "markdown",
   "id": "0681f943",
   "metadata": {},
   "source": [
    "### Separação de dados treinamento/teste"
   ]
  },
  {
   "cell_type": "markdown",
   "id": "73ccf8b3",
   "metadata": {},
   "source": [
    "Para mantermos a integridade dos dados de treinamento/teste é necessário fazer uma separação estratificada. Nesse sentido, será feita a separação pela variável vote_count."
   ]
  },
  {
   "cell_type": "code",
   "execution_count": 18,
   "id": "292f5316",
   "metadata": {},
   "outputs": [
    {
     "data": {
      "text/plain": [
       "13752"
      ]
     },
     "execution_count": 18,
     "metadata": {},
     "output_type": "execute_result"
    }
   ],
   "source": [
    "movies_copy['vote_count'].max()"
   ]
  },
  {
   "cell_type": "code",
   "execution_count": 19,
   "id": "18500b56",
   "metadata": {},
   "outputs": [
    {
     "data": {
      "text/plain": [
       "0"
      ]
     },
     "execution_count": 19,
     "metadata": {},
     "output_type": "execute_result"
    }
   ],
   "source": [
    "movies_copy['vote_count'].min()"
   ]
  },
  {
   "cell_type": "code",
   "execution_count": 20,
   "id": "20477429",
   "metadata": {},
   "outputs": [],
   "source": [
    "def stratified_shuffle(x):\n",
    "    if x <= 2751:\n",
    "        return 1.0\n",
    "    elif x > 2751 and x <= 5502:\n",
    "        return 2.0\n",
    "    elif x > 5502 and x <= 8253:\n",
    "        return 3.0\n",
    "    elif x > 8253 and x <= 11004:\n",
    "        return 4.0\n",
    "    else:\n",
    "        return 5.0"
   ]
  },
  {
   "cell_type": "code",
   "execution_count": 21,
   "id": "4a555eaf",
   "metadata": {},
   "outputs": [],
   "source": [
    "movies_copy['vote_count_cat'] = movies_copy['vote_count'].astype(int)"
   ]
  },
  {
   "cell_type": "code",
   "execution_count": 22,
   "id": "4e051e1d",
   "metadata": {},
   "outputs": [],
   "source": [
    "movies_copy['vote_count_cat'] = movies_copy['vote_count'].apply(stratified_shuffle)"
   ]
  },
  {
   "cell_type": "code",
   "execution_count": 23,
   "id": "81e6ee75",
   "metadata": {},
   "outputs": [
    {
     "data": {
      "text/plain": [
       "1.0    0.939900\n",
       "2.0    0.045492\n",
       "3.0    0.010643\n",
       "4.0    0.003130\n",
       "5.0    0.000835\n",
       "Name: vote_count_cat, dtype: float64"
      ]
     },
     "execution_count": 23,
     "metadata": {},
     "output_type": "execute_result"
    }
   ],
   "source": [
    "movies_copy['vote_count_cat'].value_counts(True)"
   ]
  },
  {
   "cell_type": "code",
   "execution_count": 24,
   "id": "3aaebaa8-d378-4df8-877a-66a7c53d7ffe",
   "metadata": {},
   "outputs": [],
   "source": [
    "movies_copy = movies_copy.reset_index()"
   ]
  },
  {
   "cell_type": "code",
   "execution_count": 25,
   "id": "9dda0a2d",
   "metadata": {},
   "outputs": [],
   "source": [
    "# Divide, de modo estratificado, o conjunto de dados.\n",
    "from sklearn.model_selection import StratifiedShuffleSplit\n",
    "\n",
    "split = StratifiedShuffleSplit(\n",
    "    n_splits=1,\n",
    "    test_size=0.2,\n",
    "    random_state=RANDOM_SEED,\n",
    ")\n",
    "for train_index, test_index in split.split(movies_copy, movies_copy['vote_count_cat']):\n",
    "    strat_train_set = movies_copy.loc[train_index]\n",
    "    strat_test_set = movies_copy.loc[test_index]"
   ]
  },
  {
   "cell_type": "markdown",
   "id": "8d8c04dd",
   "metadata": {},
   "source": [
    "Verificando se a separação estratificada foi bem sucedida:"
   ]
  },
  {
   "cell_type": "code",
   "execution_count": 26,
   "id": "9b801fb2",
   "metadata": {},
   "outputs": [
    {
     "data": {
      "text/plain": [
       "1.0    0.939995\n",
       "2.0    0.045395\n",
       "3.0    0.010697\n",
       "4.0    0.003131\n",
       "5.0    0.000783\n",
       "Name: vote_count_cat, dtype: float64"
      ]
     },
     "execution_count": 26,
     "metadata": {},
     "output_type": "execute_result"
    }
   ],
   "source": [
    "strat_train_set['vote_count_cat'].value_counts(True)"
   ]
  },
  {
   "cell_type": "code",
   "execution_count": 27,
   "id": "d3be2cbb",
   "metadata": {},
   "outputs": [
    {
     "data": {
      "text/plain": [
       "1.0    0.939520\n",
       "2.0    0.045881\n",
       "3.0    0.010428\n",
       "4.0    0.003128\n",
       "5.0    0.001043\n",
       "Name: vote_count_cat, dtype: float64"
      ]
     },
     "execution_count": 27,
     "metadata": {},
     "output_type": "execute_result"
    }
   ],
   "source": [
    "strat_test_set['vote_count_cat'].value_counts(True)"
   ]
  },
  {
   "cell_type": "code",
   "execution_count": 28,
   "id": "b2960724",
   "metadata": {},
   "outputs": [],
   "source": [
    "# Remove a coluna nova, que foi adicionada apenas temporariamente.\n",
    "strat_train_set.drop(['vote_count_cat'], axis=1, inplace=True)\n",
    "strat_test_set.drop(['vote_count_cat'], axis=1, inplace=True)"
   ]
  },
  {
   "cell_type": "code",
   "execution_count": 29,
   "id": "55d3a0df",
   "metadata": {},
   "outputs": [
    {
     "name": "stdout",
     "output_type": "stream",
     "text": [
      "<class 'pandas.core.frame.DataFrame'>\n",
      "Int64Index: 3833 entries, 2057 to 2213\n",
      "Data columns (total 13 columns):\n",
      " #   Column                Non-Null Count  Dtype  \n",
      "---  ------                --------------  -----  \n",
      " 0   index                 3833 non-null   int64  \n",
      " 1   budget                3833 non-null   int64  \n",
      " 2   genres                3833 non-null   object \n",
      " 3   original_language     3833 non-null   object \n",
      " 4   popularity            3833 non-null   float64\n",
      " 5   production_countries  3833 non-null   object \n",
      " 6   release_date          3833 non-null   object \n",
      " 7   revenue               3833 non-null   int64  \n",
      " 8   runtime               3833 non-null   float64\n",
      " 9   spoken_languages      3833 non-null   object \n",
      " 10  title                 3833 non-null   object \n",
      " 11  vote_average          3833 non-null   float64\n",
      " 12  vote_count            3833 non-null   int64  \n",
      "dtypes: float64(3), int64(4), object(6)\n",
      "memory usage: 419.2+ KB\n"
     ]
    }
   ],
   "source": [
    "strat_train_set.info()"
   ]
  },
  {
   "cell_type": "code",
   "execution_count": 30,
   "id": "f568c0cb-c5a9-4d8a-8e73-eed76828be0c",
   "metadata": {},
   "outputs": [
    {
     "name": "stdout",
     "output_type": "stream",
     "text": [
      "<class 'pandas.core.frame.DataFrame'>\n",
      "Int64Index: 959 entries, 1803 to 4570\n",
      "Data columns (total 13 columns):\n",
      " #   Column                Non-Null Count  Dtype  \n",
      "---  ------                --------------  -----  \n",
      " 0   index                 959 non-null    int64  \n",
      " 1   budget                959 non-null    int64  \n",
      " 2   genres                959 non-null    object \n",
      " 3   original_language     959 non-null    object \n",
      " 4   popularity            959 non-null    float64\n",
      " 5   production_countries  959 non-null    object \n",
      " 6   release_date          959 non-null    object \n",
      " 7   revenue               959 non-null    int64  \n",
      " 8   runtime               959 non-null    float64\n",
      " 9   spoken_languages      959 non-null    object \n",
      " 10  title                 959 non-null    object \n",
      " 11  vote_average          959 non-null    float64\n",
      " 12  vote_count            959 non-null    int64  \n",
      "dtypes: float64(3), int64(4), object(6)\n",
      "memory usage: 104.9+ KB\n"
     ]
    }
   ],
   "source": [
    "strat_test_set.info()"
   ]
  },
  {
   "cell_type": "markdown",
   "id": "22cfbb90-73c6-4501-b442-93652f955045",
   "metadata": {},
   "source": [
    "### Explorando melhor os dados de treinamento - Correlação entre variáveis"
   ]
  },
  {
   "cell_type": "code",
   "execution_count": 31,
   "id": "72b3a850-aef3-4788-9583-b3753c527ae2",
   "metadata": {},
   "outputs": [],
   "source": [
    "movies_train = strat_train_set.copy()"
   ]
  },
  {
   "cell_type": "code",
   "execution_count": 32,
   "id": "347dda42-60ec-403f-9577-46e3b4620d0d",
   "metadata": {},
   "outputs": [
    {
     "data": {
      "text/html": [
       "<div>\n",
       "<style scoped>\n",
       "    .dataframe tbody tr th:only-of-type {\n",
       "        vertical-align: middle;\n",
       "    }\n",
       "\n",
       "    .dataframe tbody tr th {\n",
       "        vertical-align: top;\n",
       "    }\n",
       "\n",
       "    .dataframe thead th {\n",
       "        text-align: right;\n",
       "    }\n",
       "</style>\n",
       "<table border=\"1\" class=\"dataframe\">\n",
       "  <thead>\n",
       "    <tr style=\"text-align: right;\">\n",
       "      <th></th>\n",
       "      <th>index</th>\n",
       "      <th>budget</th>\n",
       "      <th>popularity</th>\n",
       "      <th>revenue</th>\n",
       "      <th>runtime</th>\n",
       "      <th>vote_average</th>\n",
       "      <th>vote_count</th>\n",
       "    </tr>\n",
       "  </thead>\n",
       "  <tbody>\n",
       "    <tr>\n",
       "      <th>index</th>\n",
       "      <td>1.000000</td>\n",
       "      <td>-0.757018</td>\n",
       "      <td>-0.421781</td>\n",
       "      <td>-0.520165</td>\n",
       "      <td>-0.314543</td>\n",
       "      <td>-0.115214</td>\n",
       "      <td>-0.439762</td>\n",
       "    </tr>\n",
       "    <tr>\n",
       "      <th>budget</th>\n",
       "      <td>-0.757018</td>\n",
       "      <td>1.000000</td>\n",
       "      <td>0.510846</td>\n",
       "      <td>0.729063</td>\n",
       "      <td>0.264141</td>\n",
       "      <td>0.089055</td>\n",
       "      <td>0.585862</td>\n",
       "    </tr>\n",
       "    <tr>\n",
       "      <th>popularity</th>\n",
       "      <td>-0.421781</td>\n",
       "      <td>0.510846</td>\n",
       "      <td>1.000000</td>\n",
       "      <td>0.664975</td>\n",
       "      <td>0.223455</td>\n",
       "      <td>0.278089</td>\n",
       "      <td>0.774411</td>\n",
       "    </tr>\n",
       "    <tr>\n",
       "      <th>revenue</th>\n",
       "      <td>-0.520165</td>\n",
       "      <td>0.729063</td>\n",
       "      <td>0.664975</td>\n",
       "      <td>1.000000</td>\n",
       "      <td>0.244248</td>\n",
       "      <td>0.192330</td>\n",
       "      <td>0.776629</td>\n",
       "    </tr>\n",
       "    <tr>\n",
       "      <th>runtime</th>\n",
       "      <td>-0.314543</td>\n",
       "      <td>0.264141</td>\n",
       "      <td>0.223455</td>\n",
       "      <td>0.244248</td>\n",
       "      <td>1.000000</td>\n",
       "      <td>0.374599</td>\n",
       "      <td>0.269304</td>\n",
       "    </tr>\n",
       "    <tr>\n",
       "      <th>vote_average</th>\n",
       "      <td>-0.115214</td>\n",
       "      <td>0.089055</td>\n",
       "      <td>0.278089</td>\n",
       "      <td>0.192330</td>\n",
       "      <td>0.374599</td>\n",
       "      <td>1.000000</td>\n",
       "      <td>0.314150</td>\n",
       "    </tr>\n",
       "    <tr>\n",
       "      <th>vote_count</th>\n",
       "      <td>-0.439762</td>\n",
       "      <td>0.585862</td>\n",
       "      <td>0.774411</td>\n",
       "      <td>0.776629</td>\n",
       "      <td>0.269304</td>\n",
       "      <td>0.314150</td>\n",
       "      <td>1.000000</td>\n",
       "    </tr>\n",
       "  </tbody>\n",
       "</table>\n",
       "</div>"
      ],
      "text/plain": [
       "                 index    budget  popularity   revenue   runtime  \\\n",
       "index         1.000000 -0.757018   -0.421781 -0.520165 -0.314543   \n",
       "budget       -0.757018  1.000000    0.510846  0.729063  0.264141   \n",
       "popularity   -0.421781  0.510846    1.000000  0.664975  0.223455   \n",
       "revenue      -0.520165  0.729063    0.664975  1.000000  0.244248   \n",
       "runtime      -0.314543  0.264141    0.223455  0.244248  1.000000   \n",
       "vote_average -0.115214  0.089055    0.278089  0.192330  0.374599   \n",
       "vote_count   -0.439762  0.585862    0.774411  0.776629  0.269304   \n",
       "\n",
       "              vote_average  vote_count  \n",
       "index            -0.115214   -0.439762  \n",
       "budget            0.089055    0.585862  \n",
       "popularity        0.278089    0.774411  \n",
       "revenue           0.192330    0.776629  \n",
       "runtime           0.374599    0.269304  \n",
       "vote_average      1.000000    0.314150  \n",
       "vote_count        0.314150    1.000000  "
      ]
     },
     "execution_count": 32,
     "metadata": {},
     "output_type": "execute_result"
    }
   ],
   "source": [
    "correlation_matrix = movies_train.corr()\n",
    "correlation_matrix"
   ]
  },
  {
   "cell_type": "code",
   "execution_count": 33,
   "id": "a85d38e6-e2f0-4542-9f13-5e7f05641fef",
   "metadata": {},
   "outputs": [
    {
     "data": {
      "text/html": [
       "<div>\n",
       "<style scoped>\n",
       "    .dataframe tbody tr th:only-of-type {\n",
       "        vertical-align: middle;\n",
       "    }\n",
       "\n",
       "    .dataframe tbody tr th {\n",
       "        vertical-align: top;\n",
       "    }\n",
       "\n",
       "    .dataframe thead th {\n",
       "        text-align: right;\n",
       "    }\n",
       "</style>\n",
       "<table border=\"1\" class=\"dataframe\">\n",
       "  <thead>\n",
       "    <tr style=\"text-align: right;\">\n",
       "      <th></th>\n",
       "      <th>index</th>\n",
       "      <th>budget</th>\n",
       "      <th>popularity</th>\n",
       "      <th>revenue</th>\n",
       "      <th>runtime</th>\n",
       "      <th>vote_average</th>\n",
       "      <th>vote_count</th>\n",
       "    </tr>\n",
       "  </thead>\n",
       "  <tbody>\n",
       "    <tr>\n",
       "      <th>index</th>\n",
       "      <td>1.000000</td>\n",
       "      <td>-0.853516</td>\n",
       "      <td>-0.606536</td>\n",
       "      <td>-0.671099</td>\n",
       "      <td>-0.359226</td>\n",
       "      <td>-0.012022</td>\n",
       "      <td>-0.617067</td>\n",
       "    </tr>\n",
       "    <tr>\n",
       "      <th>budget</th>\n",
       "      <td>-0.853516</td>\n",
       "      <td>1.000000</td>\n",
       "      <td>0.647972</td>\n",
       "      <td>0.756093</td>\n",
       "      <td>0.330110</td>\n",
       "      <td>0.056542</td>\n",
       "      <td>0.663010</td>\n",
       "    </tr>\n",
       "    <tr>\n",
       "      <th>popularity</th>\n",
       "      <td>-0.606536</td>\n",
       "      <td>0.647972</td>\n",
       "      <td>1.000000</td>\n",
       "      <td>0.775908</td>\n",
       "      <td>0.305750</td>\n",
       "      <td>0.359281</td>\n",
       "      <td>0.959418</td>\n",
       "    </tr>\n",
       "    <tr>\n",
       "      <th>revenue</th>\n",
       "      <td>-0.671099</td>\n",
       "      <td>0.756093</td>\n",
       "      <td>0.775908</td>\n",
       "      <td>1.000000</td>\n",
       "      <td>0.319880</td>\n",
       "      <td>0.239623</td>\n",
       "      <td>0.802502</td>\n",
       "    </tr>\n",
       "    <tr>\n",
       "      <th>runtime</th>\n",
       "      <td>-0.359226</td>\n",
       "      <td>0.330110</td>\n",
       "      <td>0.305750</td>\n",
       "      <td>0.319880</td>\n",
       "      <td>1.000000</td>\n",
       "      <td>0.387964</td>\n",
       "      <td>0.306548</td>\n",
       "    </tr>\n",
       "    <tr>\n",
       "      <th>vote_average</th>\n",
       "      <td>-0.012022</td>\n",
       "      <td>0.056542</td>\n",
       "      <td>0.359281</td>\n",
       "      <td>0.239623</td>\n",
       "      <td>0.387964</td>\n",
       "      <td>1.000000</td>\n",
       "      <td>0.379118</td>\n",
       "    </tr>\n",
       "    <tr>\n",
       "      <th>vote_count</th>\n",
       "      <td>-0.617067</td>\n",
       "      <td>0.663010</td>\n",
       "      <td>0.959418</td>\n",
       "      <td>0.802502</td>\n",
       "      <td>0.306548</td>\n",
       "      <td>0.379118</td>\n",
       "      <td>1.000000</td>\n",
       "    </tr>\n",
       "  </tbody>\n",
       "</table>\n",
       "</div>"
      ],
      "text/plain": [
       "                 index    budget  popularity   revenue   runtime  \\\n",
       "index         1.000000 -0.853516   -0.606536 -0.671099 -0.359226   \n",
       "budget       -0.853516  1.000000    0.647972  0.756093  0.330110   \n",
       "popularity   -0.606536  0.647972    1.000000  0.775908  0.305750   \n",
       "revenue      -0.671099  0.756093    0.775908  1.000000  0.319880   \n",
       "runtime      -0.359226  0.330110    0.305750  0.319880  1.000000   \n",
       "vote_average -0.012022  0.056542    0.359281  0.239623  0.387964   \n",
       "vote_count   -0.617067  0.663010    0.959418  0.802502  0.306548   \n",
       "\n",
       "              vote_average  vote_count  \n",
       "index            -0.012022   -0.617067  \n",
       "budget            0.056542    0.663010  \n",
       "popularity        0.359281    0.959418  \n",
       "revenue           0.239623    0.802502  \n",
       "runtime           0.387964    0.306548  \n",
       "vote_average      1.000000    0.379118  \n",
       "vote_count        0.379118    1.000000  "
      ]
     },
     "execution_count": 33,
     "metadata": {},
     "output_type": "execute_result"
    }
   ],
   "source": [
    "movies_train.corr(method='spearman')"
   ]
  },
  {
   "cell_type": "code",
   "execution_count": 34,
   "id": "2cddc10f-e800-4a87-9503-8b5e29a0cceb",
   "metadata": {},
   "outputs": [
    {
     "data": {
      "text/html": [
       "<div>\n",
       "<style scoped>\n",
       "    .dataframe tbody tr th:only-of-type {\n",
       "        vertical-align: middle;\n",
       "    }\n",
       "\n",
       "    .dataframe tbody tr th {\n",
       "        vertical-align: top;\n",
       "    }\n",
       "\n",
       "    .dataframe thead th {\n",
       "        text-align: right;\n",
       "    }\n",
       "</style>\n",
       "<table border=\"1\" class=\"dataframe\">\n",
       "  <thead>\n",
       "    <tr style=\"text-align: right;\">\n",
       "      <th></th>\n",
       "      <th>index</th>\n",
       "      <th>budget</th>\n",
       "      <th>popularity</th>\n",
       "      <th>revenue</th>\n",
       "      <th>runtime</th>\n",
       "      <th>vote_average</th>\n",
       "      <th>vote_count</th>\n",
       "    </tr>\n",
       "  </thead>\n",
       "  <tbody>\n",
       "    <tr>\n",
       "      <th>index</th>\n",
       "      <td>1.000000</td>\n",
       "      <td>-0.799680</td>\n",
       "      <td>-0.436637</td>\n",
       "      <td>-0.571434</td>\n",
       "      <td>-0.264589</td>\n",
       "      <td>-0.038171</td>\n",
       "      <td>-0.445947</td>\n",
       "    </tr>\n",
       "    <tr>\n",
       "      <th>budget</th>\n",
       "      <td>-0.799680</td>\n",
       "      <td>1.000000</td>\n",
       "      <td>0.448985</td>\n",
       "      <td>0.463603</td>\n",
       "      <td>0.200733</td>\n",
       "      <td>0.003233</td>\n",
       "      <td>0.460595</td>\n",
       "    </tr>\n",
       "    <tr>\n",
       "      <th>popularity</th>\n",
       "      <td>-0.436637</td>\n",
       "      <td>0.448985</td>\n",
       "      <td>1.000000</td>\n",
       "      <td>0.475728</td>\n",
       "      <td>0.191582</td>\n",
       "      <td>0.219936</td>\n",
       "      <td>0.840365</td>\n",
       "    </tr>\n",
       "    <tr>\n",
       "      <th>revenue</th>\n",
       "      <td>-0.571434</td>\n",
       "      <td>0.463603</td>\n",
       "      <td>0.475728</td>\n",
       "      <td>1.000000</td>\n",
       "      <td>0.187383</td>\n",
       "      <td>0.118244</td>\n",
       "      <td>0.557155</td>\n",
       "    </tr>\n",
       "    <tr>\n",
       "      <th>runtime</th>\n",
       "      <td>-0.264589</td>\n",
       "      <td>0.200733</td>\n",
       "      <td>0.191582</td>\n",
       "      <td>0.187383</td>\n",
       "      <td>1.000000</td>\n",
       "      <td>0.238992</td>\n",
       "      <td>0.207364</td>\n",
       "    </tr>\n",
       "    <tr>\n",
       "      <th>vote_average</th>\n",
       "      <td>-0.038171</td>\n",
       "      <td>0.003233</td>\n",
       "      <td>0.219936</td>\n",
       "      <td>0.118244</td>\n",
       "      <td>0.238992</td>\n",
       "      <td>1.000000</td>\n",
       "      <td>0.262637</td>\n",
       "    </tr>\n",
       "    <tr>\n",
       "      <th>vote_count</th>\n",
       "      <td>-0.445947</td>\n",
       "      <td>0.460595</td>\n",
       "      <td>0.840365</td>\n",
       "      <td>0.557155</td>\n",
       "      <td>0.207364</td>\n",
       "      <td>0.262637</td>\n",
       "      <td>1.000000</td>\n",
       "    </tr>\n",
       "  </tbody>\n",
       "</table>\n",
       "</div>"
      ],
      "text/plain": [
       "                 index    budget  popularity   revenue   runtime  \\\n",
       "index         1.000000 -0.799680   -0.436637 -0.571434 -0.264589   \n",
       "budget       -0.799680  1.000000    0.448985  0.463603  0.200733   \n",
       "popularity   -0.436637  0.448985    1.000000  0.475728  0.191582   \n",
       "revenue      -0.571434  0.463603    0.475728  1.000000  0.187383   \n",
       "runtime      -0.264589  0.200733    0.191582  0.187383  1.000000   \n",
       "vote_average -0.038171  0.003233    0.219936  0.118244  0.238992   \n",
       "vote_count   -0.445947  0.460595    0.840365  0.557155  0.207364   \n",
       "\n",
       "              vote_average  vote_count  \n",
       "index            -0.038171   -0.445947  \n",
       "budget            0.003233    0.460595  \n",
       "popularity        0.219936    0.840365  \n",
       "revenue           0.118244    0.557155  \n",
       "runtime           0.238992    0.207364  \n",
       "vote_average      1.000000    0.262637  \n",
       "vote_count        0.262637    1.000000  "
      ]
     },
     "execution_count": 34,
     "metadata": {},
     "output_type": "execute_result"
    }
   ],
   "source": [
    "movies_train.corr(method='kendall')"
   ]
  },
  {
   "cell_type": "code",
   "execution_count": 35,
   "id": "29de538f-1053-41fc-bff4-388565149b8c",
   "metadata": {},
   "outputs": [
    {
     "data": {
      "text/plain": [
       "vote_count      1.000000\n",
       "revenue         0.776629\n",
       "popularity      0.774411\n",
       "budget          0.585862\n",
       "vote_average    0.314150\n",
       "runtime         0.269304\n",
       "index          -0.439762\n",
       "Name: vote_count, dtype: float64"
      ]
     },
     "execution_count": 35,
     "metadata": {},
     "output_type": "execute_result"
    }
   ],
   "source": [
    "correlation_matrix['vote_count'].sort_values(ascending=False)"
   ]
  },
  {
   "cell_type": "markdown",
   "id": "229e5b1c-b36c-4548-acd4-5613906aa0ed",
   "metadata": {},
   "source": [
    "### Preparando os dados para o modelo - Separando X e y"
   ]
  },
  {
   "cell_type": "code",
   "execution_count": 36,
   "id": "b14556cc-5f8b-4dbe-a0a9-adff139f67b0",
   "metadata": {},
   "outputs": [
    {
     "name": "stdout",
     "output_type": "stream",
     "text": [
      "<class 'pandas.core.frame.DataFrame'>\n",
      "Int64Index: 3833 entries, 2057 to 2213\n",
      "Data columns (total 13 columns):\n",
      " #   Column                Non-Null Count  Dtype  \n",
      "---  ------                --------------  -----  \n",
      " 0   index                 3833 non-null   int64  \n",
      " 1   budget                3833 non-null   int64  \n",
      " 2   genres                3833 non-null   object \n",
      " 3   original_language     3833 non-null   object \n",
      " 4   popularity            3833 non-null   float64\n",
      " 5   production_countries  3833 non-null   object \n",
      " 6   release_date          3833 non-null   object \n",
      " 7   revenue               3833 non-null   int64  \n",
      " 8   runtime               3833 non-null   float64\n",
      " 9   spoken_languages      3833 non-null   object \n",
      " 10  title                 3833 non-null   object \n",
      " 11  vote_average          3833 non-null   float64\n",
      " 12  vote_count            3833 non-null   int64  \n",
      "dtypes: float64(3), int64(4), object(6)\n",
      "memory usage: 419.2+ KB\n"
     ]
    }
   ],
   "source": [
    "strat_train_set.info()"
   ]
  },
  {
   "cell_type": "code",
   "execution_count": 37,
   "id": "b9fc9610-5a9d-48e5-a3ea-f5b95b6a85e1",
   "metadata": {},
   "outputs": [
    {
     "name": "stdout",
     "output_type": "stream",
     "text": [
      "<class 'pandas.core.frame.DataFrame'>\n",
      "Int64Index: 3833 entries, 2057 to 2213\n",
      "Data columns (total 7 columns):\n",
      " #   Column        Non-Null Count  Dtype  \n",
      "---  ------        --------------  -----  \n",
      " 0   index         3833 non-null   int64  \n",
      " 1   budget        3833 non-null   int64  \n",
      " 2   popularity    3833 non-null   float64\n",
      " 3   revenue       3833 non-null   int64  \n",
      " 4   runtime       3833 non-null   float64\n",
      " 5   vote_average  3833 non-null   float64\n",
      " 6   vote_count    3833 non-null   int64  \n",
      "dtypes: float64(3), int64(4)\n",
      "memory usage: 239.6 KB\n"
     ]
    }
   ],
   "source": [
    "strat_train_set_copy = strat_train_set.drop(columns={'genres', 'original_language', 'production_countries', 'release_date', 'spoken_languages', 'title'})\n",
    "strat_train_set_copy.info()"
   ]
  },
  {
   "cell_type": "code",
   "execution_count": 38,
   "id": "9688934b-11ac-4549-8d8f-5cf3d6a7ad30",
   "metadata": {},
   "outputs": [],
   "source": [
    "# Variáveis independentes: dataset original menos a coluna de valores dependentes.\n",
    "movies = strat_train_set_copy.drop('vote_count', axis=1)\n",
    "\n",
    "# Variável dependente, também chamada de label.\n",
    "movies_labels = strat_train_set_copy['vote_count'].copy()"
   ]
  },
  {
   "cell_type": "markdown",
   "id": "c5998acf-72fe-400a-b88d-2751e20690e3",
   "metadata": {},
   "source": [
    "### Construindo modelos preditivos"
   ]
  },
  {
   "cell_type": "code",
   "execution_count": 39,
   "id": "83f0b22d-1327-4465-a3af-793161e78a15",
   "metadata": {},
   "outputs": [
    {
     "data": {
      "text/plain": [
       "LinearRegression()"
      ]
     },
     "execution_count": 39,
     "metadata": {},
     "output_type": "execute_result"
    }
   ],
   "source": [
    "from sklearn.linear_model import LinearRegression\n",
    "\n",
    "lin_reg = LinearRegression()\n",
    "lin_reg.fit(movies, movies_labels)"
   ]
  },
  {
   "cell_type": "code",
   "execution_count": 40,
   "id": "988ffc90-8456-427b-b526-48e09b65d851",
   "metadata": {},
   "outputs": [
    {
     "data": {
      "text/html": [
       "<div>\n",
       "<style scoped>\n",
       "    .dataframe tbody tr th:only-of-type {\n",
       "        vertical-align: middle;\n",
       "    }\n",
       "\n",
       "    .dataframe tbody tr th {\n",
       "        vertical-align: top;\n",
       "    }\n",
       "\n",
       "    .dataframe thead th {\n",
       "        text-align: right;\n",
       "    }\n",
       "</style>\n",
       "<table border=\"1\" class=\"dataframe\">\n",
       "  <thead>\n",
       "    <tr style=\"text-align: right;\">\n",
       "      <th></th>\n",
       "      <th>index</th>\n",
       "      <th>budget</th>\n",
       "      <th>popularity</th>\n",
       "      <th>revenue</th>\n",
       "      <th>runtime</th>\n",
       "      <th>vote_average</th>\n",
       "      <th>vote_count</th>\n",
       "    </tr>\n",
       "  </thead>\n",
       "  <tbody>\n",
       "    <tr>\n",
       "      <th>2057</th>\n",
       "      <td>2057</td>\n",
       "      <td>22000000</td>\n",
       "      <td>9.088209</td>\n",
       "      <td>12000000</td>\n",
       "      <td>121.0</td>\n",
       "      <td>7.4</td>\n",
       "      <td>98</td>\n",
       "    </tr>\n",
       "    <tr>\n",
       "      <th>2601</th>\n",
       "      <td>2601</td>\n",
       "      <td>0</td>\n",
       "      <td>0.722911</td>\n",
       "      <td>0</td>\n",
       "      <td>76.0</td>\n",
       "      <td>2.9</td>\n",
       "      <td>8</td>\n",
       "    </tr>\n",
       "    <tr>\n",
       "      <th>1897</th>\n",
       "      <td>1897</td>\n",
       "      <td>13000000</td>\n",
       "      <td>6.337063</td>\n",
       "      <td>0</td>\n",
       "      <td>98.0</td>\n",
       "      <td>4.6</td>\n",
       "      <td>82</td>\n",
       "    </tr>\n",
       "    <tr>\n",
       "      <th>2500</th>\n",
       "      <td>2500</td>\n",
       "      <td>16000000</td>\n",
       "      <td>7.251897</td>\n",
       "      <td>0</td>\n",
       "      <td>93.0</td>\n",
       "      <td>4.8</td>\n",
       "      <td>91</td>\n",
       "    </tr>\n",
       "    <tr>\n",
       "      <th>4319</th>\n",
       "      <td>4324</td>\n",
       "      <td>0</td>\n",
       "      <td>0.147886</td>\n",
       "      <td>0</td>\n",
       "      <td>97.0</td>\n",
       "      <td>6.0</td>\n",
       "      <td>9</td>\n",
       "    </tr>\n",
       "  </tbody>\n",
       "</table>\n",
       "</div>"
      ],
      "text/plain": [
       "      index    budget  popularity   revenue  runtime  vote_average  vote_count\n",
       "2057   2057  22000000    9.088209  12000000    121.0           7.4          98\n",
       "2601   2601         0    0.722911         0     76.0           2.9           8\n",
       "1897   1897  13000000    6.337063         0     98.0           4.6          82\n",
       "2500   2500  16000000    7.251897         0     93.0           4.8          91\n",
       "4319   4324         0    0.147886         0     97.0           6.0           9"
      ]
     },
     "execution_count": 40,
     "metadata": {},
     "output_type": "execute_result"
    }
   ],
   "source": [
    "strat_train_set_copy.head()"
   ]
  },
  {
   "cell_type": "code",
   "execution_count": 41,
   "id": "a23fe9a6-2bba-4114-ae8a-46db657cba46",
   "metadata": {},
   "outputs": [],
   "source": [
    "# for e in movies['production_countries']:\n",
    "#     print(e)"
   ]
  },
  {
   "cell_type": "code",
   "execution_count": null,
   "id": "26f445da-0d7d-4cee-8feb-f4f6a2065fb8",
   "metadata": {},
   "outputs": [],
   "source": []
  }
 ],
 "metadata": {
  "kernelspec": {
   "display_name": "Python 3 (ipykernel)",
   "language": "python",
   "name": "python3"
  },
  "language_info": {
   "codemirror_mode": {
    "name": "ipython",
    "version": 3
   },
   "file_extension": ".py",
   "mimetype": "text/x-python",
   "name": "python",
   "nbconvert_exporter": "python",
   "pygments_lexer": "ipython3",
   "version": "3.9.7"
  }
 },
 "nbformat": 4,
 "nbformat_minor": 5
}
